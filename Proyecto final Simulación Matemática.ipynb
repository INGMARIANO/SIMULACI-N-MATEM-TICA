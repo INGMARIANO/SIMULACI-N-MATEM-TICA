{
 "cells": [
  {
   "cell_type": "markdown",
   "id": "0426df0c-1dae-4865-a359-52b89d9270a3",
   "metadata": {},
   "source": [
    "# Proyecto final Simulación Matemática"
   ]
  },
  {
   "cell_type": "markdown",
   "id": "a2e3e7fd-7d0f-44d7-afe5-45b082b68aba",
   "metadata": {},
   "source": [
    "Una persona que entrena con la finalidad de ganar masa múscular con una composición ectomorfa, para completar esta finalidad debe de adquirir habitos saludables como: dormir bien, entrenar a un volumen alto de intensidad y el más importante llevar una alimentación alta en proteína y carbohidratos. No obstante, es una gran problematica para un estudiante foráneo, ya que al ser grandes cantidades de comida puede llegar a tener un precio muy alto, por lo que para este proyecto se tratará de encontrar una solución con un bajo presupuesto."
   ]
  },
  {
   "cell_type": "markdown",
   "id": "6445bfac-6bba-485d-a87c-e6697a328a3d",
   "metadata": {},
   "source": [
    "Por lo que para el desarrollo del proyecto, se realizará una investigación del mercado para saber los precios de porciones empaquetadas en las siguientes tiendas supermercado:"
   ]
  },
  {
   "cell_type": "markdown",
   "id": "544d4f9e-de96-4b82-9a78-bc300e42fafa",
   "metadata": {},
   "source": [
    "* Walmart\n",
    "* Merza\n",
    "* Soriana Hiper\n"
   ]
  },
  {
   "cell_type": "markdown",
   "id": "e4f604a9-cc47-4cde-bbe2-0eacf60ebbb4",
   "metadata": {},
   "source": [
    "Cabe aclarar que los alimentos que se van a comparar, serán comparados por dos variables: gramos de macronutriente y precio, por lo que por ejemplo, un filete de res tendrá menos proteína en comparación a uno de pollo, no obstante, el filete de res es más barato."
   ]
  },
  {
   "cell_type": "markdown",
   "id": "ef5163b2-48e4-4834-a88c-92e630a5b6bf",
   "metadata": {},
   "source": [
    "El resultado final de esta lista, es una lista de compra con alimentos varios, que satisfaga la necesidad de 3 comidas al día, teniedo en cuenta que se hace una compra mensual de comida."
   ]
  },
  {
   "cell_type": "markdown",
   "id": "e16fb7a6-53d2-49b1-b973-52fb8aeec182",
   "metadata": {},
   "source": [
    "Los precios son actuales en la ciudad de Zamora Michoacán, a fecha del 30 de Noviembre de 2024, por lo que si se quiere adaptar este sistema a otras fechas y/o ciudad, se tendría que adaptar el formato de excel anexado a este proyecto. "
   ]
  },
  {
   "cell_type": "markdown",
   "id": "2ce60249-cc9f-4d78-bfa7-cef3d7c281b8",
   "metadata": {},
   "source": [
    "La lista de productos a comparar y sus precios en las diferentes tiendas de conveniencia, son los siguientes:"
   ]
  },
  {
   "cell_type": "code",
   "execution_count": 723,
   "id": "cb02e7b3-b77f-4d29-9f7f-1b2b984f04a3",
   "metadata": {},
   "outputs": [
    {
     "data": {
      "text/html": [
       "<div>\n",
       "<style scoped>\n",
       "    .dataframe tbody tr th:only-of-type {\n",
       "        vertical-align: middle;\n",
       "    }\n",
       "\n",
       "    .dataframe tbody tr th {\n",
       "        vertical-align: top;\n",
       "    }\n",
       "\n",
       "    .dataframe thead th {\n",
       "        text-align: right;\n",
       "    }\n",
       "</style>\n",
       "<table border=\"1\" class=\"dataframe\">\n",
       "  <thead>\n",
       "    <tr style=\"text-align: right;\">\n",
       "      <th></th>\n",
       "      <th>Comida</th>\n",
       "      <th>Walmart</th>\n",
       "      <th>Merza</th>\n",
       "      <th>Soriana Hiper</th>\n",
       "    </tr>\n",
       "  </thead>\n",
       "  <tbody>\n",
       "    <tr>\n",
       "      <th>0</th>\n",
       "      <td>Lata de atun (295 g)</td>\n",
       "      <td>40</td>\n",
       "      <td>39</td>\n",
       "      <td>42</td>\n",
       "    </tr>\n",
       "    <tr>\n",
       "      <th>1</th>\n",
       "      <td>Bisteck de res (Kg)</td>\n",
       "      <td>205</td>\n",
       "      <td>158</td>\n",
       "      <td>149</td>\n",
       "    </tr>\n",
       "    <tr>\n",
       "      <th>2</th>\n",
       "      <td>Pechuga de pollo (kg)</td>\n",
       "      <td>139</td>\n",
       "      <td>133</td>\n",
       "      <td>124</td>\n",
       "    </tr>\n",
       "    <tr>\n",
       "      <th>3</th>\n",
       "      <td>Chuletas de cerdo (kg)</td>\n",
       "      <td>109</td>\n",
       "      <td>149</td>\n",
       "      <td>134</td>\n",
       "    </tr>\n",
       "    <tr>\n",
       "      <th>4</th>\n",
       "      <td>Arroz (1 Kg)</td>\n",
       "      <td>39</td>\n",
       "      <td>34</td>\n",
       "      <td>39</td>\n",
       "    </tr>\n",
       "    <tr>\n",
       "      <th>5</th>\n",
       "      <td>Lentejas (500 gr)</td>\n",
       "      <td>28</td>\n",
       "      <td>29</td>\n",
       "      <td>35</td>\n",
       "    </tr>\n",
       "    <tr>\n",
       "      <th>6</th>\n",
       "      <td>Avena 1(Kg)</td>\n",
       "      <td>32</td>\n",
       "      <td>34</td>\n",
       "      <td>30</td>\n",
       "    </tr>\n",
       "    <tr>\n",
       "      <th>7</th>\n",
       "      <td>Palomitas (87g)</td>\n",
       "      <td>17</td>\n",
       "      <td>15</td>\n",
       "      <td>16</td>\n",
       "    </tr>\n",
       "    <tr>\n",
       "      <th>8</th>\n",
       "      <td>Leche extra proteina (1L)</td>\n",
       "      <td>40</td>\n",
       "      <td>45</td>\n",
       "      <td>41</td>\n",
       "    </tr>\n",
       "    <tr>\n",
       "      <th>9</th>\n",
       "      <td>Tostadas Salma 240g</td>\n",
       "      <td>38</td>\n",
       "      <td>40</td>\n",
       "      <td>36</td>\n",
       "    </tr>\n",
       "    <tr>\n",
       "      <th>10</th>\n",
       "      <td>Pan Bimbo blanco (620g)</td>\n",
       "      <td>52</td>\n",
       "      <td>51</td>\n",
       "      <td>60</td>\n",
       "    </tr>\n",
       "    <tr>\n",
       "      <th>11</th>\n",
       "      <td>Huevos (12)</td>\n",
       "      <td>41</td>\n",
       "      <td>50</td>\n",
       "      <td>45</td>\n",
       "    </tr>\n",
       "    <tr>\n",
       "      <th>12</th>\n",
       "      <td>Pasta para Spaguetti (500g)</td>\n",
       "      <td>26</td>\n",
       "      <td>25</td>\n",
       "      <td>23</td>\n",
       "    </tr>\n",
       "    <tr>\n",
       "      <th>13</th>\n",
       "      <td>Tortillas Tia Rosa (12 pzas)</td>\n",
       "      <td>27</td>\n",
       "      <td>28</td>\n",
       "      <td>29</td>\n",
       "    </tr>\n",
       "    <tr>\n",
       "      <th>14</th>\n",
       "      <td>Galletas de animalitos (800g)</td>\n",
       "      <td>40</td>\n",
       "      <td>46</td>\n",
       "      <td>57</td>\n",
       "    </tr>\n",
       "    <tr>\n",
       "      <th>15</th>\n",
       "      <td>Galletas marias (170g)</td>\n",
       "      <td>10</td>\n",
       "      <td>11</td>\n",
       "      <td>23</td>\n",
       "    </tr>\n",
       "    <tr>\n",
       "      <th>16</th>\n",
       "      <td>Saladitas (20 pzas)</td>\n",
       "      <td>52</td>\n",
       "      <td>54</td>\n",
       "      <td>50</td>\n",
       "    </tr>\n",
       "    <tr>\n",
       "      <th>17</th>\n",
       "      <td>Cacahuate japones (130g)</td>\n",
       "      <td>15</td>\n",
       "      <td>16</td>\n",
       "      <td>14</td>\n",
       "    </tr>\n",
       "    <tr>\n",
       "      <th>18</th>\n",
       "      <td>Frijoles refritos peruanos Isadora  (430g)</td>\n",
       "      <td>19</td>\n",
       "      <td>19</td>\n",
       "      <td>21</td>\n",
       "    </tr>\n",
       "  </tbody>\n",
       "</table>\n",
       "</div>"
      ],
      "text/plain": [
       "                                        Comida  Walmart  Merza  Soriana Hiper\n",
       "0                        Lata de atun (295 g)        40     39             42\n",
       "1                          Bisteck de res (Kg)      205    158            149\n",
       "2                        Pechuga de pollo (kg)      139    133            124\n",
       "3                       Chuletas de cerdo (kg)      109    149            134\n",
       "4                                 Arroz (1 Kg)       39     34             39\n",
       "5                            Lentejas (500 gr)       28     29             35\n",
       "6                                  Avena 1(Kg)       32     34             30\n",
       "7                              Palomitas (87g)       17     15             16\n",
       "8                    Leche extra proteina (1L)       40     45             41\n",
       "9                          Tostadas Salma 240g       38     40             36\n",
       "10                     Pan Bimbo blanco (620g)       52     51             60\n",
       "11                                 Huevos (12)       41     50             45\n",
       "12                 Pasta para Spaguetti (500g)       26     25             23\n",
       "13                Tortillas Tia Rosa (12 pzas)       27     28             29\n",
       "14               Galletas de animalitos (800g)       40     46             57\n",
       "15                      Galletas marias (170g)       10     11             23\n",
       "16                         Saladitas (20 pzas)       52     54             50\n",
       "17                    Cacahuate japones (130g)       15     16             14\n",
       "18  Frijoles refritos peruanos Isadora  (430g)       19     19             21"
      ]
     },
     "execution_count": 723,
     "metadata": {},
     "output_type": "execute_result"
    }
   ],
   "source": [
    "import pandas as pd\n",
    "Precios=pd.read_csv(\"Precios.csv\")\n",
    "Precios"
   ]
  },
  {
   "cell_type": "markdown",
   "id": "f688b026-a97b-4539-adbd-669a1770b9d0",
   "metadata": {},
   "source": [
    "Creamos una función para llamar a los precios:"
   ]
  },
  {
   "cell_type": "code",
   "execution_count": 725,
   "id": "994671e8-663c-4757-9a12-9c70b4b9de17",
   "metadata": {},
   "outputs": [],
   "source": [
    "def Precio(a,b):\n",
    "    if b==\"Walmart\":\n",
    "        if a==\"Atun\":\n",
    "            info=Precios.loc[0,b]\n",
    "        elif a==\"Bisteck\":\n",
    "            info=Precios.loc[1,b]\n",
    "        elif a==\"Pollo\":\n",
    "            info=Precios.loc[2,b]\n",
    "        elif a==\"Cerdo\":\n",
    "            info=Precios.loc[3,b]\n",
    "        elif a==\"Arroz\":\n",
    "            info=Precios.loc[4,b]\n",
    "        elif a==\"Lentejas\":\n",
    "            info=Precios.loc[5,b]\n",
    "        elif a==\"Avena\":\n",
    "            info=Precios.loc[6,b]\n",
    "        elif a==\"Palomitas\":\n",
    "            info=Precios.loc[7,b] \n",
    "        elif a==\"Leche extra proteina\":\n",
    "            info=Precios.loc[8,b]\n",
    "        elif a==\"Tostadas Salma\":\n",
    "            info=Precios.loc[9,b]\n",
    "        elif a==\"Pan Bimbo blanco\":\n",
    "            info=Precios.loc[10,b]\n",
    "        elif a==\"Huevos\":\n",
    "            info=Precios.loc[11,b]\n",
    "        elif a==\"Pasta para Spaguetti\":\n",
    "            info=Precios.loc[12,b]\n",
    "        elif a==\"Tortillas Tia Rosa\":\n",
    "            info=Precios.loc[13,b]\n",
    "        elif a==\"Galletas de animalitos\":\n",
    "            info=Precios.loc[14,b]\n",
    "        elif a==\"Galletas marias\":\n",
    "            info=Precios.loc[15,b]\n",
    "        elif a==\"Saladitas\":\n",
    "            info=Precios.loc[16,b]\n",
    "        elif a==\"Cacahuate japones\":\n",
    "            info=Precios.loc[17,b]\n",
    "        elif a==\"Frijoles refritos peruanos Isadora\":\n",
    "            info=Precios.loc[18,b]  \n",
    "        else:\n",
    "            info=0\n",
    "    elif b==\"Merza\":\n",
    "        if a==\"Atun\":\n",
    "            info=Precios.loc[0,b]\n",
    "        elif a==\"Bisteck\":\n",
    "            info=Precios.loc[1,b]\n",
    "        elif a==\"Pollo\":\n",
    "            info=Precios.loc[2,b]\n",
    "        elif a==\"Cerdo\":\n",
    "            info=Precios.loc[3,b]\n",
    "        elif a==\"Arroz\":\n",
    "            info=Precios.loc[4,b]\n",
    "        elif a==\"Lentejas\":\n",
    "            info=Precios.loc[5,b]\n",
    "        elif a==\"Avena\":\n",
    "            info=Precios.loc[6,b]\n",
    "        elif a==\"Palomitas\":\n",
    "            info=Precios.loc[7,b] \n",
    "        elif a==\"Leche extra proteina\":\n",
    "            info=Precios.loc[8,b]\n",
    "        elif a==\"Tostadas Salma\":\n",
    "            info=Precios.loc[9,b]\n",
    "        elif a==\"Pan Bimbo blanco\":\n",
    "            info=Precios.loc[10,b]\n",
    "        elif a==\"Huevos\":\n",
    "            info=Precios.loc[11,b]\n",
    "        elif a==\"Pasta para Spaguetti\":\n",
    "            info=Precios.loc[12,b]\n",
    "        elif a==\"Tortillas Tia Rosa\":\n",
    "            info=Precios.loc[13,b]\n",
    "        elif a==\"Galletas de animalitos\":\n",
    "            info=Precios.loc[14,b]\n",
    "        elif a==\"Galletas marias\":\n",
    "            info=Precios.loc[15,b]\n",
    "        elif a==\"Saladitas\":\n",
    "            info=Precios.loc[16,b]\n",
    "        elif a==\"Cacahuate japones\":\n",
    "            info=Precios.loc[17,b]\n",
    "        elif a==\"Frijoles refritos peruanos Isadora\":\n",
    "            info=Precios.loc[18,b]  \n",
    "        else:\n",
    "            info=0\n",
    "    elif b==\"Soriana Hiper\":\n",
    "        if a==\"Atun\":\n",
    "            info=Precios.loc[0,b]\n",
    "        elif a==\"Bisteck\":\n",
    "            info=Precios.loc[1,b]\n",
    "        elif a==\"Pollo\":\n",
    "            info=Precios.loc[2,b]\n",
    "        elif a==\"Cerdo\":\n",
    "            info=Precios.loc[3,b]\n",
    "        elif a==\"Arroz\":\n",
    "            info=Precios.loc[4,b]\n",
    "        elif a==\"Lentejas\":\n",
    "            info=Precios.loc[5,b]\n",
    "        elif a==\"Avena\":\n",
    "            info=Precios.loc[6,b]\n",
    "        elif a==\"Palomitas\":\n",
    "            info=Precios.loc[7,b] \n",
    "        elif a==\"Leche extra proteina\":\n",
    "            info=Precios.loc[8,b]\n",
    "        elif a==\"Tostadas Salma\":\n",
    "            info=Precios.loc[9,b]\n",
    "        elif a==\"Pan Bimbo blanco\":\n",
    "            info=Precios.loc[10,b]\n",
    "        elif a==\"Huevos\":\n",
    "            info=Precios.loc[11,b]\n",
    "        elif a==\"Pasta para Spaguetti\":\n",
    "            info=Precios.loc[12,b]\n",
    "        elif a==\"Tortillas Tia Rosa\":\n",
    "            info=Precios.loc[13,b]\n",
    "        elif a==\"Galletas de animalitos\":\n",
    "            info=Precios.loc[14,b]\n",
    "        elif a==\"Galletas marias\":\n",
    "            info=Precios.loc[15,b]\n",
    "        elif a==\"Saladitas\":\n",
    "            info=Precios.loc[16,b]\n",
    "        elif a==\"Cacahuate japones\":\n",
    "            info=Precios.loc[17,b]\n",
    "        elif a==\"Frijoles refritos peruanos Isadora\":\n",
    "            info=Precios.loc[18,b]  \n",
    "        else:\n",
    "            info=0\n",
    "    else:\n",
    "        info=0\n",
    "    return info"
   ]
  },
  {
   "cell_type": "code",
   "execution_count": 727,
   "id": "b8fc64b6-9664-4a32-b239-57dab65f76c0",
   "metadata": {},
   "outputs": [
    {
     "data": {
      "text/plain": [
       "205"
      ]
     },
     "execution_count": 727,
     "metadata": {},
     "output_type": "execute_result"
    }
   ],
   "source": [
    "Precio(\"Bisteck\",\"Walmart\")"
   ]
  },
  {
   "cell_type": "markdown",
   "id": "d029d1c5-82de-4c5e-ac41-f7ede8206ce3",
   "metadata": {},
   "source": [
    "Para una persona con las características previamente mencionadas, debe de consumir por lo menos 2g de proteína y 3g de carbohidratos por kilogramo de peso."
   ]
  },
  {
   "cell_type": "markdown",
   "id": "9e9fe52e-79d4-459b-a542-817aa1d244fd",
   "metadata": {},
   "source": [
    "Ingresa tu peso corporal:"
   ]
  },
  {
   "cell_type": "code",
   "execution_count": 440,
   "id": "29b91d91-95f9-4836-8a6a-309db951ebc5",
   "metadata": {},
   "outputs": [
    {
     "name": "stdout",
     "output_type": "stream",
     "text": [
      "Los gramos de proteína al día son: 140 g\n",
      "Los gramos de carbohidratos al día son: 210 g\n"
     ]
    }
   ],
   "source": [
    "peso_corporal=70\n",
    "g_proteína=2*peso_corporal\n",
    "g_carbohidratos=3*peso_corporal\n",
    "print(\"Los gramos de proteína al día son:\",g_proteína,\"g\")\n",
    "print(\"Los gramos de carbohidratos al día son:\",g_carbohidratos,\"g\")"
   ]
  },
  {
   "cell_type": "markdown",
   "id": "abc4b129-d9ea-4821-80f1-eeac58cbb9c1",
   "metadata": {},
   "source": [
    "La lista con los macronutrientes por comida, es la siguiente:"
   ]
  },
  {
   "cell_type": "code",
   "execution_count": 729,
   "id": "03c0d1f1-a44a-4e65-a7d2-88430edbb047",
   "metadata": {},
   "outputs": [
    {
     "data": {
      "text/html": [
       "<div>\n",
       "<style scoped>\n",
       "    .dataframe tbody tr th:only-of-type {\n",
       "        vertical-align: middle;\n",
       "    }\n",
       "\n",
       "    .dataframe tbody tr th {\n",
       "        vertical-align: top;\n",
       "    }\n",
       "\n",
       "    .dataframe thead th {\n",
       "        text-align: right;\n",
       "    }\n",
       "</style>\n",
       "<table border=\"1\" class=\"dataframe\">\n",
       "  <thead>\n",
       "    <tr style=\"text-align: right;\">\n",
       "      <th></th>\n",
       "      <th>Alimento</th>\n",
       "      <th>Gramos de proteina</th>\n",
       "      <th>Gramos de carbohidratos</th>\n",
       "    </tr>\n",
       "  </thead>\n",
       "  <tbody>\n",
       "    <tr>\n",
       "      <th>0</th>\n",
       "      <td>Lata de atun (295 g)</td>\n",
       "      <td>22</td>\n",
       "      <td>0</td>\n",
       "    </tr>\n",
       "    <tr>\n",
       "      <th>1</th>\n",
       "      <td>Bisteck de res (Kg)</td>\n",
       "      <td>200</td>\n",
       "      <td>0</td>\n",
       "    </tr>\n",
       "    <tr>\n",
       "      <th>2</th>\n",
       "      <td>Pechuga de pollo (kg)</td>\n",
       "      <td>220</td>\n",
       "      <td>0</td>\n",
       "    </tr>\n",
       "    <tr>\n",
       "      <th>3</th>\n",
       "      <td>Chuletas de cerdo (kg)</td>\n",
       "      <td>200</td>\n",
       "      <td>0</td>\n",
       "    </tr>\n",
       "    <tr>\n",
       "      <th>4</th>\n",
       "      <td>Arroz (1 Kg)</td>\n",
       "      <td>70</td>\n",
       "      <td>780</td>\n",
       "    </tr>\n",
       "    <tr>\n",
       "      <th>5</th>\n",
       "      <td>Lentejas (500 gr)</td>\n",
       "      <td>260</td>\n",
       "      <td>630</td>\n",
       "    </tr>\n",
       "    <tr>\n",
       "      <th>6</th>\n",
       "      <td>Avena 1(Kg)</td>\n",
       "      <td>120</td>\n",
       "      <td>680</td>\n",
       "    </tr>\n",
       "    <tr>\n",
       "      <th>7</th>\n",
       "      <td>Palomitas (87g)</td>\n",
       "      <td>10</td>\n",
       "      <td>65</td>\n",
       "    </tr>\n",
       "    <tr>\n",
       "      <th>8</th>\n",
       "      <td>Leche extra proteina (1L)</td>\n",
       "      <td>35</td>\n",
       "      <td>48</td>\n",
       "    </tr>\n",
       "    <tr>\n",
       "      <th>9</th>\n",
       "      <td>Tostadas Salma 240g</td>\n",
       "      <td>20</td>\n",
       "      <td>180</td>\n",
       "    </tr>\n",
       "    <tr>\n",
       "      <th>10</th>\n",
       "      <td>Pan Bimbo blanco (620g)</td>\n",
       "      <td>54</td>\n",
       "      <td>320</td>\n",
       "    </tr>\n",
       "    <tr>\n",
       "      <th>11</th>\n",
       "      <td>Huevos (12)</td>\n",
       "      <td>84</td>\n",
       "      <td>0</td>\n",
       "    </tr>\n",
       "    <tr>\n",
       "      <th>12</th>\n",
       "      <td>Pasta para Spaguetti (500g)</td>\n",
       "      <td>50</td>\n",
       "      <td>380</td>\n",
       "    </tr>\n",
       "    <tr>\n",
       "      <th>13</th>\n",
       "      <td>Tortillas Tia Rosa (12 pzas)</td>\n",
       "      <td>18</td>\n",
       "      <td>120</td>\n",
       "    </tr>\n",
       "    <tr>\n",
       "      <th>14</th>\n",
       "      <td>Galletas de animalitos (800g)</td>\n",
       "      <td>56</td>\n",
       "      <td>640</td>\n",
       "    </tr>\n",
       "    <tr>\n",
       "      <th>15</th>\n",
       "      <td>Galletas marias (170g)</td>\n",
       "      <td>10</td>\n",
       "      <td>120</td>\n",
       "    </tr>\n",
       "    <tr>\n",
       "      <th>16</th>\n",
       "      <td>Saladitas (20 pzas)</td>\n",
       "      <td>16</td>\n",
       "      <td>140</td>\n",
       "    </tr>\n",
       "    <tr>\n",
       "      <th>17</th>\n",
       "      <td>Cacahuate japones (130g)</td>\n",
       "      <td>21</td>\n",
       "      <td>36</td>\n",
       "    </tr>\n",
       "    <tr>\n",
       "      <th>18</th>\n",
       "      <td>Frijoles refritos peruanos Isadora  (430g)</td>\n",
       "      <td>30</td>\n",
       "      <td>65</td>\n",
       "    </tr>\n",
       "  </tbody>\n",
       "</table>\n",
       "</div>"
      ],
      "text/plain": [
       "                                      Alimento  Gramos de proteina  \\\n",
       "0                        Lata de atun (295 g)                   22   \n",
       "1                          Bisteck de res (Kg)                 200   \n",
       "2                        Pechuga de pollo (kg)                 220   \n",
       "3                       Chuletas de cerdo (kg)                 200   \n",
       "4                                 Arroz (1 Kg)                  70   \n",
       "5                            Lentejas (500 gr)                 260   \n",
       "6                                  Avena 1(Kg)                 120   \n",
       "7                              Palomitas (87g)                  10   \n",
       "8                    Leche extra proteina (1L)                  35   \n",
       "9                          Tostadas Salma 240g                  20   \n",
       "10                     Pan Bimbo blanco (620g)                  54   \n",
       "11                                 Huevos (12)                  84   \n",
       "12                 Pasta para Spaguetti (500g)                  50   \n",
       "13                Tortillas Tia Rosa (12 pzas)                  18   \n",
       "14               Galletas de animalitos (800g)                  56   \n",
       "15                      Galletas marias (170g)                  10   \n",
       "16                         Saladitas (20 pzas)                  16   \n",
       "17                    Cacahuate japones (130g)                  21   \n",
       "18  Frijoles refritos peruanos Isadora  (430g)                  30   \n",
       "\n",
       "    Gramos de carbohidratos  \n",
       "0                         0  \n",
       "1                         0  \n",
       "2                         0  \n",
       "3                         0  \n",
       "4                       780  \n",
       "5                       630  \n",
       "6                       680  \n",
       "7                        65  \n",
       "8                        48  \n",
       "9                       180  \n",
       "10                      320  \n",
       "11                        0  \n",
       "12                      380  \n",
       "13                      120  \n",
       "14                      640  \n",
       "15                      120  \n",
       "16                      140  \n",
       "17                       36  \n",
       "18                       65  "
      ]
     },
     "execution_count": 729,
     "metadata": {},
     "output_type": "execute_result"
    }
   ],
   "source": [
    "Macronutrientes=pd.read_csv(\"Macronutrientes.csv\")\n",
    "Macronutrientes"
   ]
  },
  {
   "cell_type": "markdown",
   "id": "0c4e31fd-5ad4-41ba-a25a-86712dc23886",
   "metadata": {},
   "source": [
    "Definimos una función para llamar a los gramos de proteína y carbohidratos:"
   ]
  },
  {
   "cell_type": "code",
   "execution_count": 731,
   "id": "89de71db-3fa7-471c-9fd1-ff22235e09d9",
   "metadata": {},
   "outputs": [],
   "source": [
    "def Prote(a):\n",
    "    if a==\"Atun\":\n",
    "        info=Macronutrientes.loc[0,\"Gramos de proteina\"]\n",
    "    elif a==\"Bisteck\":\n",
    "        info=Macronutrientes.loc[1,\"Gramos de proteina\"]\n",
    "    elif a==\"Pollo\":\n",
    "        info=Macronutrientes.loc[2,\"Gramos de proteina\"]\n",
    "    elif a==\"Cerdo\":\n",
    "        info=Macronutrientes.loc[3,\"Gramos de proteina\"]\n",
    "    elif a==\"Arroz\":\n",
    "        info=Macronutrientes.loc[4,\"Gramos de proteina\"]\n",
    "    elif a==\"Lentejas\":\n",
    "        info=Macronutrientes.loc[5,\"Gramos de proteina\"]\n",
    "    elif a==\"Avena\":\n",
    "        info=Macronutrientes.loc[6,\"Gramos de proteina\"]\n",
    "        \n",
    "    elif a==\"Palomitas\":\n",
    "        info=Macronutrientes.loc[7,\"Gramos de proteina\"]\n",
    "    elif a==\"Leche extra proteina\":\n",
    "        info=Macronutrientes.loc[8,\"Gramos de proteina\"]\n",
    "    elif a==\"Tostadas Salma\":\n",
    "        info=Macronutrientes.loc[9,\"Gramos de proteina\"]\n",
    "    elif a==\"Pan Bimbo blanco\":\n",
    "        info=Macronutrientes.loc[10,\"Gramos de proteina\"]\n",
    "    elif a==\"Huevos\":\n",
    "        info=Macronutrientes.loc[11,\"Gramos de proteina\"]\n",
    "    elif a==\"Pasta para Spaguetti\":\n",
    "        info=Macronutrientes.loc[12,\"Gramos de proteina\"]\n",
    "        \n",
    "    elif a==\"Tortillas Tia Rosa\":\n",
    "        info=Macronutrientes.loc[13,\"Gramos de proteina\"]\n",
    "    elif a==\"Galletas de animalitos\":\n",
    "        info=Macronutrientes.loc[14,\"Gramos de proteina\"]\n",
    "    elif a==\"Galletas marias\":\n",
    "        info=Macronutrientes.loc[15,\"Gramos de proteina\"]\n",
    "    elif a==\"Saladitas\":\n",
    "        info=Macronutrientes.loc[16,\"Gramos de proteina\"]\n",
    "    elif a==\"Cacahuate japones\":\n",
    "        info=Macronutrientes.loc[17,\"Gramos de proteina\"]\n",
    "    elif a==\"Frijoles refritos peruanos Isadora\":\n",
    "        info=Macronutrientes.loc[18,\"Gramos de proteina\"]\n",
    "    return info\n",
    "def Carbos(a):\n",
    "    if a==\"Atun\":\n",
    "        info=Macronutrientes.loc[0,\"Gramos de carbohidratos\"]\n",
    "    elif a==\"Bisteck\":\n",
    "        info=Macronutrientes.loc[1,\"Gramos de carbohidratos\"]\n",
    "    elif a==\"Pollo\":\n",
    "        info=Macronutrientes.loc[2,\"Gramos de carbohidratos\"]\n",
    "    elif a==\"Cerdo\":\n",
    "        info=Macronutrientes.loc[3,\"Gramos de carbohidratos\"]\n",
    "    elif a==\"Arroz\":\n",
    "        info=Macronutrientes.loc[4,\"Gramos de carbohidratos\"]\n",
    "    elif a==\"Lentejas\":\n",
    "        info=Macronutrientes.loc[5,\"Gramos de carbohidratos\"]\n",
    "    elif a==\"Avena\":\n",
    "        info=Macronutrientes.loc[6,\"Gramos de carbohidratos\"]\n",
    "        \n",
    "    elif a==\"Palomitas\":\n",
    "        info=Macronutrientes.loc[7,\"Gramos de carbohidratos\"]\n",
    "    elif a==\"Leche extra proteina\":\n",
    "        info=Macronutrientes.loc[8,\"Gramos de carbohidratos\"]\n",
    "    elif a==\"Tostadas Salma\":\n",
    "        info=Macronutrientes.loc[9,\"Gramos de carbohidratos\"]\n",
    "    elif a==\"Pan Bimbo blanco\":\n",
    "        info=Macronutrientes.loc[10,\"Gramos de carbohidratos\"]\n",
    "    elif a==\"Huevos\":\n",
    "        info=Macronutrientes.loc[11,\"Gramos de carbohidratos\"]\n",
    "    elif a==\"Pasta para Spaguetti\":\n",
    "        info=Macronutrientes.loc[12,\"Gramos de carbohidratos\"]\n",
    "        \n",
    "    elif a==\"Tortillas Tia Rosa\":\n",
    "        info=Macronutrientes.loc[13,\"Gramos de carbohidratos\"]\n",
    "    elif a==\"Galletas de animalitos\":\n",
    "        info=Macronutrientes.loc[14,\"Gramos de carbohidratos\"]\n",
    "    elif a==\"Galletas marias\":\n",
    "        info=Macronutrientes.loc[15,\"Gramos de carbohidratos\"]\n",
    "    elif a==\"Saladitas\":\n",
    "        info=Macronutrientes.loc[16,\"Gramos de carbohidratos\"]\n",
    "    elif a==\"Cacahuate japones\":\n",
    "        info=Macronutrientes.loc[17,\"Gramos de carbohidratos\"]\n",
    "    elif a==\"Frijoles refritos peruanos Isadora\":\n",
    "        info=Macronutrientes.loc[18,\"Gramos de carbohidratos\"]\n",
    "    return info"
   ]
  },
  {
   "cell_type": "code",
   "execution_count": 305,
   "id": "668feab3-d367-4cb2-a8c2-4a2ef9691c65",
   "metadata": {},
   "outputs": [
    {
     "data": {
      "text/plain": [
       "680"
      ]
     },
     "execution_count": 305,
     "metadata": {},
     "output_type": "execute_result"
    }
   ],
   "source": []
  },
  {
   "cell_type": "markdown",
   "id": "47fb87e9-ea99-41d6-9818-252ba7afe108",
   "metadata": {},
   "source": [
    "Con los datos mencionados, se tienen que satisfacer las necesidades el mes de comida, siendo que en total se tienen que consumir:"
   ]
  },
  {
   "cell_type": "code",
   "execution_count": 689,
   "id": "383b10e4-2c9b-4928-8234-6c6b73c5cdf8",
   "metadata": {},
   "outputs": [
    {
     "name": "stdout",
     "output_type": "stream",
     "text": [
      "Los gramos de proteína a la semana son: 4200 g\n",
      "Los gramos de carbohidratos a la semana son: 6300 g\n"
     ]
    }
   ],
   "source": [
    "prote_5=g_proteína*30\n",
    "carbo_5=g_carbohidratos*30\n",
    "print(\"Los gramos de proteína a la semana son:\",prote_5,\"g\")\n",
    "print(\"Los gramos de carbohidratos a la semana son:\",carbo_5,\"g\")"
   ]
  },
  {
   "cell_type": "markdown",
   "id": "47f867e9-a7c4-4782-8e47-e1aee31b0768",
   "metadata": {},
   "source": [
    "Con estos datos, se hace recurirá a una simulación de Simulated annealing:"
   ]
  },
  {
   "cell_type": "markdown",
   "id": "f8417ba3-2738-42cc-92cc-019bfb68f982",
   "metadata": {},
   "source": [
    "Iniciamos haciendo una lista de las variables:"
   ]
  },
  {
   "cell_type": "code",
   "execution_count": 733,
   "id": "4a3abeb8-97c4-4009-b67f-945ab6d69159",
   "metadata": {},
   "outputs": [],
   "source": [
    "X=[\"Walmart\",\"Merza\", \"Soriana Hiper\"]\n",
    "Y=[\"Atun\",\"Bisteck\",\"Pollo\",\"Cerdo\",\"Arroz\",\"Lentejas\",\"Avena\",\"Palomitas\",\"Leche extra proteina\",\"Tostadas Salma\",\"Pan Bimbo blanco\",\"Huevos\",\"Pasta para Spaguetti\",\"Tortillas Tia Rosa\",\"Galletas de animalitos\",\"Galletas marias\",\"Saladitas\",\"Cacahuate japones\",\"Frijoles refritos peruanos Isadora\"]"
   ]
  },
  {
   "cell_type": "markdown",
   "id": "f13b8f05-7681-47ef-b2b5-08db96b0c832",
   "metadata": {},
   "source": [
    "Hacemos que se escoja aleatoriamente un número entre 0 y 1 para que se escoja aleatoriamente si se va a comprar o no el producto del que se está hablando, para meterlo posteriormente al simulated annealing:"
   ]
  },
  {
   "cell_type": "code",
   "execution_count": 744,
   "id": "c307dfbc-04ac-475a-8c74-30d5050a51dd",
   "metadata": {},
   "outputs": [
    {
     "data": {
      "text/plain": [
       "array([1, 0, 0, 1, 0, 1, 1, 1, 0, 1, 0, 1, 0, 1, 1, 1, 1, 1, 1])"
      ]
     },
     "execution_count": 744,
     "metadata": {},
     "output_type": "execute_result"
    }
   ],
   "source": [
    "import numpy as np\n",
    "numero=len(Y)\n",
    "Productos=np.random.randint(0,2,numero)\n",
    "Productos"
   ]
  },
  {
   "cell_type": "markdown",
   "id": "b816d09b-39d0-45f6-8257-54b50caa4d4a",
   "metadata": {},
   "source": [
    "Del mismo modo se escoje aleatoriamente en que tienda se va a comprar"
   ]
  },
  {
   "cell_type": "code",
   "execution_count": 747,
   "id": "7c86ed22-9d77-42eb-85f1-3da70afa912d",
   "metadata": {},
   "outputs": [
    {
     "data": {
      "text/plain": [
       "array(['Walmart', 'Walmart', 'Soriana Hiper', 'Merza', 'Walmart', 'Merza',\n",
       "       'Walmart', 'Walmart', 'Soriana Hiper', 'Soriana Hiper', 'Walmart',\n",
       "       'Merza', 'Soriana Hiper', 'Walmart', 'Walmart', 'Merza', 'Walmart',\n",
       "       'Merza', 'Walmart'], dtype='<U13')"
      ]
     },
     "execution_count": 747,
     "metadata": {},
     "output_type": "execute_result"
    }
   ],
   "source": [
    "Tienda=np.random.choice(X,numero)\n",
    "Tienda"
   ]
  },
  {
   "cell_type": "code",
   "execution_count": 753,
   "id": "dfb073f6-fb0d-4bd3-80f5-6d5198312b1a",
   "metadata": {},
   "outputs": [],
   "source": [
    "\n",
    "Dinero=0\n",
    "def F(numero,X):\n",
    "    proteina_acumulada=0\n",
    "    carbos_acumulados=0\n",
    "    while (proteina_acumulada<prote_5 or carbos_acumulados<carbo_5):\n",
    "        proteina_acumulada=0\n",
    "        carbos_acumulados=0\n",
    "        lista=[]\n",
    "        Productos=np.random.randint(0,10,numero)\n",
    "        Tienda=np.random.choice(X,numero)\n",
    "        for z in range (numero):\n",
    "            if Productos[z]>=1:\n",
    "                lista.append([Productos[z],Y[z],Tienda[z]])\n",
    "            else:\n",
    "                lista.append([0,0,0])\n",
    "        for n in range(numero):\n",
    "            if lista[n]!=[0,0,0]:\n",
    "                proteina_acumulada+=lista[n][0]*Prote(lista[n][1])\n",
    "                carbos_acumulados+=lista[n][0]*Carbos(lista[n][1])\n",
    "\n",
    "    return [lista,proteina_acumulada,carbos_acumulados,Dinero]\n",
    "def F2(lista):\n",
    "    Dinero=0\n",
    "    for h in range (numero):\n",
    "        Dinero+=lista[h][0]*Precio(lista[h][1],lista[h][2])\n",
    "    return Dinero"
   ]
  },
  {
   "cell_type": "code",
   "execution_count": null,
   "id": "6b68103f-91f7-4b19-9326-f74b6f90da64",
   "metadata": {},
   "outputs": [],
   "source": []
  },
  {
   "cell_type": "code",
   "execution_count": 756,
   "id": "07ac22b9-e7f0-4938-910f-cc3d3e88eeca",
   "metadata": {},
   "outputs": [
    {
     "data": {
      "image/png": "[encoded data removed]",
      "text/plain": [
       "<Figure size 640x480 with 1 Axes>"
      ]
     },
     "metadata": {},
     "output_type": "display_data"
    }
   ],
   "source": [
    "N=30\n",
    "T=1000\n",
    "M=100\n",
    "Lrutas=[]\n",
    "Ldist=[]\n",
    "for l in range (M):\n",
    "    R1=F(numero,X)\n",
    "    while (T>=1):\n",
    "        for i in range (N):\n",
    "            R2=R1.copy()\n",
    "            ind1 = np.random.choice([0, 1, 2, 3, 4, 5, 6], 2, replace=False)\n",
    "            ind2 = np.random.choice([0, 1, 2, 3, 4, 5, 6], 2, replace=False)\n",
    "            a=ind1[0]\n",
    "            b=ind1[1]\n",
    "            c=ind2[0]\n",
    "            d=ind2[1]\n",
    "            #Se cambia aleatoriamente la tienda\n",
    "            R2[0][a][1]=R1[0][b][1]\n",
    "            #Se cambia aleatoriamente la cantidad de productos\n",
    "            R2[0][c][0]=R1[0][d][0]\n",
    "            \n",
    "            p=np.random.uniform(0,1)\n",
    "            D1=F2(R1[0])\n",
    "            D2=F2(R2[0])\n",
    "            q=np.exp((D1-D2)/T)\n",
    "            if p<q:\n",
    "                R1=R2.copy()\n",
    "        T=T*0.9\n",
    "    Lrutas.append(R1.copy())\n",
    "    Ldist.append(F2((R1.copy()[0])))\n",
    "import matplotlib.pyplot as plt\n",
    "plt.figure()\n",
    "plt.hist(Ldist);"
   ]
  },
  {
   "cell_type": "markdown",
   "id": "ee573bfb-ef1d-4b8b-ab92-4c51eb048328",
   "metadata": {},
   "source": [
    "Recopilación de info:\n",
    "* https://mx.openfoodfacts.org/producto/7501045400860/atun-en-agua-dolores"
   ]
  },
  {
   "cell_type": "code",
   "execution_count": 759,
   "id": "2f6e0bce-7963-4e5e-a0d2-4a8dc04ff80a",
   "metadata": {},
   "outputs": [
    {
     "data": {
      "text/plain": [
       "2699"
      ]
     },
     "execution_count": 759,
     "metadata": {},
     "output_type": "execute_result"
    }
   ],
   "source": [
    "min(Ldist)"
   ]
  },
  {
   "cell_type": "code",
   "execution_count": 761,
   "id": "41800656-bc1d-4f8e-9221-d2a5a2382272",
   "metadata": {},
   "outputs": [
    {
     "data": {
      "text/plain": [
       "[[[1, 'Pollo', 'Walmart'],\n",
       "  [1, 'Pollo', 'Merza'],\n",
       "  [1, 'Pollo', 'Walmart'],\n",
       "  [1, 'Pollo', 'Soriana Hiper'],\n",
       "  [1, 'Pollo', 'Soriana Hiper'],\n",
       "  [1, 'Pollo', 'Walmart'],\n",
       "  [1, 'Pollo', 'Walmart'],\n",
       "  [9, 'Palomitas', 'Walmart'],\n",
       "  [0, 0, 0],\n",
       "  [8, 'Tostadas Salma', 'Merza'],\n",
       "  [2, 'Pan Bimbo blanco', 'Soriana Hiper'],\n",
       "  [1, 'Huevos', 'Merza'],\n",
       "  [8, 'Pasta para Spaguetti', 'Merza'],\n",
       "  [7, 'Tortillas Tia Rosa', 'Soriana Hiper'],\n",
       "  [8, 'Galletas de animalitos', 'Walmart'],\n",
       "  [3, 'Galletas marias', 'Walmart'],\n",
       "  [6, 'Saladitas', 'Merza'],\n",
       "  [3, 'Cacahuate japones', 'Soriana Hiper'],\n",
       "  [0, 0, 0]],\n",
       " 5293,\n",
       " 22463,\n",
       " 0]"
      ]
     },
     "execution_count": 761,
     "metadata": {},
     "output_type": "execute_result"
    }
   ],
   "source": [
    "Mejor=min(Ldist)\n",
    "Mejor\n",
    "Lrutas[Ldist.index(Mejor)]"
   ]
  },
  {
   "cell_type": "code",
   "execution_count": null,
   "id": "fbb0c11e-156f-4d5f-a2dd-63edbb4a1795",
   "metadata": {},
   "outputs": [],
   "source": []
  }
 ],
 "metadata": {
  "kernelspec": {
   "display_name": "Python 3 (ipykernel)",
   "language": "python",
   "name": "python3"
  },
  "language_info": {
   "codemirror_mode": {
    "name": "ipython",
    "version": 3
   },
   "file_extension": ".py",
   "mimetype": "text/x-python",
   "name": "python",
   "nbconvert_exporter": "python",
   "pygments_lexer": "ipython3",
   "version": "3.12.4"
  }
 },
 "nbformat": 4,
 "nbformat_minor": 5
}
