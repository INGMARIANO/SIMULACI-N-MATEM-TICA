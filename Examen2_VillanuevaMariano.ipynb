{
 "cells": [
  {
   "cell_type": "markdown",
   "id": "8bc2f283",
   "metadata": {
    "colab_type": "text",
    "id": "GJV4HZf_7eDM"
   },
   "source": [
    "# Examen Módulo 2\n",
    "\n",
    "**Mantenga la calma y lea cuidadosamente las siguientes indicaciones antes de comenzar el examen:**\n",
    "- Para resolver el examen edite este mismo archivo y renómbrelo de la siguiente manera: *Examen2_ApellidoNombre*, donde *ApellidoNombre* corresponde a su apellido paterno con la inicial en mayúscula, seguido de su primer nombre con la inicial en mayúscula **sin acentos**. Por ejemplo, en mi caso el nombre del archivo sería *Examen2_MoralesGabriel*.\n",
    "- Resuelva los puntos en el espacio provisto. Si requiere agregar más celdas para código o escritura, hágalo (`Esc`+`B`) o (`Esc`+`A`).\n",
    "- Recuerde que también se está evaluando su capacidad de interpretar los resultados. Escriba sus interpretaciones/conclusiones en celdas utilizando *Markdown*.\n",
    "- El formato de presentación de todo el examen en general debe ser adecuado. Use tamaños de letra, colores, etiquetas, etcétera.\n",
    "- No se resuelven dudas de ningún tipo por los profesores de la asignatura. Por favor absténgase de preguntar."
   ]
  },
  {
   "cell_type": "markdown",
   "id": "30ec3475",
   "metadata": {},
   "source": [
    "# ANTES DE EMPEZAR"
   ]
  },
  {
   "cell_type": "markdown",
   "id": "c2e65c9c",
   "metadata": {},
   "source": [
    "Escribe tu número de expediente como semilla"
   ]
  },
  {
   "cell_type": "code",
   "execution_count": 6,
   "id": "dddea116-4472-430d-9605-1e24891a29e0",
   "metadata": {},
   "outputs": [
    {
     "name": "stdout",
     "output_type": "stream",
     "text": [
      "Integración Monte Carlo tipo 1 - Problema  2\n",
      "Integración Monte Carlo tipo 2 - Problema  1\n"
     ]
    }
   ],
   "source": [
    "import numpy as np\n",
    "np.random.seed(753710)\n",
    "print(\"Integración Monte Carlo tipo 1 - Problema \", np.random.choice([1, 2]))\n",
    "print(\"Integración Monte Carlo tipo 2 - Problema \", np.random.choice([1, 2]))"
   ]
  },
  {
   "cell_type": "markdown",
   "id": "1d86d5b8-9344-4241-9744-da3bae25c4db",
   "metadata": {},
   "source": [
    "---\n",
    "### Caminata aleatoria"
   ]
  },
  {
   "cell_type": "markdown",
   "id": "5449e0ce-0f65-4722-8e02-663390ac3489",
   "metadata": {},
   "source": [
    "Una persona entra a un casino con 20 pesos.\n",
    "\n",
    "Su apuesta inicial es de 10 pesos, y tiene la idea de modificar su apuesta de la siguiente manera:\n",
    "- Si gana, disminuye su apuesta en 2 pesos\n",
    "- Si pierde, aumenta su apuesta en 2 pesos\n",
    "\n",
    "Este jugador apostará hasta que haya ganado lo suficiente para que su apuesta se vuelva 0 o cuando quede en bancarrota.\n",
    "\n",
    "1. ¿Cuál es el capital esperado?\n",
    "2. En promedio, ¿cuánto apostará en el tercer juego?\n",
    "3. ¿Cuál es la probabilidad de que quede en bancarrota?\n",
    "4. ¿Cuál es la probabilidad de que \"gane\"? (Que su apuesta se vuelva cero)"
   ]
  },
  {
   "cell_type": "code",
   "execution_count": 9,
   "id": "73ec31ea-462a-4782-9cd2-d33bd25dcf1b",
   "metadata": {},
   "outputs": [],
   "source": [
    "import numpy as np\n",
    "apuesta=[0,1]\n",
    "\n",
    "dinerofinal=[]\n",
    "dineroapostadores=[]\n",
    "fase3=[]\n",
    "totaldineroapostadores=[]\n",
    "bancarrota=0\n",
    "Victoria_yay=0\n",
    "NN=10000\n",
    "for i in range (NN):\n",
    "    camino=[]\n",
    "    dinero=20\n",
    "    dineroapostado=10\n",
    "    while dineroapostado>0 and dinero>0:\n",
    "        Tiro=np.random.choice(apuesta)\n",
    "        if Tiro==1:\n",
    "            dinero+=dineroapostado\n",
    "            dineroapostado-=2\n",
    "         \n",
    "        elif Tiro==0:\n",
    "            dinero-=dineroapostado\n",
    "            dineroapostado+=2\n",
    "        dineroapostadores.append(dineroapostado)\n",
    "    totaldineroapostadores.append(dineroapostadores)   \n",
    "    \n",
    "    dinerofinal.append(dinero)\n",
    "\n",
    "    if dinero<=0:\n",
    "        bancarrota+=1\n",
    "    elif dineroapostado==0:\n",
    "        Victoria_yay+=1\n",
    "\n",
    "for i in range (len(totaldineroapostadores)):\n",
    "    silla=totaldineroapostadores[i]\n",
    "    fase3.append(silla[2])\n",
    "\n",
    "   "
   ]
  },
  {
   "cell_type": "code",
   "execution_count": 10,
   "id": "36eb95e5-37ea-4ebd-8db2-0955bbdb7940",
   "metadata": {},
   "outputs": [
    {
     "data": {
      "text/plain": [
       "(19.9632, 8.0, 0.6536, 0.3464)"
      ]
     },
     "execution_count": 10,
     "metadata": {},
     "output_type": "execute_result"
    }
   ],
   "source": [
    "incisoa=np.mean(dinerofinal)\n",
    "incisob=np.mean(fase3)\n",
    "incisoc=bancarrota/NN\n",
    "incisod=Victoria_yay/NN\n",
    "incisoa,incisob,incisoc,incisod"
   ]
  },
  {
   "cell_type": "markdown",
   "id": "78b6fab0-2d4e-4c28-9d8d-94f1565a5a55",
   "metadata": {},
   "source": [
    "Para el inciso A promedie todos los resultados de el dinero que quedaba al final, para el inciso C, cree una lista en la que se iba guardando la cantidad de dinero apostado, después mediante un ciclo guardé en otra lista el dinero apostado en la posición 3, y le saqué el promedio. Para el inciso c hice que si se quedaba en bancarrota se fueran sumando los casos, y al final lo dividí por el número de casos. Para finalizar el inciso d hice lo mismo pero cuando dejaba de apostar"
   ]
  },
  {
   "cell_type": "markdown",
   "id": "97a6a36f-7368-4ec3-97ce-69276f726606",
   "metadata": {},
   "source": [
    "---\n",
    "### Simulación Monte Carlo\n",
    "\n",
    "Jugadores A y B están jugando a tirar una moneda sesgada (60\\% de probabilidad de caer en águila) por turnos. El jugador A empieza el juego y luego va el jugador B. Se lanza la moneda por turnos hasta que alguien tira águila y gana. ¿Cuál es la probabilidad de que el jugador A gane?"
   ]
  },
  {
   "cell_type": "code",
   "execution_count": 13,
   "id": "81fde7a5-6d3c-4115-bc7c-9bb989e0d0d7",
   "metadata": {},
   "outputs": [
    {
     "data": {
      "text/plain": [
       "0.7177"
      ]
     },
     "execution_count": 13,
     "metadata": {},
     "output_type": "execute_result"
    }
   ],
   "source": [
    "import numpy as np\n",
    "AA=0\n",
    "BB=0\n",
    "Nn=10000\n",
    "for h in range (Nn):\n",
    "    A0=0\n",
    "    B0=0\n",
    "    while A0!=1 and B0!=1:\n",
    "        tiro_moneda=np.random.choice([1,0], p=[0.6,0.4])\n",
    "        if tiro_moneda==1:\n",
    "            A0=1\n",
    "            AA+=1\n",
    "            break\n",
    "            \n",
    "        tiro_moneda=np.random.choice([1,0], p=[0.6,0.4])\n",
    "        if tiro_moneda==1:\n",
    "            B0=1\n",
    "            BB+=1\n",
    "            break\n",
    "AA/Nn"
   ]
  },
  {
   "cell_type": "code",
   "execution_count": 14,
   "id": "72b1a1c4-a87d-4ad1-968f-0bde06e4d278",
   "metadata": {},
   "outputs": [
    {
     "data": {
      "text/plain": [
       "0.2823"
      ]
     },
     "execution_count": 14,
     "metadata": {},
     "output_type": "execute_result"
    }
   ],
   "source": [
    "BB/Nn"
   ]
  },
  {
   "cell_type": "markdown",
   "id": "7fbbdf30-2f8a-42c0-9b90-fe818baea8ae",
   "metadata": {},
   "source": [
    "Aquí simulé los tiros por turnos, primero el A y luego el B, y le saqué la probabilidad entre el número de casos a favor y todos"
   ]
  },
  {
   "cell_type": "markdown",
   "id": "d06eddf0-b483-43a6-b356-559fe9486197",
   "metadata": {},
   "source": [
    "---\n",
    "### Integración Monte Carlo tipo 1 - Problema 1\n",
    "$$ f_1(x) = 5\\frac{\\sin{x}}{x} $$\n",
    "$$ f_2(x) = \\frac{1}{8} $$"
   ]
  },
  {
   "cell_type": "markdown",
   "id": "9c3b8c39-83a7-493f-a79b-0b18e80c5590",
   "metadata": {},
   "source": [
    "Dadas $f_1$ y $f_2$, ¿cuál es el área que hay entre las dos curvas en un intervalo de $[0.1, 7]$? (Aproxima los cruces)"
   ]
  },
  {
   "cell_type": "code",
   "execution_count": 36,
   "id": "31310462-d5a7-43c0-a555-210d95f23ad4",
   "metadata": {},
   "outputs": [
    {
     "data": {
      "image/png": "[encoded data removed]",
      "text/plain": [
       "<Figure size 640x480 with 1 Axes>"
      ]
     },
     "metadata": {},
     "output_type": "display_data"
    }
   ],
   "source": [
    "def fcorreccion1 (x):\n",
    "    return 5* (np.sin(x))/x\n",
    "def fcorreccion2 (x):\n",
    "    return 1/8\n",
    "a=0.1\n",
    "b=7\n",
    "import matplotlib.pyplot as plt\n",
    "plt.figure()\n",
    "x=np.linspace(a,b,1000)\n",
    "y2=np.full_like(x,1/8)\n",
    "plt.plot(fcorreccion1(x))\n",
    "plt.plot(y2)\n",
    "plt.grid()"
   ]
  },
  {
   "cell_type": "code",
   "execution_count": 57,
   "id": "e603cfc8-c5ba-4dd5-bd2a-ab5c5e2dac0a",
   "metadata": {},
   "outputs": [
    {
     "data": {
      "text/plain": [
       "11.090386643420203"
      ]
     },
     "execution_count": 57,
     "metadata": {},
     "output_type": "execute_result"
    }
   ],
   "source": [
    "Punto1=3.1\n",
    "Punto2=6.4\n",
    "n=10000\n",
    "Areaa1=((montecarlo_tipo_1(fcorreccion1,0.1,Punto1,n))-(montecarlo_tipo_1(fcorreccion2,0.1,Punto1,n)))\n",
    "Areaa2=-(montecarlo_tipo_1(fcorreccion1,Punto1,Punto2,n))+(montecarlo_tipo_1(fcorreccion2,Punto1,Punto2,n))\n",
    "Areaa3=(montecarlo_tipo_1(fcorreccion1,Punto2,7,n))-(montecarlo_tipo_1(fcorreccion2,Punto2,7,n))\n",
    "Areaa1+Areaa2+Areaa3"
   ]
  },
  {
   "cell_type": "markdown",
   "id": "5080cc55-1b31-46ff-820f-5b359c1d8459",
   "metadata": {},
   "source": []
  },
  {
   "cell_type": "code",
   "execution_count": null,
   "id": "87d24312-3bcc-4ac8-8ad0-3376e8ab2452",
   "metadata": {},
   "outputs": [],
   "source": []
  },
  {
   "cell_type": "markdown",
   "id": "b2df3899-2f8f-4cdf-9b53-3809bb77e6f9",
   "metadata": {},
   "source": [
    "### Integración Monte Carlo tipo 1 - Problema 2\n",
    "$$ f_1(x) = \\sin{(x)} e^{-x} $$\n",
    "$$ f_2(x) = \\frac{x}{10} $$"
   ]
  },
  {
   "cell_type": "markdown",
   "id": "647393fd-cb7f-4cd3-bf8a-c41d2afc6005",
   "metadata": {},
   "source": [
    "Dadas $f_1$ y $f_2$, ¿cuál es el área que hay entre las dos curvas en un intervalo de $[0, 4]$? (Aproxima los cruces)"
   ]
  },
  {
   "cell_type": "code",
   "execution_count": 23,
   "id": "4577cc34-64e1-48b6-bf65-95537ae370b0",
   "metadata": {},
   "outputs": [
    {
     "data": {
      "text/plain": [
       "0.5138790836111005"
      ]
     },
     "execution_count": 23,
     "metadata": {},
     "output_type": "execute_result"
    }
   ],
   "source": [
    "import numpy as np\n",
    "def f1 (x):\n",
    "    return (np.sin(x))*np.exp(-x)\n",
    "def f2 (x):\n",
    "    return x/10\n",
    "def montecarlo_tipo_1(f,a,b,n):\n",
    "    u=np.random.uniform(a,b,n)\n",
    "    return np.mean(f(u))*(b-a)\n",
    "a=0\n",
    "b=4\n",
    "n=100000"
   ]
  },
  {
   "cell_type": "code",
   "execution_count": 24,
   "id": "52bb2bad-a695-4114-97d4-4439941dac23",
   "metadata": {},
   "outputs": [
    {
     "data": {
      "text/plain": [
       "0.7995127998111428"
      ]
     },
     "execution_count": 24,
     "metadata": {},
     "output_type": "execute_result"
    }
   ],
   "source": []
  },
  {
   "cell_type": "code",
   "execution_count": 25,
   "id": "16fcc37d-48bc-4188-a5ec-44dcd4f5fc6c",
   "metadata": {},
   "outputs": [
    {
     "data": {
      "image/png": "[encoded data removed]",
      "text/plain": [
       "<Figure size 640x480 with 1 Axes>"
      ]
     },
     "metadata": {},
     "output_type": "display_data"
    }
   ],
   "source": [
    "import matplotlib.pyplot as plt\n",
    "a=0\n",
    "b=4\n",
    "plt.figure()\n",
    "x=np.linspace(a,b,1000)\n",
    "plt.plot(f1(x))\n",
    "plt.plot(f2(x))\n",
    "plt.grid()"
   ]
  },
  {
   "cell_type": "markdown",
   "id": "e3ca6f78-7ff6-4caf-ad6e-4ecbbbe4565f",
   "metadata": {},
   "source": [
    "Calculé el montecarlo tipo 1 para ambas y las resté, para el área de la curva es la diferencia de ambos, por lo que es:"
   ]
  },
  {
   "cell_type": "code",
   "execution_count": 59,
   "id": "d8826a02-1247-4221-9ab5-0654a1047edf",
   "metadata": {},
   "outputs": [
    {
     "data": {
      "text/plain": [
       "0.839708737754808"
      ]
     },
     "execution_count": 59,
     "metadata": {},
     "output_type": "execute_result"
    }
   ],
   "source": [
    "Punto1b=0\n",
    "Punto2b=1.75\n",
    "Punto3b=4\n",
    "n=10000\n",
    "Areaa1b=((montecarlo_tipo_1(f1,Punto1b,Punto2b,n))-(montecarlo_tipo_1(f2,Punto1b,Punto2b,n)))\n",
    "Areaa2b=-(montecarlo_tipo_1(f1,Punto2b,Punto3b,n))+(montecarlo_tipo_1(f2,Punto2b,Punto3b,n))\n",
    "Areaa1b+Areaa2b"
   ]
  },
  {
   "cell_type": "markdown",
   "id": "e35a6187-8092-4173-88da-804503711087",
   "metadata": {},
   "source": []
  },
  {
   "cell_type": "code",
   "execution_count": null,
   "id": "781956bf-67c8-4afb-b284-e145233463f3",
   "metadata": {},
   "outputs": [],
   "source": []
  },
  {
   "cell_type": "markdown",
   "id": "4d371037-d49d-47f6-97e7-07e683a00976",
   "metadata": {},
   "source": [
    "---\n",
    "### Integración Monte Carlo tipo 2 - Problema 1"
   ]
  },
  {
   "cell_type": "markdown",
   "id": "90efeabd-ef4a-4ccb-bf58-6bbb40892c4e",
   "metadata": {},
   "source": [
    "Se tienen las siguientes desigualdades:"
   ]
  },
  {
   "cell_type": "markdown",
   "id": "d65ac302-8958-48d1-b689-3d8155e4f82a",
   "metadata": {},
   "source": [
    "1.\n",
    "$$ ((\\frac{x}{4})^2 + (\\frac{y-1}{2.5})^2 < 1)\\ \\& \\ ((x+1.5)^2 + (y-1)^2 > 0.2) \\ \\& \\ ((x-1.5)^2 + (y-1)^2 > 0.2) $$\n"
   ]
  },
  {
   "cell_type": "markdown",
   "id": "497f8431-709f-4341-95e7-8fc80ef09a4b",
   "metadata": {},
   "source": [
    "2. $$ (x+3)^2 + (y-4)^2 < 2 $$\n"
   ]
  },
  {
   "cell_type": "markdown",
   "id": "6d8d6211-03a7-4e3a-b8c1-ece030a5b375",
   "metadata": {},
   "source": [
    "3. $$ (x-3)^2 + (y-4)^2 < 2 $$"
   ]
  },
  {
   "cell_type": "markdown",
   "id": "eb3b916a-ab74-49a2-9bcf-9e3df2029b73",
   "metadata": {},
   "source": [
    "4. $$ x^2 + (\\frac{y+5}{2})^2 < 8 $$"
   ]
  },
  {
   "cell_type": "markdown",
   "id": "0cf6abfa-b213-48b5-a99a-c31780360643",
   "metadata": {},
   "source": [
    "1. Crea una función de Python para cada desigualdad."
   ]
  },
  {
   "cell_type": "code",
   "execution_count": null,
   "id": "67e50d2c-5f01-467d-bf4e-b9a2c66b2e62",
   "metadata": {},
   "outputs": [],
   "source": [
    "def f3 (x,y):\n",
    "    return ((x/4)**2+((y-1)/2.5)**2<1)&((x+1.5)**2+(y-1)**2>0.2)&((x-1.5)**2+(y-1)**2>0.2)\n",
    "def f4 (x,y):\n",
    "    return (x+3)**2+(y-4)**2<2\n",
    "def f5 (x,y):\n",
    "    return (x-3)**2+(y-4)**2<2\n",
    "def f6 (x,y):\n",
    "    return (x**2+((y+5)/2)**2<8)\n"
   ]
  },
  {
   "cell_type": "code",
   "execution_count": null,
   "id": "6a580538-2cea-4629-828e-fb4392a909a0",
   "metadata": {},
   "outputs": [],
   "source": []
  },
  {
   "cell_type": "markdown",
   "id": "97a48f69-11e0-4057-bab4-11931913a3be",
   "metadata": {},
   "source": [
    "2. Crea una función que agrupe estas desigualdades (utiliza el operador `|` para unir las desigualdades)"
   ]
  },
  {
   "cell_type": "code",
   "execution_count": null,
   "id": "efbcc005-c828-475d-8295-9ca03ae601f5",
   "metadata": {},
   "outputs": [],
   "source": [
    "def ftotal(x, y) :\n",
    "    return f3(x, y) | f4(x, y) | f5(x, y) | f6(x, y)"
   ]
  },
  {
   "cell_type": "code",
   "execution_count": null,
   "id": "a24405ea-387d-44f8-ae81-45c0fc426986",
   "metadata": {},
   "outputs": [],
   "source": []
  },
  {
   "cell_type": "markdown",
   "id": "b57a12c0-30c4-4110-a4a3-232319008ba6",
   "metadata": {},
   "source": [
    "3. Encuentra los límites de integración"
   ]
  },
  {
   "cell_type": "code",
   "execution_count": null,
   "id": "a1b8ecda-477b-44d9-9c2c-6952cc8691ed",
   "metadata": {},
   "outputs": [],
   "source": [
    "ax=-5\n",
    "bx=5\n",
    "ay=-11\n",
    "by=6\n",
    "n=10000\n",
    "x=np.random.uniform(ax,bx,n)\n",
    "y=np.random.uniform(ay,by,n)\n",
    "plt.figure()\n",
    "plt.scatter(x,y,c=ftotal(x,y))"
   ]
  },
  {
   "cell_type": "code",
   "execution_count": null,
   "id": "d339f4e8-f88c-4938-881c-4c662f54c49e",
   "metadata": {},
   "outputs": [],
   "source": []
  },
  {
   "cell_type": "markdown",
   "id": "d9e844a1-4034-416d-8a48-5c315794eece",
   "metadata": {},
   "source": [
    "4. Aproxima el área de la región descrita por la agrupación de las desigualdades con 1 millón de puntos."
   ]
  },
  {
   "cell_type": "code",
   "execution_count": null,
   "id": "96c4702a-1b7c-4126-981a-41b74bd8f5c3",
   "metadata": {},
   "outputs": [],
   "source": [
    "N=1000000\n",
    "def montecarlo_tipo_2(region,ax,bx,ay,by,n):\n",
    "    x=np.random.uniform(ax,bx,n)\n",
    "    y=np.random.uniform(ay,by,n)\n",
    "    AR=(bx-ax)*(by-ay)\n",
    "    return region(x,y).mean()*AR\n",
    "montecarlo_tipo_2(ftotal,ax,bx,ay,by,N)\n",
    "    "
   ]
  },
  {
   "cell_type": "code",
   "execution_count": null,
   "id": "ed5582dd-99a1-4629-92fe-7b881e6710b8",
   "metadata": {},
   "outputs": [],
   "source": []
  },
  {
   "cell_type": "markdown",
   "id": "4285c504-8eec-46a3-a73b-37a9ce9fd2b5",
   "metadata": {},
   "source": [
    "5. ¿Cuál es el error relativo?"
   ]
  },
  {
   "cell_type": "code",
   "execution_count": null,
   "id": "3a4bbd6d-b3d5-432d-b345-828121d98dd6",
   "metadata": {},
   "outputs": [],
   "source": [
    "AR=(bx-ax)*(by-ay)\n",
    "AD=montecarlo_tipo_2(ftotal,ax,bx,ay,by,N)\n",
    "def C(AR,AD):\n",
    "    return ((1-(AD/AR))/(AD/AR))**0.5\n",
    "error=np.log10(C(AR,AD))-0.5*np.log10(N)\n",
    "error"
   ]
  },
  {
   "cell_type": "markdown",
   "id": "7fb1572e-9b22-453a-a7b1-0866f4fa4d08",
   "metadata": {},
   "source": [
    "Aquí fusione las funciones con este signo | y encontré los límites. Después apliqué el montecarlo tipo 2, pero no pude sacar el error relativo"
   ]
  },
  {
   "cell_type": "markdown",
   "id": "450b21f4-e7f7-450c-befb-a6d7343f1cfd",
   "metadata": {},
   "source": [
    "### Integración Monte Carlo tipo 2 - Problema 2"
   ]
  },
  {
   "cell_type": "markdown",
   "id": "f9d945d8-e2af-4336-9d5b-08bfb79b2665",
   "metadata": {},
   "source": [
    "Se quiere calcular el volumen de una alberca donde su superficie está dada por la siguiente desigualdad:\n",
    "$$ (x^2 + (\\frac{y}{2})^2 \\leq 1)\\ | \\ ((x-1)^2 + (y+2)^2 \\leq 2) $$"
   ]
  },
  {
   "cell_type": "markdown",
   "id": "cd5a1386-ea72-4e68-9ceb-b64b86516c4c",
   "metadata": {},
   "source": [
    "1. Define una función en Python para la desigualdad y utilízala para encontrar límites de integración adecuados para esta superficie."
   ]
  },
  {
   "cell_type": "code",
   "execution_count": 80,
   "id": "010d6c11-70cf-41f3-bf19-aed12b9d9946",
   "metadata": {},
   "outputs": [
    {
     "data": {
      "text/plain": [
       "<matplotlib.collections.PathCollection at 0x2012abebe90>"
      ]
     },
     "execution_count": 80,
     "metadata": {},
     "output_type": "execute_result"
    },
    {
     "data": {
      "image/png": "[encoded data removed]",
      "text/plain": [
       "<Figure size 640x480 with 1 Axes>"
      ]
     },
     "metadata": {},
     "output_type": "display_data"
    }
   ],
   "source": [
    "import numpy as np\n",
    "import matplotlib.pyplot as plt\n",
    "def ftotal2 (x,y):\n",
    "    return (x**2+(y/2)**2<=1)|((x-1)**2+(y+2)**2<=2)\n",
    "ax=-1.2\n",
    "bx=2.5\n",
    "ay=-3.6\n",
    "by=2.1\n",
    "n=10000\n",
    "x=np.random.uniform(ax,bx,n)\n",
    "y=np.random.uniform(ay,by,n)\n",
    "plt.figure()\n",
    "plt.scatter(x,y,c=ftotal2(x,y))"
   ]
  },
  {
   "cell_type": "code",
   "execution_count": null,
   "id": "c8b80b7c-4701-4800-92bd-502763a61bfa",
   "metadata": {},
   "outputs": [],
   "source": []
  },
  {
   "cell_type": "markdown",
   "id": "18a9d985-2cfd-4698-99ed-4109292e35f0",
   "metadata": {},
   "source": [
    "La profundidad de la alberca debe ser de $1.35$ metros. En otras palabras\n",
    "\n",
    "$$ (z \\leq 0)\\ \\& \\ (z \\geq -1.35)$$\n",
    "\n",
    "2. Define una función para esta desigualdad de profundidad."
   ]
  },
  {
   "cell_type": "code",
   "execution_count": 175,
   "id": "0c1187ad-c570-4c30-817f-0fb4be8676bd",
   "metadata": {},
   "outputs": [
    {
     "data": {
      "text/plain": [
       "True"
      ]
     },
     "execution_count": 175,
     "metadata": {},
     "output_type": "execute_result"
    }
   ],
   "source": [
    "def profundidad(z):\n",
    "    return (z<=0) & (z>=-1.35)\n",
    "profundidad(-0.5)"
   ]
  },
  {
   "cell_type": "markdown",
   "id": "055a1b61-e64a-41e6-97f7-0f5ff23374db",
   "metadata": {},
   "source": [
    "3. Define una función que agrupe estas desigualdades (utiliza el operador `&` para unir las desigualdades)"
   ]
  },
  {
   "cell_type": "code",
   "execution_count": 183,
   "id": "6814eebe-9788-462c-b063-7187329d1ba4",
   "metadata": {},
   "outputs": [],
   "source": [
    "def final2(x,y,z):\n",
    "    return  (ftotal2(x,y)) & (profundidad(z))"
   ]
  },
  {
   "cell_type": "markdown",
   "id": "cb00bd98-64a5-43db-9345-cb48c43e3d6d",
   "metadata": {},
   "source": [
    "4. Aproxima el volumen."
   ]
  },
  {
   "cell_type": "code",
   "execution_count": 186,
   "id": "a9142853-2ec9-49ce-9997-246669f22832",
   "metadata": {},
   "outputs": [],
   "source": [
    "def montecarlo_tipo_2_final(region,ax,bx,ay,by,az,bz,n):\n",
    "    x=np.random.uniform(ax,bx,n)\n",
    "    y=np.random.uniform(ay,by,n)\n",
    "    z=np.random.uniform(az,bz,n)\n",
    "    AR=(bx-ax)*(by-ay)*(bz-az)\n",
    "    return region(x,y,z).mean()*AR\n",
    "TotalN=1000\n",
    "ax=-1.2\n",
    "bx=2.5\n",
    "ay=-3.6\n",
    "by=2.1\n",
    "n=10000\n",
    "az=0\n",
    "bz=-1.35"
   ]
  },
  {
   "cell_type": "code",
   "execution_count": 188,
   "id": "6880815d-36a3-4ca3-a97e-bdd11577dda6",
   "metadata": {},
   "outputs": [
    {
     "data": {
      "text/plain": [
       "-14.605879500000004"
      ]
     },
     "execution_count": 188,
     "metadata": {},
     "output_type": "execute_result"
    }
   ],
   "source": [
    "montecarlo_tipo_2_final(final2,ax,bx,ay,by,az,bz,TotalN)"
   ]
  },
  {
   "cell_type": "code",
   "execution_count": null,
   "id": "c39c5ea7-b69b-4564-8ebe-bef9015e7348",
   "metadata": {},
   "outputs": [],
   "source": []
  }
 ],
 "metadata": {
  "kernelspec": {
   "display_name": "Python 3 (ipykernel)",
   "language": "python",
   "name": "python3"
  },
  "language_info": {
   "codemirror_mode": {
    "name": "ipython",
    "version": 3
   },
   "file_extension": ".py",
   "mimetype": "text/x-python",
   "name": "python",
   "nbconvert_exporter": "python",
   "pygments_lexer": "ipython3",
   "version": "3.12.4"
  }
 },
 "nbformat": 4,
 "nbformat_minor": 5
}
