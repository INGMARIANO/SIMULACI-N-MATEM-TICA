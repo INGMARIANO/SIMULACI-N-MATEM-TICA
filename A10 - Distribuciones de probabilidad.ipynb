{
 "cells": [
  {
   "cell_type": "markdown",
   "id": "bfe66b2f-ec28-41a7-8d87-1033e59f7b97",
   "metadata": {},
   "source": [
    "# Mariano Villanueva Aguilar"
   ]
  },
  {
   "cell_type": "markdown",
   "id": "7aa01e24-78b8-4e85-96ea-bb223c12c298",
   "metadata": {},
   "source": [
    "# A10 - Distribuciones de probabilidad\n",
    "# 17/10/2024"
   ]
  },
  {
   "cell_type": "markdown",
   "id": "4949696b-8ec9-47b0-938c-6c01063ba276",
   "metadata": {},
   "source": [
    "1.- Menciona tres ejemplos de variables aleatorias discretas:\n"
   ]
  },
  {
   "cell_type": "markdown",
   "id": "34386a80-bfad-4985-8ee1-318ea1c32611",
   "metadata": {},
   "source": [
    "Número de nacimientos en un año, número de alumnos que pasan un semestre"
   ]
  },
  {
   "cell_type": "markdown",
   "id": "b60e7e9e-38c3-46ed-900f-7a1cc75604b4",
   "metadata": {},
   "source": [
    "2.- Menciona tres ejemplos de variables aleatorias continuas:"
   ]
  },
  {
   "cell_type": "markdown",
   "id": "8dbde776-e7e3-45a4-9cd2-9aa23704b03b",
   "metadata": {},
   "source": [
    "Temperatura de un horno, resistencia eléctrica de una tostadora, el tiempo de traslados"
   ]
  },
  {
   "cell_type": "markdown",
   "id": "3b4fceb7-dd90-4eaf-9b0d-ed105b8aa8fe",
   "metadata": {},
   "source": [
    "3.- Dos equipos juegan una serie de juegos (4 de 7, el que gane 4 juegos gana). Cada equipo tiene un 50% de probabilidad de ganar cada juego (no empates). ¿Cuál es la probabilidad de que la serie se vaya a 7 juegos? (5/16)"
   ]
  },
  {
   "cell_type": "code",
   "execution_count": 10,
   "id": "d84547c7-b818-4a2f-a12c-097a9e11d9e9",
   "metadata": {},
   "outputs": [
    {
     "data": {
      "text/plain": [
       "0.31264"
      ]
     },
     "execution_count": 10,
     "metadata": {},
     "output_type": "execute_result"
    }
   ],
   "source": [
    "import random\n",
    "import numpy as np\n",
    "Xi=[\"equipo1\",\"equipo2\"]\n",
    "n=7\n",
    "Partidas=100000\n",
    "E1=0\n",
    "E2=0\n",
    "lista=[]\n",
    "LISTA=[]\n",
    "for i in range (Partidas):\n",
    "    E1 = 0\n",
    "    E2 = 0\n",
    "    while (E1<4 and E2<4):\n",
    "        ganador=random.choice(Xi)\n",
    "        if ganador==\"equipo1\":\n",
    "            E1+=1\n",
    "        else:\n",
    "            E2+=1\n",
    "    if E1 + E2 == 7 :\n",
    "        LISTA.append(1)\n",
    "    else :\n",
    "        LISTA.append(0)\n",
    "np.mean(LISTA)"
   ]
  },
  {
   "cell_type": "code",
   "execution_count": 11,
   "id": "2c7c9485-771e-450e-8a43-7aaa3df517d6",
   "metadata": {},
   "outputs": [
    {
     "data": {
      "text/plain": [
       "0.3125"
      ]
     },
     "execution_count": 11,
     "metadata": {},
     "output_type": "execute_result"
    }
   ],
   "source": [
    "5/16"
   ]
  },
  {
   "cell_type": "markdown",
   "id": "ab1d6b0f-86d9-46e9-8eac-ff6fd8659490",
   "metadata": {},
   "source": [
    "4.- Una en mil personas tienen una enfermedad H, y la prueba de la enfermedad sale correcta 98% de las veces cuando la persona está enferma. Por otro lado, si la persona está enferma la prueba tiene un error del 1%. Si alguien se hace una prueba y sale positiva, ¿cuál es la probabilidad de que tengan la enfermedad? (98/1097)"
   ]
  },
  {
   "cell_type": "markdown",
   "id": "acedc62e-5d4b-425c-bd0e-b94d0e411b91",
   "metadata": {},
   "source": [
    "$$ P(D=1)=0.1% $$\n",
    "$$ P(T=1|D=1)=98%  $$\n",
    "$$ P(T=1|D=0)=1% $$"
   ]
  },
  {
   "cell_type": "code",
   "execution_count": 14,
   "id": "a06b87d7-8d5f-4aab-baea-e886534fd588",
   "metadata": {},
   "outputs": [
    {
     "data": {
      "text/plain": [
       "0.0905624404194471"
      ]
     },
     "execution_count": 14,
     "metadata": {},
     "output_type": "execute_result"
    }
   ],
   "source": [
    "n=100000\n",
    "\n",
    "personas=np.random.choice([0,1],n, p=[0.999,0.001])\n",
    "t1_d1=np.random.choice([0,1],(personas.sum()), p=[0.02,0.98])\n",
    "t1_d0=np.random.choice([0,1],(n-personas.sum()), p=[0.99,0.01])\n",
    "t1_d1.sum()/((t1_d1.sum())+t1_d0.sum())"
   ]
  },
  {
   "cell_type": "markdown",
   "id": "be62d20e-c05b-4d02-986b-1b9c409bc7d6",
   "metadata": {},
   "source": [
    "$$P(D=1|T=1)=?$$\n",
    "100,000\n",
    "\n",
    "100 se enferman\n",
    "\n",
    "    98 salen positivas\n",
    "    \n",
    "    2 salen negativas\n",
    "    \n",
    "99900 sanas\n",
    "\n",
    "    999 salen positivas\n",
    "    \n",
    "    98901 negativas"
   ]
  },
  {
   "cell_type": "code",
   "execution_count": 16,
   "id": "b04d3a9e-ebd2-49f0-9e12-b76d9229f633",
   "metadata": {},
   "outputs": [
    {
     "data": {
      "text/plain": [
       "0.08933454876937101"
      ]
     },
     "execution_count": 16,
     "metadata": {},
     "output_type": "execute_result"
    }
   ],
   "source": [
    "98/(98+999)"
   ]
  },
  {
   "cell_type": "code",
   "execution_count": 17,
   "id": "0ebaf8f2-87dd-4026-b046-26f01768d114",
   "metadata": {},
   "outputs": [
    {
     "data": {
      "text/plain": [
       "0.08933454876937101"
      ]
     },
     "execution_count": 17,
     "metadata": {},
     "output_type": "execute_result"
    }
   ],
   "source": [
    "98/1097"
   ]
  },
  {
   "cell_type": "markdown",
   "id": "cc9c3880-44b3-4c4e-b2aa-2eda0fc2c686",
   "metadata": {},
   "source": [
    "5.- Tres amigos diferentes te dijeron que está lloviendo, y cada persona tiene 1/3 de probabilidad de mentir. Si el pronóstico del clima dijo que la probabilidad de lluvia era 25%, ¿cuál es la probabilidad de que sí esté lloviendo? (8/11)"
   ]
  },
  {
   "cell_type": "markdown",
   "id": "47d95a30-ca25-4ff4-b9d1-b8c58e6316fe",
   "metadata": {},
   "source": [
    "$$ P(L=1)=1/4 $$\n",
    "$$ P(L=1|A1=1)=2/3  $$\n",
    "$$ P(L=1|A2=1)=2/3 $$\n",
    "$$ P(L=1|A3=1)=2/3  $$\n"
   ]
  },
  {
   "cell_type": "markdown",
   "id": "4125bfe3-1d61-4a72-b618-7183538826c1",
   "metadata": {},
   "source": [
    "$$ P(L=0|A1=1)=1/3  $$\n",
    "$$ P(L=0|A2=1)=1/3 $$\n",
    "$$ P(L=0|A3=1)=1/3  $$\n",
    "\n"
   ]
  },
  {
   "cell_type": "code",
   "execution_count": 21,
   "id": "f9d4a297-7ed1-43d0-a5fd-c43f81e20839",
   "metadata": {},
   "outputs": [],
   "source": [
    "n=10000\n",
    "queremos=0\n",
    "diasdelluvia=0\n",
    "for c in range (n):\n",
    "    Lluvia=np.random.choice([0,1], p=[0.75,0.25])\n",
    "    if Lluvia==1:\n",
    "        a1=np.random.choice([0,1], p=[1/3,2/3])\n",
    "        a2=np.random.choice([0,1], p=[1/3,2/3])\n",
    "        a3=np.random.choice([0,1], p=[1/3,2/3])\n",
    "    else:\n",
    "        a1=np.random.choice([0,1], p=[2/3,1/3])\n",
    "        a2=np.random.choice([0,1], p=[2/3,1/3])\n",
    "        a3=np.random.choice([0,1], p=[2/3,1/3])\n",
    "    \n",
    "    if ((a1==1) & (a2==1) & (a3==1)):\n",
    "        queremos+=1\n",
    "        if Lluvia==1:\n",
    "            diasdelluvia+=1"
   ]
  },
  {
   "cell_type": "code",
   "execution_count": 22,
   "id": "99c57cef-bf10-4e50-a36d-9c19d7098071",
   "metadata": {},
   "outputs": [
    {
     "data": {
      "text/plain": [
       "0.7228315054835494"
      ]
     },
     "execution_count": 22,
     "metadata": {},
     "output_type": "execute_result"
    }
   ],
   "source": [
    "diasdelluvia/queremos"
   ]
  },
  {
   "cell_type": "markdown",
   "id": "49910d8a-f2f5-4b7a-9844-11a0c2af35ae",
   "metadata": {},
   "source": [
    "\n",
    "6.- Resuelve y añade a esta actividad los ejercicios que están en el notebook \"Distribuciones de probabilidad.ipynb\""
   ]
  },
  {
   "cell_type": "markdown",
   "id": "64fe909f-45b8-4b38-966c-ded17bf7d1a0",
   "metadata": {},
   "source": [
    "Avientas un dado tres veces. ¿Cuál es la probabilidad de tirar dos 6 seguidos?"
   ]
  },
  {
   "cell_type": "code",
   "execution_count": 25,
   "id": "0e802eec-f314-4fff-9dec-dd128ab3f87f",
   "metadata": {},
   "outputs": [
    {
     "data": {
      "text/plain": [
       "0.0510668"
      ]
     },
     "execution_count": 25,
     "metadata": {},
     "output_type": "execute_result"
    }
   ],
   "source": [
    "n=10000000\n",
    "np.random.seed(10)\n",
    "d1=np.random.randint(1,7,n)\n",
    "d2=np.random.randint(1,7,n)\n",
    "d3=np.random.randint(1,7,n)\n",
    "caso1=((d1==6)&(d2==6)&(d3!=6))\n",
    "caso2=((d2==6)&(d3==6)&(d1!=6))\n",
    "caso3=((d1==6)&(d2==6)&(d3==6))\n",
    "(caso1.sum()+caso2.sum()+caso3.sum())/n"
   ]
  },
  {
   "cell_type": "markdown",
   "id": "3af13de5-3792-4f7f-b0bd-cbf1a00b866c",
   "metadata": {},
   "source": [
    "Avientas tres dados, uno tras otro. ¿Cuál es la probabilidad de obtener número sólo en orden ascendente?"
   ]
  },
  {
   "cell_type": "code",
   "execution_count": 27,
   "id": "98085293-07b1-4b89-89de-c91201e10713",
   "metadata": {},
   "outputs": [
    {
     "data": {
      "text/plain": [
       "0.0924843"
      ]
     },
     "execution_count": 27,
     "metadata": {},
     "output_type": "execute_result"
    }
   ],
   "source": [
    "np.random.seed(10)\n",
    "d1=np.random.randint(1,7,n)\n",
    "d2=np.random.randint(1,7,n)\n",
    "d3=np.random.randint(1,7,n)\n",
    "exito=(d3>d2)&(d2>d1)\n",
    "exito.sum()/n"
   ]
  },
  {
   "cell_type": "markdown",
   "id": "43daf748-bcdc-4c3f-9930-514c2c40b98a",
   "metadata": {},
   "source": [
    "Tienes una baraja con 100 cartas, con valores del 1 al 100. Tomas dos cartas aleatoriamente sin reemplazo. ¿Cuál es la probabilidad de que una carta valga el doble que la otra?"
   ]
  },
  {
   "cell_type": "code",
   "execution_count": 143,
   "id": "661419a0-4c31-4944-bc79-27689315b06d",
   "metadata": {},
   "outputs": [
    {
     "data": {
      "text/plain": [
       "0.0116"
      ]
     },
     "execution_count": 143,
     "metadata": {},
     "output_type": "execute_result"
    }
   ],
   "source": [
    "caso1 = 0\n",
    "caso2 = 0\n",
    "NN=10000\n",
    "for i in range(NN) :\n",
    "    cartas = np.random.choice(range(1, 101), 2, replace=False)\n",
    "    if (cartas[0]==2*cartas[1]) :\n",
    "        caso1+=1\n",
    "    elif (2*cartas[0]==cartas[1]) :\n",
    "        caso2+=1\n",
    "(caso1+caso2)/NN"
   ]
  },
  {
   "cell_type": "markdown",
   "id": "1160e0ac-91a2-452f-bd60-bcacef036388",
   "metadata": {},
   "source": [
    "Tienes dos monedas: una con águila y sello, y la otra con doble sello. Escoges una al azar y la tiras 5 veces; cae sello 5 veces. ¿Cuál es la probabilidad de que tomaste la moneda con doble sello?"
   ]
  },
  {
   "cell_type": "code",
   "execution_count": 135,
   "id": "c2a5ad32-ea1d-472d-8d0c-f3359f73b99f",
   "metadata": {},
   "outputs": [
    {
     "data": {
      "text/plain": [
       "0.972541382667965"
      ]
     },
     "execution_count": 135,
     "metadata": {},
     "output_type": "execute_result"
    }
   ],
   "source": [
    "monedas=[\"moneda1\",\"moneda2\"]\n",
    "moneda1=[0, 1]\n",
    "moneda2=[1,1]\n",
    "todoslostiros=[]\n",
    "azar=5\n",
    "n=10000\n",
    "sellos=0\n",
    "tirosm1=0\n",
    "sellos_mj = 0\n",
    "sellos_mi = 0\n",
    "for xx in range (n):\n",
    "    tiros = 0\n",
    "    seleccion=random.choice(monedas)\n",
    "    if seleccion==\"moneda1\":\n",
    "        for j in range (azar):\n",
    "            tiros += random.choice(moneda1)\n",
    "        if np.sum(tiros) == 5 : sellos_mj += 1\n",
    "    else:\n",
    "        for j in range (azar):\n",
    "            tiros += 1\n",
    "        sellos_mi += 1\n",
    "\n",
    "#5 sellos de la moneda injusta / (5 sellos de la moneda injusta + 5 sellos de la moneda justa)\n",
    "sellos_mi/(sellos_mi + sellos_mj)"
   ]
  },
  {
   "cell_type": "markdown",
   "id": "cab8cbe6-f9f3-4fee-8bee-71d0c2de174d",
   "metadata": {},
   "source": [
    " Dos personas juegan tenis y están empatadas en 40-40. Esto significa que el set continúa hasta que alguien haya anotado 2 puntos sobre el otro:\n",
    "- Si un jugador anota la puntuación es A-40\n",
    "- Si el segundo jugador anota la puntuación regresa a 40-40\n",
    "\n",
    "El jugador 1 tiene una probabilidad de 60\\% de ganar cada punto, mientras que la probabilidad del segundo jugador es de 40\\%. ¿Cuál es la probabilidad de que el primer jugador gane el set?"
   ]
  },
  {
   "cell_type": "markdown",
   "id": "2b325b9c-cf03-46b4-a00e-f00e5f70c0f6",
   "metadata": {},
   "source": [
    "$$ P(A=1)=0.6 $$\n",
    "$$ P(B=1)=0.4 $$"
   ]
  },
  {
   "cell_type": "code",
   "execution_count": 195,
   "id": "2edb3795-3703-44b5-b23f-4e9957acd4a7",
   "metadata": {},
   "outputs": [
    {
     "data": {
      "text/plain": [
       "(6882, 3118)"
      ]
     },
     "execution_count": 195,
     "metadata": {},
     "output_type": "execute_result"
    }
   ],
   "source": [
    "n=10000\n",
    "E1=40\n",
    "E2=40\n",
    "contadorA=0\n",
    "contadorB=0\n",
    "for i in range (n):\n",
    "    E1=40\n",
    "    E2=40\n",
    "    while E1<42 or E2<42:\n",
    "        punto=np.random.choice([0,1], p=[0.4,0.6])\n",
    "        if punto==1:\n",
    "            E1+=1\n",
    "        else:\n",
    "            E2+=1\n",
    "        if (E1==41) and (E2==41):\n",
    "            E1-=1\n",
    "            E2-=1\n",
    "        elif E1==42:\n",
    "            contadorA+=1\n",
    "            break\n",
    "        elif E2==42:\n",
    "            contadorB+=1\n",
    "            break\n",
    "contadorA,contadorB\n",
    "\n",
    "        "
   ]
  },
  {
   "cell_type": "code",
   "execution_count": 197,
   "id": "bc54b63b-d409-4e1a-8aaa-4c85a4789967",
   "metadata": {},
   "outputs": [
    {
     "data": {
      "text/plain": [
       "0.6882"
      ]
     },
     "execution_count": 197,
     "metadata": {},
     "output_type": "execute_result"
    }
   ],
   "source": [
    "contadorA/n"
   ]
  },
  {
   "cell_type": "code",
   "execution_count": null,
   "id": "eb4a59b8-807b-4956-b828-fa3e63302e09",
   "metadata": {},
   "outputs": [],
   "source": []
  }
 ],
 "metadata": {
  "kernelspec": {
   "display_name": "Python 3 (ipykernel)",
   "language": "python",
   "name": "python3"
  },
  "language_info": {
   "codemirror_mode": {
    "name": "ipython",
    "version": 3
   },
   "file_extension": ".py",
   "mimetype": "text/x-python",
   "name": "python",
   "nbconvert_exporter": "python",
   "pygments_lexer": "ipython3",
   "version": "3.12.4"
  }
 },
 "nbformat": 4,
 "nbformat_minor": 5
}
