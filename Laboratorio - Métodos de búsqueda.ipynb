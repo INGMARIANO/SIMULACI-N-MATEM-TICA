{
 "cells": [
  {
   "cell_type": "markdown",
   "id": "28086fca-2cdd-41ac-b7bf-bc1af9f759a2",
   "metadata": {},
   "source": [
    "# Laboratorio: Métodos de búsqueda"
   ]
  },
  {
   "cell_type": "markdown",
   "id": "3624585a-439d-4e9a-9a27-3460a9b62954",
   "metadata": {},
   "source": [
    "# Mariano Villanueva Aguilar 24/11/2024"
   ]
  },
  {
   "cell_type": "markdown",
   "id": "9e19abc1-82f0-4f28-9493-468e4227c14f",
   "metadata": {},
   "source": [
    "En las clases anteriores creaste códigos para realizar búsquedas aleatorias (Simulated Annealing) y búsquedas dirigidas (Optimización Bayesiana). Estos métodos de búsqueda se utilizan para facilitar el proceso de optimización de funciones objetivos compleja y costosas de computar."
   ]
  },
  {
   "cell_type": "markdown",
   "id": "038474ce-6e2f-4d45-895a-bb17f7c8871d",
   "metadata": {},
   "source": [
    "En este laboratorio usaremos el dataset de los diferentes tipos de iris, y sus longitudes y anchos de pétalos y sépalos. Utilizaremos un RandomForest para crear un modelo de clasificación y el métrico F1 para decidir cuál es el mejor modelo de acuerdo a lo que tenemos disponible."
   ]
  },
  {
   "cell_type": "markdown",
   "id": "c04956ea-14f4-419e-adf8-add3b81da443",
   "metadata": {},
   "source": [
    "1. Carga el dataset de Iris"
   ]
  },
  {
   "cell_type": "code",
   "execution_count": 6,
   "id": "aad912f2-1359-437e-af68-3c8cca8d1b03",
   "metadata": {},
   "outputs": [],
   "source": [
    "from sklearn import datasets\n",
    "X, y = datasets.load_iris(return_X_y=True)"
   ]
  },
  {
   "cell_type": "markdown",
   "id": "9b97ad91-d82b-491c-ac5d-be6f872c5334",
   "metadata": {},
   "source": [
    "2. Importa el archivo `Bosque.py`.\n",
    "\n",
    "Este archivo contiene la función `RegresionBosque`, que recibe:\n",
    "- X: las características independientes\n",
    "- y: la variable de respuesta\n",
    "- árboles: cantidad total de árboles\n",
    "- profundidad de bosque: niveles de profundidad del bosque\n",
    "\n",
    "Su salida es:\n",
    "- modelo: El objeto con el modelo ajustado\n",
    "- f1: El métrico que califica qué tan bueno es el modelo que se ajustó.\n"
   ]
  },
  {
   "cell_type": "code",
   "execution_count": 8,
   "id": "23f875f1-a72a-4a57-8355-16d6bb9fb33a",
   "metadata": {},
   "outputs": [
    {
     "data": {
      "text/plain": [
       "0.9444444444444444"
      ]
     },
     "execution_count": 8,
     "metadata": {},
     "output_type": "execute_result"
    }
   ],
   "source": [
    "import Bosque\n",
    "modelo, f1 = Bosque.RegresionBosque(X, y, 10, 3)\n",
    "f1"
   ]
  },
  {
   "cell_type": "markdown",
   "id": "15ac2825-33ac-4919-9ccb-8324701ce99f",
   "metadata": {},
   "source": [
    "### Actividad 1:"
   ]
  },
  {
   "cell_type": "markdown",
   "id": "a8eb265f-9ccf-4fb4-b8c0-8fe221ea534c",
   "metadata": {},
   "source": [
    "Inicializa un espacio con 5 muestras en nuestro dominio de variables independientes:\n",
    "- árboles: números enteros entre 5 y 50.\n",
    "- profundidad: números enteros entre 2 y 10"
   ]
  },
  {
   "cell_type": "markdown",
   "id": "1ed7c396-af97-49a6-828e-c5d63c1b6999",
   "metadata": {},
   "source": [
    "Utiliza optimización Bayesiana para encontrar la combinación de árboles y profundidad que **maximice** el métrico F1."
   ]
  },
  {
   "cell_type": "code",
   "execution_count": 26,
   "id": "1e563392-4509-4d70-9cb6-adca944d2406",
   "metadata": {},
   "outputs": [
    {
     "data": {
      "text/plain": [
       "(array([14,  6, 18,  7, 34]), array([7, 4, 3, 5, 5]))"
      ]
     },
     "execution_count": 26,
     "metadata": {},
     "output_type": "execute_result"
    }
   ],
   "source": [
    "import numpy as np\n",
    "from sklearn.gaussian_process import GaussianProcessRegressor\n",
    "from sklearn.gaussian_process.kernels import RBF\n",
    "ARB = np.random.randint(5,50,5)\n",
    "PROF= np.random.randint(2,10,5)\n",
    "ARB,PROF"
   ]
  },
  {
   "cell_type": "code",
   "execution_count": 28,
   "id": "de00bcfe-9350-4954-80f6-1ea060276da1",
   "metadata": {},
   "outputs": [
    {
     "data": {
      "text/plain": [
       "[0.9333333333333333,\n",
       " 0.9444444444444444,\n",
       " 0.9333333333333333,\n",
       " 0.9555555555555556,\n",
       " 0.9444444444444444]"
      ]
     },
     "execution_count": 28,
     "metadata": {},
     "output_type": "execute_result"
    }
   ],
   "source": [
    "f1_lista=[]\n",
    "for i in range (len(PROF)):\n",
    "    modelo, f1 = Bosque.RegresionBosque(X, y, ARB[i], PROF[i])\n",
    "    f1_lista.append(f1)\n",
    "f1_lista\n"
   ]
  },
  {
   "cell_type": "raw",
   "id": "515915e6-1b95-4473-bf41-04a0c9acaf6e",
   "metadata": {},
   "source": []
  },
  {
   "cell_type": "code",
   "execution_count": 30,
   "id": "df6ed7e3-1dbb-4717-a00c-005d1b4df511",
   "metadata": {},
   "outputs": [
    {
     "data": {
      "text/plain": [
       "array([[14,  7],\n",
       "       [ 6,  4],\n",
       "       [18,  3],\n",
       "       [ 7,  5],\n",
       "       [34,  5]])"
      ]
     },
     "execution_count": 30,
     "metadata": {},
     "output_type": "execute_result"
    }
   ],
   "source": [
    "arb_vec = ARB.reshape([-1, 1])\n",
    "prof_vec = PROF.reshape([-1, 1])\n",
    "X_hiperparam = np.hstack((arb_vec, prof_vec))\n",
    "X_hiperparam"
   ]
  },
  {
   "cell_type": "code",
   "execution_count": 32,
   "id": "a75cf8df-d1ce-45b2-9949-648aa764d13c",
   "metadata": {},
   "outputs": [],
   "source": [
    "kernel=1.0*RBF(length_scale=1)\n",
    "gp= GaussianProcessRegressor(kernel=kernel, n_restarts_optimizer=10).fit(X_hiperparam,f1_lista)"
   ]
  },
  {
   "cell_type": "code",
   "execution_count": 34,
   "id": "801843c9-1c67-4d9d-8021-55e64e43a9f2",
   "metadata": {},
   "outputs": [
    {
     "data": {
      "text/plain": [
       "array([[14.,  7.],\n",
       "       [ 6.,  4.],\n",
       "       [18.,  3.],\n",
       "       [ 7.,  5.],\n",
       "       [34.,  5.],\n",
       "       [50., 10.]])"
      ]
     },
     "execution_count": 34,
     "metadata": {},
     "output_type": "execute_result"
    }
   ],
   "source": [
    "x1=np.linspace(0,50,100).reshape([-1,1])\n",
    "x2=np.linspace(2,10,100).reshape([-1,1])\n",
    "Matrizmatricial=np.hstack((x1, x2))\n",
    "y_pred,y_std=gp.predict(Matrizmatricial,return_std=True)\n",
    "y_pred_high=y_pred+1.96*y_std\n",
    "i_next=np.argmax(y_pred_high)\n",
    "new_X=np.vstack((X_hiperparam,Matrizmatricial[i_next]))\n",
    "new_X"
   ]
  },
  {
   "cell_type": "code",
   "execution_count": 36,
   "id": "4a7e7997-0618-4341-819b-aa09717aedf5",
   "metadata": {},
   "outputs": [
    {
     "data": {
      "text/plain": [
       "array([50., 10.])"
      ]
     },
     "execution_count": 36,
     "metadata": {},
     "output_type": "execute_result"
    }
   ],
   "source": [
    "Matrizmatricial[i_next]"
   ]
  },
  {
   "cell_type": "code",
   "execution_count": 38,
   "id": "195e14cc-61bd-4aae-a529-5d0d1c540884",
   "metadata": {},
   "outputs": [],
   "source": [
    "Modelo,f1=Bosque.RegresionBosque(X, y, 50, 10)\n"
   ]
  },
  {
   "cell_type": "code",
   "execution_count": 40,
   "id": "45de14a2-19ab-4a9a-9a4b-915e7a31a740",
   "metadata": {},
   "outputs": [
    {
     "data": {
      "text/plain": [
       "[0.9333333333333333,\n",
       " 0.9444444444444444,\n",
       " 0.9333333333333333,\n",
       " 0.9555555555555556,\n",
       " 0.9444444444444444,\n",
       " 0.9555555555555556]"
      ]
     },
     "execution_count": 40,
     "metadata": {},
     "output_type": "execute_result"
    }
   ],
   "source": [
    "f1_lista.append(f1)\n",
    "f1_lista"
   ]
  },
  {
   "cell_type": "code",
   "execution_count": 42,
   "id": "67755c56-14d0-45f5-b810-c064a8fd68a4",
   "metadata": {},
   "outputs": [
    {
     "data": {
      "text/plain": [
       "array([[14.        ,  7.        ],\n",
       "       [ 6.        ,  4.        ],\n",
       "       [18.        ,  3.        ],\n",
       "       [ 7.        ,  5.        ],\n",
       "       [34.        ,  5.        ],\n",
       "       [50.        , 10.        ],\n",
       "       [45.45454545,  9.27272727]])"
      ]
     },
     "execution_count": 42,
     "metadata": {},
     "output_type": "execute_result"
    }
   ],
   "source": [
    "#Segunda iteración\n",
    "kernel=1.0*RBF(length_scale=1)\n",
    "gp= GaussianProcessRegressor(kernel=kernel, n_restarts_optimizer=10).fit(new_X,f1_lista)\n",
    "y_pred,y_std=gp.predict(Matrizmatricial,return_std=True)\n",
    "y_pred_high=y_pred+1.96*y_std\n",
    "i_next=np.argmax(y_pred_high)\n",
    "new_X2=np.vstack((new_X,Matrizmatricial[i_next]))\n",
    "new_X2"
   ]
  },
  {
   "cell_type": "code",
   "execution_count": 44,
   "id": "398d1aca-9d51-45da-a452-9002880912db",
   "metadata": {},
   "outputs": [
    {
     "data": {
      "text/plain": [
       "array([45.45454545,  9.27272727])"
      ]
     },
     "execution_count": 44,
     "metadata": {},
     "output_type": "execute_result"
    }
   ],
   "source": [
    "Matrizmatricial[i_next]"
   ]
  },
  {
   "cell_type": "code",
   "execution_count": 46,
   "id": "c4535796-fe48-42cc-a877-e3775e27eb4f",
   "metadata": {},
   "outputs": [
    {
     "data": {
      "text/plain": [
       "[0.9333333333333333,\n",
       " 0.9444444444444444,\n",
       " 0.9333333333333333,\n",
       " 0.9555555555555556,\n",
       " 0.9444444444444444,\n",
       " 0.9555555555555556,\n",
       " 0.9555555555555556]"
      ]
     },
     "execution_count": 46,
     "metadata": {},
     "output_type": "execute_result"
    }
   ],
   "source": [
    "Modelo,f1=Bosque.RegresionBosque(X, y,45 ,9)\n",
    "f1_lista.append(f1)\n",
    "f1_lista"
   ]
  },
  {
   "cell_type": "code",
   "execution_count": 48,
   "id": "b042484f-a0e3-4f69-b9b3-b0302722bb5d",
   "metadata": {},
   "outputs": [
    {
     "data": {
      "text/plain": [
       "array([[14.        ,  7.        ],\n",
       "       [ 6.        ,  4.        ],\n",
       "       [18.        ,  3.        ],\n",
       "       [ 7.        ,  5.        ],\n",
       "       [34.        ,  5.        ],\n",
       "       [50.        , 10.        ],\n",
       "       [45.45454545,  9.27272727],\n",
       "       [47.97979798,  9.67676768]])"
      ]
     },
     "execution_count": 48,
     "metadata": {},
     "output_type": "execute_result"
    }
   ],
   "source": [
    "#Tercera iteración\n",
    "kernel=1.0*RBF(length_scale=1)\n",
    "gp= GaussianProcessRegressor(kernel=kernel, n_restarts_optimizer=10).fit(new_X2,f1_lista)\n",
    "y_pred,y_std=gp.predict(Matrizmatricial,return_std=True)\n",
    "y_pred_high=y_pred+1.96*y_std\n",
    "i_next=np.argmax(y_pred_high)\n",
    "new_X3=np.vstack((new_X2,Matrizmatricial[i_next]))\n",
    "new_X3"
   ]
  },
  {
   "cell_type": "code",
   "execution_count": 50,
   "id": "dc5ceff1-ff3d-40f6-8b6a-30469d104b56",
   "metadata": {},
   "outputs": [
    {
     "data": {
      "text/plain": [
       "array([47.97979798,  9.67676768])"
      ]
     },
     "execution_count": 50,
     "metadata": {},
     "output_type": "execute_result"
    }
   ],
   "source": [
    "Matrizmatricial[i_next]"
   ]
  },
  {
   "cell_type": "code",
   "execution_count": 52,
   "id": "bf3a7d58-8719-4ff0-b1ec-76c58e176c48",
   "metadata": {},
   "outputs": [
    {
     "data": {
      "text/plain": [
       "[0.9333333333333333,\n",
       " 0.9444444444444444,\n",
       " 0.9333333333333333,\n",
       " 0.9555555555555556,\n",
       " 0.9444444444444444,\n",
       " 0.9555555555555556,\n",
       " 0.9555555555555556,\n",
       " 0.9555555555555556]"
      ]
     },
     "execution_count": 52,
     "metadata": {},
     "output_type": "execute_result"
    }
   ],
   "source": [
    "Modelo,f1=Bosque.RegresionBosque(X, y,48 ,10)\n",
    "f1_lista.append(f1)\n",
    "f1_lista"
   ]
  },
  {
   "cell_type": "code",
   "execution_count": 54,
   "id": "6450217e-fa36-403f-9de3-b116834b6dd3",
   "metadata": {},
   "outputs": [
    {
     "data": {
      "text/plain": [
       "array([[14.        ,  7.        ],\n",
       "       [ 6.        ,  4.        ],\n",
       "       [18.        ,  3.        ],\n",
       "       [ 7.        ,  5.        ],\n",
       "       [34.        ,  5.        ],\n",
       "       [50.        , 10.        ],\n",
       "       [45.45454545,  9.27272727],\n",
       "       [47.97979798,  9.67676768],\n",
       "       [32.32323232,  7.17171717]])"
      ]
     },
     "execution_count": 54,
     "metadata": {},
     "output_type": "execute_result"
    }
   ],
   "source": [
    "#Cuarta iteración\n",
    "kernel=1.0*RBF(length_scale=1)\n",
    "gp= GaussianProcessRegressor(kernel=kernel, n_restarts_optimizer=10).fit(new_X3,f1_lista)\n",
    "y_pred,y_std=gp.predict(Matrizmatricial,return_std=True)\n",
    "y_pred_high=y_pred+1.96*y_std\n",
    "i_next=np.argmax(y_pred_high)\n",
    "new_X4=np.vstack((new_X3,Matrizmatricial[i_next]))\n",
    "new_X4"
   ]
  },
  {
   "cell_type": "code",
   "execution_count": 56,
   "id": "9340c15d-2d04-4a40-988d-f2b6d57165a6",
   "metadata": {},
   "outputs": [
    {
     "data": {
      "text/plain": [
       "array([32.32323232,  7.17171717])"
      ]
     },
     "execution_count": 56,
     "metadata": {},
     "output_type": "execute_result"
    }
   ],
   "source": [
    "Matrizmatricial[i_next]"
   ]
  },
  {
   "cell_type": "code",
   "execution_count": 58,
   "id": "43e6d20b-1969-416d-bde5-cc7cff3a9abd",
   "metadata": {},
   "outputs": [
    {
     "data": {
      "text/plain": [
       "[0.9333333333333333,\n",
       " 0.9444444444444444,\n",
       " 0.9333333333333333,\n",
       " 0.9555555555555556,\n",
       " 0.9444444444444444,\n",
       " 0.9555555555555556,\n",
       " 0.9555555555555556,\n",
       " 0.9555555555555556,\n",
       " 0.9444444444444444]"
      ]
     },
     "execution_count": 58,
     "metadata": {},
     "output_type": "execute_result"
    }
   ],
   "source": [
    "Modelo,f1=Bosque.RegresionBosque(X, y,32 ,7)\n",
    "f1_lista.append(f1)\n",
    "f1_lista"
   ]
  },
  {
   "cell_type": "code",
   "execution_count": 60,
   "id": "489cf0e6-f17b-4d56-8184-6cec87319d6d",
   "metadata": {},
   "outputs": [
    {
     "data": {
      "text/plain": [
       "array([[14.        ,  7.        ],\n",
       "       [ 6.        ,  4.        ],\n",
       "       [18.        ,  3.        ],\n",
       "       [ 7.        ,  5.        ],\n",
       "       [34.        ,  5.        ],\n",
       "       [50.        , 10.        ],\n",
       "       [45.45454545,  9.27272727],\n",
       "       [47.97979798,  9.67676768],\n",
       "       [32.32323232,  7.17171717],\n",
       "       [46.46464646,  9.43434343]])"
      ]
     },
     "execution_count": 60,
     "metadata": {},
     "output_type": "execute_result"
    }
   ],
   "source": [
    "#Quinta iteración\n",
    "kernel=1.0*RBF(length_scale=1)\n",
    "gp= GaussianProcessRegressor(kernel=kernel, n_restarts_optimizer=10).fit(new_X4,f1_lista)\n",
    "y_pred,y_std=gp.predict(Matrizmatricial,return_std=True)\n",
    "y_pred_high=y_pred+1.96*y_std\n",
    "i_next=np.argmax(y_pred_high)\n",
    "new_X5=np.vstack((new_X4,Matrizmatricial[i_next]))\n",
    "new_X5"
   ]
  },
  {
   "cell_type": "code",
   "execution_count": 62,
   "id": "ee9aedc7-6173-4ea2-b34d-e2328d292703",
   "metadata": {},
   "outputs": [
    {
     "data": {
      "text/plain": [
       "array([46.46464646,  9.43434343])"
      ]
     },
     "execution_count": 62,
     "metadata": {},
     "output_type": "execute_result"
    }
   ],
   "source": [
    "Matrizmatricial[i_next]"
   ]
  },
  {
   "cell_type": "code",
   "execution_count": 68,
   "id": "135edf51-6609-4329-91a8-1dcd0a46a3b5",
   "metadata": {},
   "outputs": [
    {
     "data": {
      "text/plain": [
       "[0.9333333333333333,\n",
       " 0.9444444444444444,\n",
       " 0.9333333333333333,\n",
       " 0.9555555555555556,\n",
       " 0.9444444444444444,\n",
       " 0.9555555555555556,\n",
       " 0.9555555555555556,\n",
       " 0.9555555555555556,\n",
       " 0.9444444444444444,\n",
       " 0.9555555555555556]"
      ]
     },
     "execution_count": 68,
     "metadata": {},
     "output_type": "execute_result"
    }
   ],
   "source": [
    "Modelo,f1=Bosque.RegresionBosque(X, y,46 ,9)\n",
    "f1_lista.append(f1)\n",
    "f1_lista"
   ]
  },
  {
   "cell_type": "code",
   "execution_count": 70,
   "id": "85d6c40c-1d4c-4b48-a5f9-5b44098a797f",
   "metadata": {},
   "outputs": [
    {
     "data": {
      "text/plain": [
       "array([[14.        ,  7.        ],\n",
       "       [ 6.        ,  4.        ],\n",
       "       [18.        ,  3.        ],\n",
       "       [ 7.        ,  5.        ],\n",
       "       [34.        ,  5.        ],\n",
       "       [50.        , 10.        ],\n",
       "       [45.45454545,  9.27272727],\n",
       "       [47.97979798,  9.67676768],\n",
       "       [32.32323232,  7.17171717],\n",
       "       [46.46464646,  9.43434343],\n",
       "       [46.46464646,  9.43434343]])"
      ]
     },
     "execution_count": 70,
     "metadata": {},
     "output_type": "execute_result"
    }
   ],
   "source": [
    "#Sexta iteración\n",
    "kernel=1.0*RBF(length_scale=1)\n",
    "gp= GaussianProcessRegressor(kernel=kernel, n_restarts_optimizer=10).fit(new_X5,f1_lista)\n",
    "y_pred,y_std=gp.predict(Matrizmatricial,return_std=True)\n",
    "y_pred_high=y_pred+1.96*y_std\n",
    "i_next=np.argmax(y_pred_high)\n",
    "new_X6=np.vstack((new_X5,Matrizmatricial[i_next]))\n",
    "new_X6"
   ]
  },
  {
   "cell_type": "code",
   "execution_count": 72,
   "id": "e08c8cdb-0306-4532-af06-e6d15ab7c90d",
   "metadata": {},
   "outputs": [
    {
     "data": {
      "text/plain": [
       "array([46.46464646,  9.43434343])"
      ]
     },
     "execution_count": 72,
     "metadata": {},
     "output_type": "execute_result"
    }
   ],
   "source": [
    "Matrizmatricial[i_next]"
   ]
  },
  {
   "cell_type": "code",
   "execution_count": 74,
   "id": "ad79b402-ddda-443e-b107-2c764b92826d",
   "metadata": {},
   "outputs": [
    {
     "data": {
      "text/plain": [
       "[0.9333333333333333,\n",
       " 0.9444444444444444,\n",
       " 0.9333333333333333,\n",
       " 0.9555555555555556,\n",
       " 0.9444444444444444,\n",
       " 0.9555555555555556,\n",
       " 0.9555555555555556,\n",
       " 0.9555555555555556,\n",
       " 0.9444444444444444,\n",
       " 0.9555555555555556,\n",
       " 0.9555555555555556]"
      ]
     },
     "execution_count": 74,
     "metadata": {},
     "output_type": "execute_result"
    }
   ],
   "source": [
    "Modelo,f1=Bosque.RegresionBosque(X, y,47 ,10)\n",
    "f1_lista.append(f1)\n",
    "f1_lista"
   ]
  },
  {
   "cell_type": "code",
   "execution_count": null,
   "id": "8b6b0e54-308b-4c47-8c75-cb6ae1af6c74",
   "metadata": {},
   "outputs": [],
   "source": []
  },
  {
   "cell_type": "code",
   "execution_count": null,
   "id": "48573fd3-4bf9-48d3-96f2-9979d9ca8fc9",
   "metadata": {},
   "outputs": [],
   "source": []
  },
  {
   "cell_type": "code",
   "execution_count": null,
   "id": "1f8f479e-547b-4999-b66a-e611d3f73c12",
   "metadata": {},
   "outputs": [],
   "source": []
  },
  {
   "cell_type": "markdown",
   "id": "5e083a3c-fa68-4942-b5d3-f1f7130b4fbb",
   "metadata": {},
   "source": [
    "### Actividad 2:"
   ]
  },
  {
   "cell_type": "markdown",
   "id": "2817a47c-0081-4376-b222-c65735f4ab9d",
   "metadata": {},
   "source": [
    "Inicializa 2 vectores con posibles valores para las variables independientes:\n",
    "- árboles: números enteros entre 5 y 50\n",
    "- profundidad: números enteros entre 2 y 10\n",
    "\n",
    "Utiliza el algoritmo de Simulated Annealing que siga el siguiente orden:\n",
    "- Elige un punto de partida para las variables.\n",
    "- Selecciona al azar una de las dos para modificarlas.\n",
    "- Selecciona un elemento al azar de la lista que contiene los posibles valores de esa variable.\n",
    "- Sigue el algoritmo ($p$ y $q$) para decidir si usas esa combinación nueva o si mantienes la anterior."
   ]
  },
  {
   "cell_type": "code",
   "execution_count": 113,
   "id": "6f5c63aa-d246-4464-8b9a-ba8ae95721b6",
   "metadata": {},
   "outputs": [
    {
     "data": {
      "text/plain": [
       "array([48,  8])"
      ]
     },
     "execution_count": 113,
     "metadata": {},
     "output_type": "execute_result"
    }
   ],
   "source": [
    "arb=np.random.randint(5,51)\n",
    "prof=np.random.randint(2,11)\n",
    "juntos=np.array([arb,prof])\n",
    "juntos"
   ]
  },
  {
   "cell_type": "code",
   "execution_count": 159,
   "id": "e6286fe8-ec56-4871-9c31-8d4d3ca4c0ae",
   "metadata": {},
   "outputs": [
    {
     "data": {
      "text/plain": [
       "[array([5, 3]),\n",
       " array([49,  7]),\n",
       " array([42,  3]),\n",
       " array([46,  8]),\n",
       " array([15,  6]),\n",
       " array([27,  2]),\n",
       " array([38,  8]),\n",
       " array([38,  2]),\n",
       " array([34,  5]),\n",
       " array([35,  4]),\n",
       " array([12,  5]),\n",
       " array([35,  7]),\n",
       " array([9, 6]),\n",
       " array([13,  8]),\n",
       " array([30, 10]),\n",
       " array([21,  7]),\n",
       " array([16,  3]),\n",
       " array([43,  2]),\n",
       " array([25,  7]),\n",
       " array([14,  6]),\n",
       " array([23,  3]),\n",
       " array([11,  5]),\n",
       " array([37,  8]),\n",
       " array([7, 4]),\n",
       " array([43,  8]),\n",
       " array([50,  8]),\n",
       " array([6, 4]),\n",
       " array([16,  2]),\n",
       " array([30,  4]),\n",
       " array([47,  2]),\n",
       " array([18,  8]),\n",
       " array([31,  5]),\n",
       " array([37,  6]),\n",
       " array([35,  4]),\n",
       " array([24,  9]),\n",
       " array([42,  6]),\n",
       " array([14,  9]),\n",
       " array([46,  9]),\n",
       " array([25,  9]),\n",
       " array([7, 5]),\n",
       " array([28,  7]),\n",
       " array([50,  3]),\n",
       " array([12,  8]),\n",
       " array([6, 4]),\n",
       " array([6, 4]),\n",
       " array([36,  4]),\n",
       " array([17,  2]),\n",
       " array([48,  9]),\n",
       " array([26,  8]),\n",
       " array([45,  9]),\n",
       " array([10, 10]),\n",
       " array([46,  3]),\n",
       " array([21,  8]),\n",
       " array([7, 9]),\n",
       " array([33,  9]),\n",
       " array([46,  6]),\n",
       " array([20,  9]),\n",
       " array([32,  9]),\n",
       " array([37,  4]),\n",
       " array([35,  9]),\n",
       " array([38,  9]),\n",
       " array([39,  7]),\n",
       " array([ 7, 10]),\n",
       " array([42, 10]),\n",
       " array([46,  2]),\n",
       " array([15,  3]),\n",
       " array([29,  6]),\n",
       " array([28, 10]),\n",
       " array([23,  5]),\n",
       " array([17,  5]),\n",
       " array([49,  2]),\n",
       " array([17,  7]),\n",
       " array([16,  9]),\n",
       " array([27, 10]),\n",
       " array([11,  6]),\n",
       " array([31,  8]),\n",
       " array([20,  5]),\n",
       " array([46,  3]),\n",
       " array([28,  2]),\n",
       " array([17, 10]),\n",
       " array([11,  9]),\n",
       " array([31, 10]),\n",
       " array([9, 5]),\n",
       " array([28,  4]),\n",
       " array([45,  2]),\n",
       " array([22,  3]),\n",
       " array([23,  8]),\n",
       " array([42,  3]),\n",
       " array([13,  9]),\n",
       " array([38,  4]),\n",
       " array([12,  2]),\n",
       " array([18,  5]),\n",
       " array([44,  5]),\n",
       " array([15,  5]),\n",
       " array([24,  6]),\n",
       " array([46,  7]),\n",
       " array([49,  3]),\n",
       " array([27,  7]),\n",
       " array([5, 9]),\n",
       " array([50, 10])]"
      ]
     },
     "execution_count": 159,
     "metadata": {},
     "output_type": "execute_result"
    }
   ],
   "source": [
    "N=30\n",
    "T=1000\n",
    "M=100\n",
    "Larboles=[]\n",
    "Lprof=[]\n",
    "Lrutas=[]\n",
    "for i in range (M):\n",
    "    R1=np.array([np.random.randint(5,51),np.random.randint(2,11)])\n",
    "    while(T>=1):\n",
    "        for j in range (N):\n",
    "            decision=np.random.randint(0,2)\n",
    "            R2=R1.copy()\n",
    "            if decision==0:\n",
    "                R2[decision]=np.random.randint(5,51)\n",
    "            else:\n",
    "                R2[decision]=np.random.randint(2,11)\n",
    "                \n",
    "            p=np.random.uniform(0,1)\n",
    "            D1=R1[decision]\n",
    "            D2=R2[decision]\n",
    "            q=np.exp((D1-D2)/T)\n",
    "            if p<q:\n",
    "                R1=R2.copy()     \n",
    "        T=T*0.9\n",
    "    Larboles.append(R1[0].copy())\n",
    "    Lprof.append(R1[1].copy())\n",
    "    Lrutas.append(R1.copy())\n",
    "Lrutas\n"
   ]
  },
  {
   "cell_type": "code",
   "execution_count": 137,
   "id": "d6bff6bb-36f0-48cc-83e8-e327612d249f",
   "metadata": {},
   "outputs": [
    {
     "data": {
      "text/plain": [
       "[0, 1]"
      ]
     },
     "execution_count": 137,
     "metadata": {},
     "output_type": "execute_result"
    }
   ],
   "source": []
  },
  {
   "cell_type": "code",
   "execution_count": null,
   "id": "f9d43a21-d92d-41b9-9414-24990aba9994",
   "metadata": {},
   "outputs": [],
   "source": []
  }
 ],
 "metadata": {
  "kernelspec": {
   "display_name": "Python 3 (ipykernel)",
   "language": "python",
   "name": "python3"
  },
  "language_info": {
   "codemirror_mode": {
    "name": "ipython",
    "version": 3
   },
   "file_extension": ".py",
   "mimetype": "text/x-python",
   "name": "python",
   "nbconvert_exporter": "python",
   "pygments_lexer": "ipython3",
   "version": "3.12.4"
  }
 },
 "nbformat": 4,
 "nbformat_minor": 5
}
