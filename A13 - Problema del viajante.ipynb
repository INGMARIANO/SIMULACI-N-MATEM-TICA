{
 "cells": [
  {
   "cell_type": "markdown",
   "id": "a825814f-e8b9-4233-9b94-a6eb385d5533",
   "metadata": {},
   "source": [
    "# A13 - Problema del viajante"
   ]
  },
  {
   "cell_type": "markdown",
   "id": "b88b7274-f753-4cb2-8ffe-459ed662b851",
   "metadata": {},
   "source": [
    "# Mariano Villanueva Aguilar 07/11/2024"
   ]
  },
  {
   "cell_type": "code",
   "execution_count": 224,
   "id": "4bbe3709-6428-4b81-b986-f5dbc30e7cd0",
   "metadata": {},
   "outputs": [],
   "source": [
    "import numpy as np\n",
    "x=[\"Tijuana\",\"Mérida\",\"GDL\",\"México\",\"León\",\"Monterrey\",\"Tapachula\",\"Chihuahua\"]\n",
    "def F(x):\n",
    "    lista=np.random.permutation(x)\n",
    "    lista=lista.tolist()\n",
    "    #lista.append(lista[0])\n",
    "    return lista.copy()\n",
    "def F2(a, b):\n",
    "    return datos.loc[a,b]\n",
    "def F3(lista):\n",
    "    DT=0\n",
    "    n=(len(lista))-1\n",
    "    for i in range (n):\n",
    "        a=lista[i]\n",
    "        b=lista[i+1]\n",
    "        DT+=F2(a,b)\n",
    "    DT += F2(lista[-1], lista[0])\n",
    "    return DT"
   ]
  },
  {
   "cell_type": "code",
   "execution_count": 226,
   "id": "5ea2b64a-52ea-43b8-bc1f-1fdd3aed1abc",
   "metadata": {},
   "outputs": [
    {
     "name": "stdout",
     "output_type": "stream",
     "text": [
      "y\n"
     ]
    }
   ],
   "source": [
    "R1=F(x)\n",
    "R2=R1.copy()\n",
    "ind = np.random.choice([0, 1, 2, 3, 4, 5, 6, 7], 2, replace=False)\n",
    "a=ind[0]\n",
    "b=ind[1]\n",
    "R2[a]=R1[b]\n",
    "R2[b]=R1[a]\n",
    "p=np.random.uniform(0,1)\n",
    "D1=F3(R1)\n",
    "D2=F3(R2)\n",
    "q=np.exp((D1-D2)/T)\n",
    "if p<q:\n",
    "    print(\"y\")\n",
    "    R1=R2.copy()"
   ]
  },
  {
   "cell_type": "code",
   "execution_count": 228,
   "id": "a310c15b-7444-4025-aa70-7507a303a810",
   "metadata": {},
   "outputs": [
    {
     "data": {
      "text/plain": [
       "(['México',\n",
       "  'Monterrey',\n",
       "  'GDL',\n",
       "  'Chihuahua',\n",
       "  'Tijuana',\n",
       "  'Tapachula',\n",
       "  'León',\n",
       "  'Mérida'],\n",
       " ['México',\n",
       "  'Monterrey',\n",
       "  'GDL',\n",
       "  'Chihuahua',\n",
       "  'Tijuana',\n",
       "  'Tapachula',\n",
       "  'León',\n",
       "  'Mérida'])"
      ]
     },
     "execution_count": 228,
     "metadata": {},
     "output_type": "execute_result"
    }
   ],
   "source": [
    "R1, R2"
   ]
  },
  {
   "cell_type": "code",
   "execution_count": 230,
   "id": "7e4cbe46-84aa-4dae-9c1b-6bb6ae45669d",
   "metadata": {},
   "outputs": [
    {
     "data": {
      "text/html": [
       "<div>\n",
       "<style scoped>\n",
       "    .dataframe tbody tr th:only-of-type {\n",
       "        vertical-align: middle;\n",
       "    }\n",
       "\n",
       "    .dataframe tbody tr th {\n",
       "        vertical-align: top;\n",
       "    }\n",
       "\n",
       "    .dataframe thead th {\n",
       "        text-align: right;\n",
       "    }\n",
       "</style>\n",
       "<table border=\"1\" class=\"dataframe\">\n",
       "  <thead>\n",
       "    <tr style=\"text-align: right;\">\n",
       "      <th></th>\n",
       "      <th>Tijuana</th>\n",
       "      <th>Mérida</th>\n",
       "      <th>GDL</th>\n",
       "      <th>México</th>\n",
       "      <th>León</th>\n",
       "      <th>Monterrey</th>\n",
       "      <th>Tapachula</th>\n",
       "      <th>Chihuahua</th>\n",
       "    </tr>\n",
       "    <tr>\n",
       "      <th>Unnamed: 0</th>\n",
       "      <th></th>\n",
       "      <th></th>\n",
       "      <th></th>\n",
       "      <th></th>\n",
       "      <th></th>\n",
       "      <th></th>\n",
       "      <th></th>\n",
       "      <th></th>\n",
       "    </tr>\n",
       "  </thead>\n",
       "  <tbody>\n",
       "    <tr>\n",
       "      <th>Tijuana</th>\n",
       "      <td>0</td>\n",
       "      <td>4180</td>\n",
       "      <td>2306</td>\n",
       "      <td>2848</td>\n",
       "      <td>2529</td>\n",
       "      <td>2409</td>\n",
       "      <td>4005</td>\n",
       "      <td>1583</td>\n",
       "    </tr>\n",
       "    <tr>\n",
       "      <th>Mérida</th>\n",
       "      <td>4180</td>\n",
       "      <td>0</td>\n",
       "      <td>1874</td>\n",
       "      <td>1332</td>\n",
       "      <td>1719</td>\n",
       "      <td>2046</td>\n",
       "      <td>1062</td>\n",
       "      <td>2819</td>\n",
       "    </tr>\n",
       "    <tr>\n",
       "      <th>GDL</th>\n",
       "      <td>2306</td>\n",
       "      <td>1874</td>\n",
       "      <td>0</td>\n",
       "      <td>542</td>\n",
       "      <td>223</td>\n",
       "      <td>789</td>\n",
       "      <td>1699</td>\n",
       "      <td>1202</td>\n",
       "    </tr>\n",
       "    <tr>\n",
       "      <th>México</th>\n",
       "      <td>2848</td>\n",
       "      <td>1332</td>\n",
       "      <td>542</td>\n",
       "      <td>0</td>\n",
       "      <td>389</td>\n",
       "      <td>933</td>\n",
       "      <td>1157</td>\n",
       "      <td>1487</td>\n",
       "    </tr>\n",
       "    <tr>\n",
       "      <th>León</th>\n",
       "      <td>2529</td>\n",
       "      <td>1719</td>\n",
       "      <td>223</td>\n",
       "      <td>389</td>\n",
       "      <td>0</td>\n",
       "      <td>711</td>\n",
       "      <td>1544</td>\n",
       "      <td>1140</td>\n",
       "    </tr>\n",
       "    <tr>\n",
       "      <th>Monterrey</th>\n",
       "      <td>2409</td>\n",
       "      <td>2046</td>\n",
       "      <td>789</td>\n",
       "      <td>933</td>\n",
       "      <td>711</td>\n",
       "      <td>0</td>\n",
       "      <td>1803</td>\n",
       "      <td>826</td>\n",
       "    </tr>\n",
       "    <tr>\n",
       "      <th>Tapachula</th>\n",
       "      <td>4005</td>\n",
       "      <td>1062</td>\n",
       "      <td>1699</td>\n",
       "      <td>1157</td>\n",
       "      <td>1544</td>\n",
       "      <td>1803</td>\n",
       "      <td>0</td>\n",
       "      <td>2644</td>\n",
       "    </tr>\n",
       "    <tr>\n",
       "      <th>Chihuahua</th>\n",
       "      <td>1583</td>\n",
       "      <td>2819</td>\n",
       "      <td>1202</td>\n",
       "      <td>1487</td>\n",
       "      <td>1140</td>\n",
       "      <td>826</td>\n",
       "      <td>2644</td>\n",
       "      <td>0</td>\n",
       "    </tr>\n",
       "  </tbody>\n",
       "</table>\n",
       "</div>"
      ],
      "text/plain": [
       "            Tijuana  Mérida   GDL  México  León  Monterrey  Tapachula  \\\n",
       "Unnamed: 0                                                              \n",
       "Tijuana           0    4180  2306    2848  2529       2409       4005   \n",
       "Mérida         4180       0  1874    1332  1719       2046       1062   \n",
       "GDL            2306    1874     0     542   223        789       1699   \n",
       "México         2848    1332   542       0   389        933       1157   \n",
       "León           2529    1719   223     389     0        711       1544   \n",
       "Monterrey      2409    2046   789     933   711          0       1803   \n",
       "Tapachula      4005    1062  1699    1157  1544       1803          0   \n",
       "Chihuahua      1583    2819  1202    1487  1140        826       2644   \n",
       "\n",
       "            Chihuahua  \n",
       "Unnamed: 0             \n",
       "Tijuana          1583  \n",
       "Mérida           2819  \n",
       "GDL              1202  \n",
       "México           1487  \n",
       "León             1140  \n",
       "Monterrey         826  \n",
       "Tapachula        2644  \n",
       "Chihuahua           0  "
      ]
     },
     "execution_count": 230,
     "metadata": {},
     "output_type": "execute_result"
    }
   ],
   "source": [
    "import pandas as pd\n",
    "datos= pd.read_excel(\"datosCT.xlsx\", sheet_name=\"8c\").set_index(\"Unnamed: 0\")\n",
    "datos"
   ]
  },
  {
   "cell_type": "code",
   "execution_count": 232,
   "id": "83697cc2-f709-4c74-aac3-4f2ddf207c96",
   "metadata": {},
   "outputs": [
    {
     "data": {
      "text/plain": [
       "['Mérida',\n",
       " 'Monterrey',\n",
       " 'México',\n",
       " 'Tapachula',\n",
       " 'Chihuahua',\n",
       " 'Tijuana',\n",
       " 'León',\n",
       " 'GDL']"
      ]
     },
     "execution_count": 232,
     "metadata": {},
     "output_type": "execute_result"
    }
   ],
   "source": [
    "F(x)"
   ]
  },
  {
   "cell_type": "code",
   "execution_count": null,
   "id": "c7cdea17-3cad-4e13-a4ed-d1b09d13ea1a",
   "metadata": {},
   "outputs": [],
   "source": []
  },
  {
   "cell_type": "code",
   "execution_count": 235,
   "id": "30a393dc-bf51-4386-aef9-79a4b8c9b594",
   "metadata": {},
   "outputs": [
    {
     "data": {
      "image/png": "[encoded data removed]",
      "text/plain": [
       "<Figure size 640x480 with 1 Axes>"
      ]
     },
     "metadata": {},
     "output_type": "display_data"
    }
   ],
   "source": [
    "i=0\n",
    "N=30\n",
    "T=1000\n",
    "M=100\n",
    "Lrutas=[]\n",
    "Ldist=[]\n",
    "for l in range (M):\n",
    "    R1=F(x)\n",
    "    while (T>=1):\n",
    "        while i<N:\n",
    "\n",
    "            R2=R1.copy()\n",
    "            ind = np.random.choice([0, 1, 2, 3, 4, 5, 6, 7], 2, replace=False)\n",
    "            a=ind[0]\n",
    "            b=ind[1]\n",
    "            R2[a]=R1[b]\n",
    "            R2[b]=R1[a]\n",
    "            \n",
    "            p=np.random.uniform(0,1)\n",
    "            D1=F3(R1)\n",
    "            D2=F3(R2)\n",
    "            q=np.exp((D1-D2)/T)\n",
    "            if p<q:\n",
    "                R1=R2.copy()\n",
    "            i+=1\n",
    "        T=T*0.9\n",
    "    Lrutas.append(R1.copy())\n",
    "    Ldist.append(F3((R1.copy())))\n",
    "import matplotlib.pyplot as plt\n",
    "plt.figure()\n",
    "plt.hist(Ldist);"
   ]
  },
  {
   "cell_type": "code",
   "execution_count": 237,
   "id": "65bb20b0-ba10-46d8-ac67-84c997f15dd9",
   "metadata": {},
   "outputs": [
    {
     "data": {
      "text/plain": [
       "['México',\n",
       " 'Monterrey',\n",
       " 'Chihuahua',\n",
       " 'Tijuana',\n",
       " 'GDL',\n",
       " 'León',\n",
       " 'Mérida',\n",
       " 'Tapachula']"
      ]
     },
     "execution_count": 237,
     "metadata": {},
     "output_type": "execute_result"
    }
   ],
   "source": [
    "Mejor=min(Ldist)\n",
    "Mejor\n",
    "Lrutas[Ldist.index(Mejor)]\n"
   ]
  },
  {
   "cell_type": "code",
   "execution_count": 239,
   "id": "5fb6bfb7-9fd6-491a-ba51-077a7528dd28",
   "metadata": {},
   "outputs": [
    {
     "data": {
      "text/plain": [
       "9809"
      ]
     },
     "execution_count": 239,
     "metadata": {},
     "output_type": "execute_result"
    }
   ],
   "source": [
    "min(Ldist)"
   ]
  },
  {
   "cell_type": "code",
   "execution_count": null,
   "id": "2be9bd47-db19-40d6-95d6-8fba7dd7a929",
   "metadata": {},
   "outputs": [],
   "source": []
  }
 ],
 "metadata": {
  "kernelspec": {
   "display_name": "Python 3 (ipykernel)",
   "language": "python",
   "name": "python3"
  },
  "language_info": {
   "codemirror_mode": {
    "name": "ipython",
    "version": 3
   },
   "file_extension": ".py",
   "mimetype": "text/x-python",
   "name": "python",
   "nbconvert_exporter": "python",
   "pygments_lexer": "ipython3",
   "version": "3.12.4"
  }
 },
 "nbformat": 4,
 "nbformat_minor": 5
}
