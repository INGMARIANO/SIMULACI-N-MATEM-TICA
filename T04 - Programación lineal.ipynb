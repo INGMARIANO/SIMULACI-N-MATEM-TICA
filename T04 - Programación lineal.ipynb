{
 "cells": [
  {
   "cell_type": "markdown",
   "id": "98c1515e-e21f-4db5-83b5-3372d643ab2b",
   "metadata": {},
   "source": [
    "# Mariano Villanueva Aguilar"
   ]
  },
  {
   "cell_type": "markdown",
   "id": "d5d115d4-2bac-4a48-ad78-adcc0fc427a6",
   "metadata": {},
   "source": [
    "# 12/092024"
   ]
  },
  {
   "cell_type": "markdown",
   "id": "b9e0637e-b247-4be4-80e3-eff13cca8d66",
   "metadata": {},
   "source": [
    "# T04 Programación Lineal"
   ]
  },
  {
   "cell_type": "markdown",
   "id": "c60a6f87-6c3a-4d4a-89ff-e15548b445e5",
   "metadata": {},
   "source": [
    "Una multinacional farmacéutica desea fabricar un compuesto nutritivo a base de dos productos A y B.  El producto A contiene  $30\\%$ de proteínas,  un $1\\%$ de grasas y un  $10\\%$ de azúcares.  El producto B  contiene  un  $5\\%$  de proteínas,  un  $7\\%$ de grasas  y un  $10\\%$  de  azúcares.\n",
    "\n",
    "El compuesto debe de tener,  al menos, $25g$ de proteínas,  $6g$ de grasas y $30g$ de azúcares.  El coste del producto A es de $0.6$ u.m./g  y el de B es de $0.2$  u.m./g\n",
    "\n",
    "Se desea encontrar la cantidad en gramos de cada producto para que el coste total sea mínimo.\n",
    "\n",
    "Formular el problema de decidir cuánto hacer de cada producto como un problema de programación lineal."
   ]
  },
  {
   "cell_type": "markdown",
   "id": "b76f864a-a9c4-4678-8b6b-153363ffdc59",
   "metadata": {},
   "source": [
    "1.Criterio de optimización\n",
    "\n",
    "Minimizar costo\n",
    "\n",
    "2. ¿Sobre que puedo influir? y variables\n",
    "\n",
    "En la cantidad de producto A y cantidad de producto B\n",
    "$$ x_A,x_B $$\n",
    "3. Función de costo\n",
    "$$ Costo=0.6x_A + 0.2x_B $$\n",
    "4. Información adicional\n",
    "$$ proteina \\geq 25$$\n",
    "$$ grasas \\geq 6$$\n",
    "$$ azucar \\geq 30$$"
   ]
  },
  {
   "cell_type": "markdown",
   "id": "193f37a3-b519-4ef0-ad80-dfc45e8b71cf",
   "metadata": {},
   "source": [
    "Proteína\n",
    "$$ 0.3x_A+0.05x_B \\geq 25 $$\n",
    "Grasas\n",
    "$$ 0.01x_A+0.07x_B \\geq 6 $$\n",
    "Azúcar\n",
    "$$ 0.1x_A+0.1x_B \\geq 30 $$"
   ]
  },
  {
   "cell_type": "markdown",
   "id": "a00e65fa-8322-4ba3-b13c-1d6bea441fbe",
   "metadata": {},
   "source": [
    "5. Vectorizar en forma"
   ]
  },
  {
   "cell_type": "code",
   "execution_count": 57,
   "id": "23448604-00d7-457d-8724-c848be1d6efa",
   "metadata": {},
   "outputs": [],
   "source": [
    "import numpy as np\n",
    "import scipy.optimize as opt\n",
    "c=np.array([0.6,0.2])\n",
    "Aub=np.array([\n",
    "    [-0.3,-0.05],\n",
    "    [-0.01,-0.07],\n",
    "    [-0.1,-0.1]\n",
    "])\n",
    "bub=np.array([\n",
    "    [-25],\n",
    "    [-6],\n",
    "    [-30],\n",
    "])\n",
    "\n"
   ]
  },
  {
   "cell_type": "code",
   "execution_count": 7,
   "id": "8ea98c13-4cd3-4239-938c-3718ea7c711b",
   "metadata": {},
   "outputs": [
    {
     "data": {
      "text/plain": [
       "        message: Optimization terminated successfully. (HiGHS Status 7: Optimal)\n",
       "        success: True\n",
       "         status: 0\n",
       "            fun: 76.00000000000001\n",
       "              x: [ 4.000e+01  2.600e+02]\n",
       "            nit: -1\n",
       "          lower:  residual: [ 4.000e+01  2.600e+02]\n",
       "                 marginals: [ 0.000e+00  0.000e+00]\n",
       "          upper:  residual: [       inf        inf]\n",
       "                 marginals: [ 0.000e+00  0.000e+00]\n",
       "          eqlin:  residual: []\n",
       "                 marginals: []\n",
       "        ineqlin:  residual: [ 3.553e-15  1.260e+01  7.105e-15]\n",
       "                 marginals: [ 0.000e+00  0.000e+00  0.000e+00]\n",
       " mip_node_count: 1\n",
       " mip_dual_bound: 76.00000000000001\n",
       "        mip_gap: 0.0"
      ]
     },
     "execution_count": 7,
     "metadata": {},
     "output_type": "execute_result"
    }
   ],
   "source": [
    "sol=opt.linprog(c,Aub,bub, integrality=1)\n",
    "sol"
   ]
  },
  {
   "cell_type": "code",
   "execution_count": 9,
   "id": "a47a27ad-a6ec-4201-ae07-671c15449bad",
   "metadata": {},
   "outputs": [
    {
     "data": {
      "text/plain": [
       "array([ 40., 260.])"
      ]
     },
     "execution_count": 9,
     "metadata": {},
     "output_type": "execute_result"
    }
   ],
   "source": [
    "sol.x"
   ]
  },
  {
   "cell_type": "code",
   "execution_count": 11,
   "id": "448885f0-2b92-40e1-9039-7d38e0a39ed1",
   "metadata": {},
   "outputs": [
    {
     "data": {
      "text/plain": [
       "array([-25. , -18.6, -30. ])"
      ]
     },
     "execution_count": 11,
     "metadata": {},
     "output_type": "execute_result"
    }
   ],
   "source": [
    "Aub@sol.x"
   ]
  },
  {
   "cell_type": "markdown",
   "id": "ef9d4e7f-3059-48b2-acf9-632937acce56",
   "metadata": {},
   "source": [
    "Se toman 40 g del producto A y 260g del producto B"
   ]
  },
  {
   "cell_type": "code",
   "execution_count": null,
   "id": "389b5cb4-1180-4c90-9fd9-2f7cc8ac4128",
   "metadata": {},
   "outputs": [],
   "source": []
  },
  {
   "cell_type": "markdown",
   "id": "c21e1d57-60fa-4dfa-a94c-86a4f0acb6ab",
   "metadata": {},
   "source": [
    "Una  fábrica  de  carrocerías  de  automóviles  y camiones  tiene  dos naves. \n",
    "\n",
    "+ En  la nave A,  para  hacer  la  carrocería  de  un  camión,  se  invierten  siete  días-operario,  para  fabricar  la  de  un  coche  se  precisan dos días-operario.\n",
    "\n",
    "+ En la nave B se invierten tres días operario tanto en carrocerías de camión como de coche. \n",
    "\n",
    "Por limitaciones de mano de obra y maquinaria, la nave A dispone de $300$ días operario, y la nave B de $270$ días-operario.\n",
    "\n",
    "Si los beneficios que se obtienen por cada camión son de $600$ u.m y por  cada  automóvil  $200$ u.m,  ¿cuántas  unidades  de  cada  uno  se deben  producir  para maximizar las  ganancias? \n",
    "\n",
    "**Nota:** el problema $\\max_{\\boldsymbol{x}}\\boldsymbol{g}(\\boldsymbol{x})$ es equivalente a $\\min_{\\boldsymbol{x}}-\\boldsymbol{g}(\\boldsymbol{x})$."
   ]
  },
  {
   "cell_type": "markdown",
   "id": "feae46ae-8773-4839-94f9-9c5e40738e89",
   "metadata": {},
   "source": [
    "1. Criterio de optimización\n",
    "Maximizar ganancia\n",
    "\n",
    "2. ¿En qué puedo infuir?\n",
    "Cantidad de autos en A $$ a_A $$\n",
    "Cantidad de camiones en A $$ c_A $$\n",
    "Cantidad de autos en B $$ a_B $$\n",
    "Cantidad de camiones en B $$ c_B $$\n",
    "\n",
    "3. Función de Costo\n",
    "$$ Costo = 200a_A+600c_A+200a_B+600c_B $$\n",
    "4. Info adicional\n",
    "Nave A\n",
    "$$ 2a_A+7cA \\leq 300 $$\n",
    "Nave B\n",
    "$$ 3a_B +3c_B \\leq 270 $$"
   ]
  },
  {
   "cell_type": "markdown",
   "id": "15c705e0-57b0-4f6f-815b-88b594eceed0",
   "metadata": {},
   "source": [
    "5. Vectorizar en forma"
   ]
  },
  {
   "cell_type": "code",
   "execution_count": 35,
   "id": "a418dfcd-53a2-4a5e-95c5-4ec64305696a",
   "metadata": {},
   "outputs": [],
   "source": [
    "import numpy as np\n",
    "import scipy.optimize as opt\n",
    "c2=np.array([-200,-600,-200,-600])\n",
    "Aub2=np.array([\n",
    "    [2,7,0,0],\n",
    "    [0,0,3,3],\n",
    "])\n",
    "bub2=np.array([\n",
    "    [300],\n",
    "    [270],\n",
    "])\n"
   ]
  },
  {
   "cell_type": "code",
   "execution_count": 37,
   "id": "2f5f21a1-02dd-4a43-9b75-ce36574180d9",
   "metadata": {},
   "outputs": [
    {
     "data": {
      "text/plain": [
       "        message: Optimization terminated successfully. (HiGHS Status 7: Optimal)\n",
       "        success: True\n",
       "         status: 0\n",
       "            fun: -84000.0\n",
       "              x: [ 1.500e+02 -0.000e+00  0.000e+00  9.000e+01]\n",
       "            nit: -1\n",
       "          lower:  residual: [ 1.500e+02 -0.000e+00  0.000e+00  9.000e+01]\n",
       "                 marginals: [ 0.000e+00  0.000e+00  0.000e+00  0.000e+00]\n",
       "          upper:  residual: [       inf        inf        inf        inf]\n",
       "                 marginals: [ 0.000e+00  0.000e+00  0.000e+00  0.000e+00]\n",
       "          eqlin:  residual: []\n",
       "                 marginals: []\n",
       "        ineqlin:  residual: [ 0.000e+00  0.000e+00]\n",
       "                 marginals: [ 0.000e+00  0.000e+00]\n",
       " mip_node_count: 1\n",
       " mip_dual_bound: -84000.0\n",
       "        mip_gap: 0.0"
      ]
     },
     "execution_count": 37,
     "metadata": {},
     "output_type": "execute_result"
    }
   ],
   "source": [
    "sol2=opt.linprog(c2,Aub2,bub2, integrality=1)\n",
    "sol2"
   ]
  },
  {
   "cell_type": "code",
   "execution_count": 39,
   "id": "686f1fe9-696c-4447-b137-09d66754a0d0",
   "metadata": {},
   "outputs": [
    {
     "data": {
      "text/plain": [
       "array([150.,  -0.,   0.,  90.])"
      ]
     },
     "execution_count": 39,
     "metadata": {},
     "output_type": "execute_result"
    }
   ],
   "source": [
    "sol2.x"
   ]
  },
  {
   "cell_type": "markdown",
   "id": "c98c1685-1b08-4a01-ac73-c3dc24857aec",
   "metadata": {},
   "source": [
    "Se elaboran 150 carros en la planta A y 90 camiones en la planta B"
   ]
  },
  {
   "cell_type": "markdown",
   "id": "3edf3041-edcf-4b20-808d-5521281dde73",
   "metadata": {},
   "source": [
    "Se gana 84,000"
   ]
  },
  {
   "cell_type": "code",
   "execution_count": null,
   "id": "b063478b-8a87-47e0-aaf9-7237cc56ff51",
   "metadata": {},
   "outputs": [],
   "source": []
  },
  {
   "cell_type": "markdown",
   "id": "1a37e3e0-449d-4643-ae57-da56668da725",
   "metadata": {},
   "source": [
    "Una  empresa tiene dos fábricas A y B.  En ellas  se fabrica un determinado  producto, a razón de 500  y 400 unidades por día respectivamente.  El producto  ha  de  ser distribuido posteriormente  a  tres  centros  C,  D  y  E,  que  requieren,  respectivamente,  200,  300  y  400  unidades.  Los  costos  de  transportar cada unidad del producto desde cada fábrica a cada centro distribuidor son los  indicados  en la tabla  siguiente: \n",
    "\n",
    "Factoría|C|D|E|Fabricación (Unidades)\n",
    ":----|----|----|----|----\n",
    "A|  50 u.m|60 u.m|10 u.m|500 u\n",
    "B|  25 u.m|40 u.m|20 u.m|400 u\n",
    "Demanda|200|300|400|\n",
    "\n",
    "**¿De qué manera  deben  organizar  el transporte a fin de que los gastos sean mínimos?**\n",
    "\n",
    "\n",
    "Resolver con `linprog`"
   ]
  },
  {
   "cell_type": "markdown",
   "id": "65e158b5-38f0-47cd-bd9f-d6240471698f",
   "metadata": {},
   "source": [
    "1. Criterio de optimización\n",
    "Minimizar los gastos por transporte\n",
    "\n",
    "2. ¿En qué puedo infuir?\n",
    "Cantidad de productos A y cantidad de productos de B a través de los medios de transporte\n",
    "$$ A_C,A_D,A_E,B_C,B_D,B_E$$\n",
    "\n",
    "\n",
    "3. Función de Costo\n",
    "$$ Costo = 50A_C+25B_C+60A_D+40B_D+10A_E+20B_E $$"
   ]
  },
  {
   "cell_type": "markdown",
   "id": "4df975eb-3a9a-403f-a946-a59d89e34eaa",
   "metadata": {},
   "source": [
    "4. Info adicional\n",
    "\n",
    "Cantidad de producto que manda A\n",
    "$$A_C+A_D+A_E = 500 $$\n",
    "Cantidad de producto que manda B\n",
    "$$ B_C+B_D+B_E = 400 $$\n",
    "Cantidad de producto que demanda C\n",
    "$$ A_C+B_C \\geq 200$$\n",
    "Cantidad de producto que demanda D\n",
    "$$ A_D+B_D \\geq 300$$\n",
    "Cantidad de producto que demanda E\n",
    "$$ A_E+B_E \\geq 400$$"
   ]
  },
  {
   "cell_type": "markdown",
   "id": "b03c7361-1377-49c0-95d2-04f5c1182526",
   "metadata": {},
   "source": [
    "5. Vectorizar en forma"
   ]
  },
  {
   "cell_type": "code",
   "execution_count": 77,
   "id": "205a7986-f94a-4ab7-a091-fb5088cd7c6e",
   "metadata": {},
   "outputs": [],
   "source": [
    "import numpy as np\n",
    "import scipy.optimize as opt\n",
    "c3=np.array([50,25,60,40,10,20])\n",
    "Aub3=np.array([\n",
    "    [-1,-1,0,0,0,0],\n",
    "    [0,0,-1,-1,0,0],\n",
    "    [0,0,0,0,-1,-1],\n",
    "])\n",
    "bub3=np.array([\n",
    "    [-200],\n",
    "    [-300],\n",
    "    [-400],\n",
    "])\n",
    "Aeq3=np.array([\n",
    "    [1,0,1,0,1,0],\n",
    "    [0,1,0,1,0,1],\n",
    "])\n",
    "beq3=np.array([\n",
    "    [500],\n",
    "    [400],\n",
    "])\n"
   ]
  },
  {
   "cell_type": "code",
   "execution_count": 73,
   "id": "eeeb4062-a53c-4a5d-a110-82cbd7a56a35",
   "metadata": {},
   "outputs": [
    {
     "data": {
      "text/plain": [
       "        message: Optimization terminated successfully. (HiGHS Status 7: Optimal)\n",
       "        success: True\n",
       "         status: 0\n",
       "            fun: 23000.0\n",
       "              x: [ 0.000e+00  2.000e+02  1.000e+02  2.000e+02  4.000e+02\n",
       "                   0.000e+00]\n",
       "            nit: -1\n",
       "          lower:  residual: [ 0.000e+00  2.000e+02  1.000e+02  2.000e+02\n",
       "                              4.000e+02  0.000e+00]\n",
       "                 marginals: [ 0.000e+00  0.000e+00  0.000e+00  0.000e+00\n",
       "                              0.000e+00  0.000e+00]\n",
       "          upper:  residual: [       inf        inf        inf        inf\n",
       "                                    inf        inf]\n",
       "                 marginals: [ 0.000e+00  0.000e+00  0.000e+00  0.000e+00\n",
       "                              0.000e+00  0.000e+00]\n",
       "          eqlin:  residual: [ 0.000e+00  0.000e+00]\n",
       "                 marginals: [ 0.000e+00  0.000e+00]\n",
       "        ineqlin:  residual: [ 0.000e+00  0.000e+00  0.000e+00]\n",
       "                 marginals: [ 0.000e+00  0.000e+00  0.000e+00]\n",
       " mip_node_count: 1\n",
       " mip_dual_bound: 23000.0\n",
       "        mip_gap: 0.0"
      ]
     },
     "execution_count": 73,
     "metadata": {},
     "output_type": "execute_result"
    }
   ],
   "source": [
    "sol3=opt.linprog(c3,Aub3,bub3,Aeq3,beq3, integrality=1)\n",
    "sol3"
   ]
  },
  {
   "cell_type": "code",
   "execution_count": 79,
   "id": "5bcd902d-87ac-4975-89d4-ba2dd9a453da",
   "metadata": {},
   "outputs": [
    {
     "data": {
      "text/plain": [
       "array([  0., 200., 100., 200., 400.,   0.])"
      ]
     },
     "execution_count": 79,
     "metadata": {},
     "output_type": "execute_result"
    }
   ],
   "source": [
    "sol3.x"
   ]
  },
  {
   "cell_type": "code",
   "execution_count": 81,
   "id": "ca122221-e8fd-4963-82e3-f68663be2215",
   "metadata": {},
   "outputs": [
    {
     "data": {
      "text/plain": [
       "array([500., 400.])"
      ]
     },
     "execution_count": 81,
     "metadata": {},
     "output_type": "execute_result"
    }
   ],
   "source": [
    "Aeq3@sol3.x"
   ]
  },
  {
   "cell_type": "code",
   "execution_count": 83,
   "id": "fbe5d662-c8f7-4609-8101-58f5b339b009",
   "metadata": {},
   "outputs": [
    {
     "data": {
      "text/plain": [
       "array([-200., -300., -400.])"
      ]
     },
     "execution_count": 83,
     "metadata": {},
     "output_type": "execute_result"
    }
   ],
   "source": [
    "Aub3@sol3.x"
   ]
  },
  {
   "cell_type": "markdown",
   "id": "725e6077-f440-4017-a871-7e42d4dd368f",
   "metadata": {},
   "source": [
    "Se mandan 0 en Ac, 200 en Bc, 100 en Ad, 200 en Bd y 400 en Ae"
   ]
  },
  {
   "cell_type": "code",
   "execution_count": null,
   "id": "af3f69f6-09dd-4b9d-aaed-63c5aafcd1ad",
   "metadata": {},
   "outputs": [],
   "source": []
  },
  {
   "cell_type": "markdown",
   "id": "7f98068c-70f1-4f24-826b-13814fc50730",
   "metadata": {},
   "source": [
    "Mónica hace aretes y cadenitas de joyería. Es tan buena, que todo lo que hace lo vende.\n",
    "\n",
    "Le toma 30 minutos hacer un par de aretes y una hora hacer una cadenita, y como Mónica también es estudihambre, solo dispone de 10 horas a la semana para hacer las joyas. Por otra parte, el material que compra solo le alcanza para hacer 15 unidades (el par de aretes cuenta como unidad) de joyas por semana.\n",
    "\n",
    "La utilidad que le deja la venta de las joyas es $\\$15$ en cada par de aretes y $\\$20$ en cada cadenita.\n",
    "\n",
    "¿Cuántos pares de aretes y cuántas cadenitas debería hacer Mónica para maximizar su utilidad?\n",
    "\n",
    "Formular el problema en la forma explicada y obtener la solución gráfica (puede ser a mano)."
   ]
  },
  {
   "cell_type": "markdown",
   "id": "943befe8-505c-4e34-b602-4ccd9a83ed4d",
   "metadata": {},
   "source": [
    "1. Criterio de optimización\n",
    "\n",
    "Maximizar la ganancia\n",
    "\n",
    "2. Variables\n",
    "   $$ x_A, x_C $$\n",
    "   \n",
    "3. Función de Costo\n",
    "$$ Costo=15x_A+20x_C $$\n",
    "\n",
    "4. Info adicional\n",
    "Tiempo\n",
    "$$ 30x_A+60x_C\\leq 600 $$\n",
    "Unidades\n",
    "$$x_A+x_C\\leq15 $$\n"
   ]
  },
  {
   "cell_type": "markdown",
   "id": "13bce8b1-d0ba-464d-8699-851719c89b0c",
   "metadata": {},
   "source": [
    "5. Vectorizar en forma"
   ]
  },
  {
   "cell_type": "code",
   "execution_count": 17,
   "id": "362571e7-af73-48a5-807a-92fd80902bdf",
   "metadata": {},
   "outputs": [],
   "source": [
    "import numpy as np\n",
    "import scipy.optimize as opt\n",
    "K=np.array([-15,-20])\n",
    "AuB=np.array([\n",
    "    [0.5,1],\n",
    "    [1,1],\n",
    "])\n",
    "buB=np.array([\n",
    "    [10],\n",
    "    [15],\n",
    "])"
   ]
  },
  {
   "cell_type": "code",
   "execution_count": 19,
   "id": "069e96b0-31a3-4f0e-93e1-90bb78210c5b",
   "metadata": {},
   "outputs": [
    {
     "data": {
      "text/plain": [
       "        message: Optimization terminated successfully. (HiGHS Status 7: Optimal)\n",
       "        success: True\n",
       "         status: 0\n",
       "            fun: -250.0\n",
       "              x: [ 1.000e+01  5.000e+00]\n",
       "            nit: -1\n",
       "          lower:  residual: [ 1.000e+01  5.000e+00]\n",
       "                 marginals: [ 0.000e+00  0.000e+00]\n",
       "          upper:  residual: [       inf        inf]\n",
       "                 marginals: [ 0.000e+00  0.000e+00]\n",
       "          eqlin:  residual: []\n",
       "                 marginals: []\n",
       "        ineqlin:  residual: [ 0.000e+00  0.000e+00]\n",
       "                 marginals: [ 0.000e+00  0.000e+00]\n",
       " mip_node_count: 1\n",
       " mip_dual_bound: -250.0\n",
       "        mip_gap: 0.0"
      ]
     },
     "execution_count": 19,
     "metadata": {},
     "output_type": "execute_result"
    }
   ],
   "source": [
    "soL=opt.linprog(K,AuB,buB, integrality=1)\n",
    "soL"
   ]
  },
  {
   "cell_type": "code",
   "execution_count": 23,
   "id": "271c3a6a-fab0-4922-91a0-e85cbc78fe61",
   "metadata": {},
   "outputs": [
    {
     "data": {
      "text/plain": [
       "array([10.,  5.])"
      ]
     },
     "execution_count": 23,
     "metadata": {},
     "output_type": "execute_result"
    }
   ],
   "source": [
    "soL.x"
   ]
  },
  {
   "cell_type": "markdown",
   "id": "18a3df94-08ce-4b36-b362-55565e40756d",
   "metadata": {},
   "source": [
    "10 aretes y 5 cadenas"
   ]
  },
  {
   "cell_type": "markdown",
   "id": "ecff4a70-9c71-4443-b0ec-9398ad5f9086",
   "metadata": {},
   "source": [
    "El objetivo de este problema es determinar la mejor estrategia de inversión, dados diferentes tipos de bono, la máxima cantidad que puede ser invertida en cada bono, el porcentaje de retorno y los años de madurez. También hay una cantidad fija de dinero disponible ($\\$750,000$). Por lo menos la mitad de este dinero debe ser invertido en bonos con 10 años o más para la madurez. Se puede invertir un máximo del $25\\%$ de esta cantidad en cada bono. Finalmente, hay otra restricción que no permite usar más de $35\\%$ en bonos de alto riesgo.\n",
    "\n",
    "Existen seis (6) opciones de inversión con las letras correspondientes $A_i$\n",
    "\n",
    "1. $A_1$:(Tasa de retorno=$8.65\\%$; Años para la madurez=11, Riesgo=Bajo)\n",
    "1. $A_2$:(Tasa de retorno=$9.50\\%$; Años para la madurez=10, Riesgo=Alto)\n",
    "1. $A_3$:(Tasa de retorno=$10.00\\%$; Años para la madurez=6, Riesgo=Alto)\n",
    "1. $A_4$:(Tasa de retorno=$8.75\\%$; Años para la madurez=10, Riesgo=Bajo)\n",
    "1. $A_5$:(Tasa de retorno=$9.25\\%$; Años para la madurez=7, Riesgo=Alto)\n",
    "1. $A_6$:(Tasa de retorno=$9.00\\%$; Años para la madurez=13, Riesgo=Bajo)\n",
    "\n",
    "Lo que se quiere entonces es maximizar el retorno que deja la inversión.\n",
    "\n",
    "Este problema puede ser resuelto con programación lineal. Formalmente, puede ser descrito como:\n",
    "\n",
    "$$\\max_{A_1,A_2,...,A_6}\\sum^{6}_{i=1} A_iR_i,$$\n",
    "\n",
    "donde $A_i$ representa la cantidad invertida en la opción, y $R_i$ representa la tasa de retorno respectiva."
   ]
  },
  {
   "cell_type": "markdown",
   "id": "ee2f6d19-66e4-4030-ae9d-26c5d1635056",
   "metadata": {},
   "source": [
    "1.Criterio de optimización\n",
    "\n",
    "Maximizar las ganancias puestas a inversión\n",
    "\n",
    "2. Variables\n",
    "   \n",
    "$A_1$:(Tasa de retorno=$8.65\\%$; Años para la madurez=11, Riesgo=Bajo)\n",
    "\n",
    "$A_2$:(Tasa de retorno=$9.50\\%$; Años para la madurez=10, Riesgo=Alto)\n",
    "\n",
    "$A_3$:(Tasa de retorno=$10.00\\%$; Años para la madurez=6, Riesgo=Alto)\n",
    "\n",
    "$A_4$:(Tasa de retorno=$8.75\\%$; Años para la madurez=10, Riesgo=Bajo)\n",
    "\n",
    "$A_5$:(Tasa de retorno=$9.25\\%$; Años para la madurez=7, Riesgo=Alto)\n",
    "\n",
    "$A_6$:(Tasa de retorno=$9.00\\%$; Años para la madurez=13, Riesgo=Bajo)\n",
    "\n",
    "4. Función costo\n",
    "$$ 0.0865A_1+0.095A_2+0.1A_3+0.0875A_4+0.0925A_5+0.09A_6 =Costo$$"
   ]
  },
  {
   "cell_type": "markdown",
   "id": "e067d441-1096-46f6-9f86-ec9e93b5d17e",
   "metadata": {},
   "source": [
    "4. Info adicional"
   ]
  },
  {
   "cell_type": "markdown",
   "id": "f04dd372-dca5-4a73-b09b-be40a21e7867",
   "metadata": {},
   "source": [
    "$$A_1+A_2+A_3+A_4+A_5+A_6\\leq 750000$$"
   ]
  },
  {
   "cell_type": "markdown",
   "id": "1adf9d4e-9495-4f89-9f82-22a94cfcf1fe",
   "metadata": {},
   "source": [
    "$$A_1\\leq187500$$"
   ]
  },
  {
   "cell_type": "markdown",
   "id": "7ce2a87e-da15-49d7-9b5f-2275ed256414",
   "metadata": {},
   "source": [
    "$$A_2\\leq187500$$"
   ]
  },
  {
   "cell_type": "markdown",
   "id": "4acf67db-edef-4a92-a5ab-3a0be5d0aabe",
   "metadata": {},
   "source": [
    "$$A_3\\leq187500$$"
   ]
  },
  {
   "cell_type": "markdown",
   "id": "49440b74-99de-4cee-89bb-27fded8edf21",
   "metadata": {},
   "source": [
    "$$A_4\\leq187500$$"
   ]
  },
  {
   "cell_type": "markdown",
   "id": "ce403bfc-6169-4423-addd-0efd4cc3eb92",
   "metadata": {},
   "source": [
    "$$A_5\\leq187500$$"
   ]
  },
  {
   "cell_type": "markdown",
   "id": "ff547943-c925-439d-b46f-29b75327f9d5",
   "metadata": {},
   "source": [
    "$$A_6\\leq187500$$"
   ]
  },
  {
   "cell_type": "markdown",
   "id": "db4ceb85-2520-4abe-9bb2-5e9b6c966a79",
   "metadata": {},
   "source": [
    "$$A_1+A_2+A_4+A_6\\geq375000$$"
   ]
  },
  {
   "cell_type": "markdown",
   "id": "a8fc1ce7-c4de-4641-804f-7dfd8b1b50b6",
   "metadata": {},
   "source": [
    "$$A_2+A_3+A_5\\leq262500$$"
   ]
  },
  {
   "cell_type": "markdown",
   "id": "bbde9bb4-9381-458d-ae5b-8e0a5c4544bd",
   "metadata": {},
   "source": [
    "5. Vectorizar en forma"
   ]
  },
  {
   "cell_type": "code",
   "execution_count": 70,
   "id": "78abedf9-eca6-4114-b1f8-7b8a835157be",
   "metadata": {},
   "outputs": [],
   "source": [
    "import numpy as np\n",
    "import scipy.optimize as opt\n",
    "CO=np.array([-0.0865,-0.095,-0.1,-0.0875,-0.0925,-0.09])\n",
    "AUb=np.array([\n",
    "    [1,1,1,1,1,1],\n",
    "    [1,0,0,0,0,0],\n",
    "    [0,1,0,0,0,0],\n",
    "    [0,0,1,0,0,0],\n",
    "    [0,0,0,1,0,0],\n",
    "    [0,0,0,0,1,0],\n",
    "    [0,0,0,0,0,1],\n",
    "    [-1,-1,0,-1,0,-1],\n",
    "    [0,1,1,0,1,0],\n",
    "\n",
    "])\n",
    "bUb=np.array([\n",
    "    [750000],\n",
    "    [187500],\n",
    "    [187500],\n",
    "    [187500],\n",
    "    [187500],\n",
    "    [187500],\n",
    "    [187500],\n",
    "    [-375000],\n",
    "    [262500],\n",
    "])"
   ]
  },
  {
   "cell_type": "code",
   "execution_count": 72,
   "id": "23716d02-6312-4d10-bae1-9126297bee24",
   "metadata": {},
   "outputs": [
    {
     "data": {
      "text/plain": [
       "        message: Optimization terminated successfully. (HiGHS Status 7: Optimal)\n",
       "        success: True\n",
       "         status: 0\n",
       "            fun: -68887.5\n",
       "              x: [ 1.125e+05  7.500e+04  1.875e+05  1.875e+05  0.000e+00\n",
       "                   1.875e+05]\n",
       "            nit: 3\n",
       "          lower:  residual: [ 1.125e+05  7.500e+04  1.875e+05  1.875e+05\n",
       "                              0.000e+00  1.875e+05]\n",
       "                 marginals: [ 0.000e+00  0.000e+00  0.000e+00  0.000e+00\n",
       "                              2.500e-03  0.000e+00]\n",
       "          upper:  residual: [       inf        inf        inf        inf\n",
       "                                    inf        inf]\n",
       "                 marginals: [ 0.000e+00  0.000e+00  0.000e+00  0.000e+00\n",
       "                              0.000e+00  0.000e+00]\n",
       "          eqlin:  residual: []\n",
       "                 marginals: []\n",
       "        ineqlin:  residual: [ 0.000e+00  7.500e+04  1.125e+05  0.000e+00\n",
       "                              0.000e+00  1.875e+05  0.000e+00  1.875e+05\n",
       "                              0.000e+00]\n",
       "                 marginals: [-8.650e-02 -0.000e+00 -0.000e+00 -5.000e-03\n",
       "                             -1.000e-03 -0.000e+00 -3.500e-03 -0.000e+00\n",
       "                             -8.500e-03]\n",
       " mip_node_count: 0\n",
       " mip_dual_bound: 0.0\n",
       "        mip_gap: 0.0"
      ]
     },
     "execution_count": 72,
     "metadata": {},
     "output_type": "execute_result"
    }
   ],
   "source": [
    "SOLL=opt.linprog(CO,AUb,bUb)\n",
    "SOLL"
   ]
  },
  {
   "cell_type": "code",
   "execution_count": 74,
   "id": "943691eb-1773-44c2-8c8a-702238b6fc9d",
   "metadata": {},
   "outputs": [
    {
     "data": {
      "text/plain": [
       "array([112500.,  75000., 187500., 187500.,      0., 187500.])"
      ]
     },
     "execution_count": 74,
     "metadata": {},
     "output_type": "execute_result"
    }
   ],
   "source": [
    "SOLL.x"
   ]
  },
  {
   "cell_type": "markdown",
   "id": "65d42a72-9c15-4271-a7a9-afcaed620bde",
   "metadata": {},
   "source": [
    "Se invierten 112500 en A1, 75000 en A2, 187500 en A3, 187500 en A4, 0 en A5 y 187500 en A6"
   ]
  },
  {
   "cell_type": "markdown",
   "id": "5d1d3f87-dfe7-4fb6-a068-79967d50d005",
   "metadata": {},
   "source": [
    "# A05"
   ]
  },
  {
   "cell_type": "markdown",
   "id": "b5ce3319-f255-471e-95c9-6547bb6d0413",
   "metadata": {},
   "source": [
    "Ejercicio 1\n",
    "\n",
    "Se quiere producir comida para gatos de la manera más barata, no obstante se debe también asegurar que se cumplan los datos requeridos de analisis nutricional. Por lo que se quiere variar la cantidad de cada ingrediente para cumplir con los estandares nutricionales. Los requisitos que se tienen es que en 100 gramos, se deben tener por lo menos 9 gramos de proteína y  7 gramos de grasa. Así mismo, no se debe tener más de 2.5 gramos de fibra y 0.5 gramos de sal.0.0%\t00.0%"
   ]
  },
  {
   "cell_type": "markdown",
   "id": "64d7c0b9-b49a-495f-8a5d-1ad0fa29c38e",
   "metadata": {},
   "source": [
    "![](img1.png)"
   ]
  },
  {
   "cell_type": "markdown",
   "id": "fef0508b-3716-40cd-a5c8-3bc002496b3f",
   "metadata": {},
   "source": [
    "1. Identificar criterio max/min\n",
    "\n",
    "Se debe minimizar el costo maximizando la cantidad de proteínas, lípidos, fibra y sal\n"
   ]
  },
  {
   "cell_type": "markdown",
   "id": "6c6d38c0-8d12-45b9-a901-35e3b2e19aa4",
   "metadata": {},
   "source": [
    "2. Variables de control"
   ]
  },
  {
   "cell_type": "markdown",
   "id": "6dfa6304-92e0-48ab-8afb-d468de11b837",
   "metadata": {},
   "source": [
    "Se puede modificar la cantidad de alimento ya sea pollo, carne, cordero, arroz, trigo y gel\n",
    "$$ x_P,x_{CA},x_{CO},x_A,x_T,x_G $$"
   ]
  },
  {
   "cell_type": "markdown",
   "id": "58904e2d-d9c6-4fe1-9d97-4f2d69cccd3b",
   "metadata": {},
   "source": [
    "3. Función de Costo"
   ]
  },
  {
   "cell_type": "markdown",
   "id": "ee51ac89-e6c2-47a9-bc36-8029cc8e90a7",
   "metadata": {},
   "source": [
    "$$ Costo=0.00012x_P+0.00009x_{CA},+0.0001x_{CO}+0.00003x_A+0.00005x_T+0.00002x_G$$"
   ]
  },
  {
   "cell_type": "markdown",
   "id": "30ab61a0-166a-4cdf-aa7c-2e477d37cac2",
   "metadata": {},
   "source": [
    "4. Info adicional\n",
    "\n"
   ]
  },
  {
   "cell_type": "markdown",
   "id": "f3854f90-74dd-4e39-bece-1b13f628c0ae",
   "metadata": {},
   "source": [
    "Proteína\n",
    "$$ 0.1x_P+0.2x_{CA}+0.15x_{CO}+0x_A+0.04x_T+0x_G\\geq 9$$\n",
    "Grasa\n",
    "$$ 0.08x_P+0.1x_{CA}+0.11x_{CO}+0.01x_A+0.01x_T+0x_G\\geq 7$$\n",
    "Fibra\n",
    "$$ 0.001x_P+0.005x_{CA}+0.005x_{CO}+0.1x_A+0.15x_T+0x_G\\geq 2.5$$\n",
    "Sal\n",
    "$$ 0.002x_P+0.005x_{CA}+0.007x_{CO}+0.002x_A+0.008x_T+0x_G\\geq 0.5$$\n",
    "Peso\n",
    "$$ x_P+x_{CA}+x_{CO}+x_A+x_T+x_G=100$$"
   ]
  },
  {
   "cell_type": "markdown",
   "id": "56c296d7-a8f9-418e-a2ed-b28232b0edac",
   "metadata": {},
   "source": [
    "5. Vectorizar en forma"
   ]
  },
  {
   "cell_type": "code",
   "execution_count": 106,
   "id": "5c8975c7-0e8c-4577-a1cc-d317a83e2be2",
   "metadata": {},
   "outputs": [],
   "source": [
    "import numpy as np\n",
    "import scipy.optimize as opt\n",
    "c5=np.array([0.00012,0.00009,0.0001,0.00003,0.00005,0.00002])\n",
    "Aub5=np.array([\n",
    "    [-0.1,-0.2,-0.15,0,-0.04,0],\n",
    "    [-0.08,-0.1,-0.11,-0.01,-0.01,+0],\n",
    "    [-0.001,-0.005,-0.005,-0.1,-0.15,+0],\n",
    "    [-0.002,-0.005,-0.007,-0.002,-0.008,+0],\n",
    "    [1,1,1,1,1,1],\n",
    "])\n",
    "bub5=np.array([\n",
    "    [-9],\n",
    "    [-7],\n",
    "    [-2.5],\n",
    "    [-0.5],\n",
    "    [100]\n"
   ]
  },
  {
   "cell_type": "code",
   "execution_count": 108,
   "id": "915fc0df-e5b0-4cf2-9e88-12bb95ad69f9",
   "metadata": {},
   "outputs": [
    {
     "data": {
      "text/plain": [
       "        message: Optimization terminated successfully. (HiGHS Status 7: Optimal)\n",
       "        success: True\n",
       "         status: 0\n",
       "            fun: 0.0072000000000000015\n",
       "              x: [ 0.000e+00  0.000e+00  6.000e+01  4.000e+01  0.000e+00\n",
       "                  -0.000e+00]\n",
       "            nit: -1\n",
       "          lower:  residual: [ 0.000e+00  0.000e+00  6.000e+01  4.000e+01\n",
       "                              0.000e+00 -0.000e+00]\n",
       "                 marginals: [ 0.000e+00  0.000e+00  0.000e+00  0.000e+00\n",
       "                              0.000e+00  0.000e+00]\n",
       "          upper:  residual: [       inf        inf        inf        inf\n",
       "                                    inf        inf]\n",
       "                 marginals: [ 0.000e+00  0.000e+00  0.000e+00  0.000e+00\n",
       "                              0.000e+00  0.000e+00]\n",
       "          eqlin:  residual: [-1.421e-14]\n",
       "                 marginals: [ 0.000e+00]\n",
       "        ineqlin:  residual: [ 1.776e-15  1.776e-15  1.800e+00  1.110e-16]\n",
       "                 marginals: [ 0.000e+00  0.000e+00  0.000e+00  0.000e+00]\n",
       " mip_node_count: 1\n",
       " mip_dual_bound: 0.0072000000000000015\n",
       "        mip_gap: 0.0"
      ]
     },
     "execution_count": 108,
     "metadata": {},
     "output_type": "execute_result"
    }
   ],
   "source": [
    "sol5=opt.linprog(c5,Aub5,bub5, integrality=1)\n",
    "sol5"
   ]
  },
  {
   "cell_type": "code",
   "execution_count": 116,
   "id": "0d21cd90-42a3-4dec-aa9c-af3de5b520d5",
   "metadata": {},
   "outputs": [
    {
     "data": {
      "text/plain": [
       "array([-9. , -7. , -4.3, -0.5])"
      ]
     },
     "execution_count": 116,
     "metadata": {},
     "output_type": "execute_result"
    }
   ],
   "source": [
    "Aub5@sol5.x"
   ]
  },
  {
   "cell_type": "code",
   "execution_count": 118,
   "id": "f6ab132d-3701-4391-acc4-6277c171caae",
   "metadata": {},
   "outputs": [
    {
     "data": {
      "text/plain": [
       "array([ 0.,  0., 60., 40.,  0., -0.])"
      ]
     },
     "execution_count": 118,
     "metadata": {},
     "output_type": "execute_result"
    }
   ],
   "source": [
    "sol5.x"
   ]
  },
  {
   "cell_type": "markdown",
   "id": "6f337258-1650-4a45-a30b-118e693cc67e",
   "metadata": {},
   "source": [
    "Se le pusieron 60g de cordero y 40g de arroz"
   ]
  },
  {
   "cell_type": "code",
   "execution_count": 136,
   "id": "deabdaa2-2ad6-4955-ab37-e1f5dab5e6bc",
   "metadata": {},
   "outputs": [
    {
     "data": {
      "text/plain": [
       "0.0072000000000000015"
      ]
     },
     "execution_count": 136,
     "metadata": {},
     "output_type": "execute_result"
    }
   ],
   "source": [
    "sol5.fun"
   ]
  },
  {
   "cell_type": "markdown",
   "id": "4271d659-be35-4286-aa1a-4f8a450fbf80",
   "metadata": {},
   "source": [
    "Ejercicio 2\n",
    "\n",
    "La Comisión Federal de Electricidad (CFE) dispone de cuatro plantas de generación para satisfacer la demanda diaria eléctrica en cuatro ciudades, Guadalajara, León y Morelia. Las plantas 1, 2 y 3 pueden satisfacer 75, 50 y 60 millones de kW al día respectivamente. Las necesidades de las ciudades de Guadalajara, León y Morelia son de 60, 45 y 60 millones de Kw al día respectivamente.\n",
    "\n",
    "Los costos asociados al envío de suministro energético por cada millón de kW entre cada planta y cada ciudad son los registrados en la siguiente tabla."
   ]
  },
  {
   "cell_type": "markdown",
   "id": "1416bdfd-6f0b-43d4-8448-123897832e5f",
   "metadata": {},
   "source": [
    "![](img2.png)"
   ]
  },
  {
   "cell_type": "markdown",
   "id": "1ba467c3-fb55-4a24-a3f9-eb9bc071dc05",
   "metadata": {},
   "source": [
    "1. Identificar criterio max/min \n",
    "$$ \\geq $$\n",
    "y\n",
    "$$\\leq $$\n",
    "2. Variables de control\n",
    "$$ P_1M, P_1L, P_1G, P_2M, P_2L, P_2G ,P_3M, P_3L, P_1G   $$\n",
    "3. Función de costo\n",
    "$$ 7P_1M + 2P_1L + 5P_1G + 5P_2M + 4P_2L+3P_2G +3P_3M+ 2P_3L+ 5P_3G=Costo$$\n",
    "4. Info adicional\n",
    "\n",
    "Se necesita:\n",
    "$$ P_1M+ P_2M+P_3M\\geq 60$$\n",
    "$$ P_1G+ P_2G+P_3G\\geq 60$$\n",
    "$$ P_1L+ P_2L+P_3L\\geq 45$$\n",
    "Pueden enviar\n",
    "$$ P_1M+ P_1G+P_1L\\leq 75$$\n",
    "$$ P_2M+ P_2G+P_2L\\leq 50$$\n",
    "$$ P_3M+ P_3G+P_3L\\leq 60$$"
   ]
  },
  {
   "cell_type": "markdown",
   "id": "f780e22c-7ebe-4005-8a16-14205108a482",
   "metadata": {},
   "source": [
    "5. Vectorizar en forma "
   ]
  },
  {
   "cell_type": "code",
   "execution_count": 22,
   "id": "539dd544-9815-4430-9891-44ce430c2a09",
   "metadata": {},
   "outputs": [],
   "source": [
    "import numpy as np\n",
    "import scipy.optimize as opt\n",
    "c6=np.array([7,2,5,5,4,3,3,2,5])\n",
    "Aub6=np.array([\n",
    "    [-1,0,0,-1,0,0,-1,0,0],\n",
    "    [0,0,-1,0,0,-1,0,0,-1],\n",
    "    [0,-1,0,0,-1,0,0,-1,0],\n",
    "    [1,1,1,0,0,0,0,0,0],\n",
    "    [0,0,0,1,1,1,0,0,0],\n",
    "    [0,0,0,0,0,0,1,1,1],\n",
    "])\n",
    "bub6=np.array([\n",
    "    [60],\n",
    "    [60],\n",
    "    [45],\n",
    "    [75],\n",
    "    [50],\n",
    "    [60],\n",
    "])"
   ]
  },
  {
   "cell_type": "code",
   "execution_count": 26,
   "id": "5cf9eb15-4dc8-4a80-8cf4-50c18cce6726",
   "metadata": {},
   "outputs": [
    {
     "data": {
      "text/plain": [
       "       message: Optimization terminated successfully. (HiGHS Status 7: Optimal)\n",
       "       success: True\n",
       "        status: 0\n",
       "           fun: 0.0\n",
       "             x: [ 0.000e+00  0.000e+00  0.000e+00  0.000e+00  0.000e+00\n",
       "                  0.000e+00  0.000e+00  0.000e+00  0.000e+00]\n",
       "           nit: -1\n",
       "         lower:  residual: [ 0.000e+00  0.000e+00  0.000e+00  0.000e+00\n",
       "                             0.000e+00  0.000e+00  0.000e+00  0.000e+00\n",
       "                             0.000e+00]\n",
       "                marginals: [ 0.000e+00  0.000e+00  0.000e+00  0.000e+00\n",
       "                             0.000e+00  0.000e+00  0.000e+00  0.000e+00\n",
       "                             0.000e+00]\n",
       "         upper:  residual: [       inf        inf        inf        inf\n",
       "                                   inf        inf        inf        inf\n",
       "                                   inf]\n",
       "                marginals: [ 0.000e+00  0.000e+00  0.000e+00  0.000e+00\n",
       "                             0.000e+00  0.000e+00  0.000e+00  0.000e+00\n",
       "                             0.000e+00]\n",
       "         eqlin:  residual: []\n",
       "                marginals: []\n",
       "       ineqlin:  residual: [ 6.000e+01  6.000e+01  4.500e+01  7.500e+01\n",
       "                             5.000e+01  6.000e+01]\n",
       "                marginals: [ 0.000e+00  0.000e+00  0.000e+00  0.000e+00\n",
       "                             0.000e+00  0.000e+00]"
      ]
     },
     "execution_count": 26,
     "metadata": {},
     "output_type": "execute_result"
    }
   ],
   "source": [
    "sol6=opt.linprog(c6,Aub6,bub6, integrality=1)\n",
    "sol6"
   ]
  },
  {
   "cell_type": "code",
   "execution_count": 18,
   "id": "c27f0508-0826-4395-9b81-517ba9e63bf3",
   "metadata": {},
   "outputs": [
    {
     "data": {
      "text/plain": [
       "array([ 0., 45., 10.,  0.,  0., 50., 60.,  0., -0.])"
      ]
     },
     "execution_count": 18,
     "metadata": {},
     "output_type": "execute_result"
    }
   ],
   "source": [
    "sol6.x"
   ]
  },
  {
   "cell_type": "markdown",
   "id": "838bed3b-ec38-4b96-90eb-6deffabb732a",
   "metadata": {},
   "source": [
    "La planta 1 manda 45 a Leon, 10 a Guadalajara. La planta 2 manda 50 a Leon y la planta 3 manda 60 a Morelia"
   ]
  },
  {
   "cell_type": "code",
   "execution_count": 20,
   "id": "04032188-4e6c-432d-9ed4-c8c17fcd0b85",
   "metadata": {},
   "outputs": [
    {
     "data": {
      "text/plain": [
       "array([-60., -60., -45.,  55.,  50.,  60.])"
      ]
     },
     "execution_count": 20,
     "metadata": {},
     "output_type": "execute_result"
    }
   ],
   "source": [
    "Aub6@sol6.x"
   ]
  },
  {
   "cell_type": "markdown",
   "id": "a17bca7c-7792-4eb0-a851-6023ae6017ee",
   "metadata": {},
   "source": [
    "# A06"
   ]
  },
  {
   "cell_type": "markdown",
   "id": "2914b98c-3c11-48df-8226-925bc380dc2a",
   "metadata": {},
   "source": [
    "Ejercicio 1.\n",
    "\n",
    "Una carpintería local fabrica sillas, mesas, libreros y bases de cama. Hay dos empleados en esta carpintería: un empleado experimentado y un aprendiz. El aprendiz tarda aproximadamente 50% más tiempo que el carpintero experimentado en construir cualquier cosa, además de que tiene un desperdicio de alrededor de 20% de material. Los materiales y tiempos necesarios para construir algo se desglozan en la siguiente tabla:"
   ]
  },
  {
   "cell_type": "markdown",
   "id": "408ecbef-2222-45e9-a651-13468d2191e5",
   "metadata": {},
   "source": [
    "![](C1.png)"
   ]
  },
  {
   "cell_type": "markdown",
   "id": "bf68120e-77e0-4fc6-b27b-fa156a40dda1",
   "metadata": {},
   "source": [
    "Las mesas se venden en 9000 pesos, las sillas en 3000 pesos, los libreros en 10000 pesos, y las bases de cama en 9000 pesos. Suponiendo una jornada de 40 horas a la semana y que tienen 100 unidades de madera.\n",
    "l?\n",
    " "
   ]
  },
  {
   "cell_type": "markdown",
   "id": "e5b95f28-5ef0-40e4-b970-ae78a41f7b63",
   "metadata": {},
   "source": [
    "2. La carpintería recibió una orden por 3 combos de mesa + 6 sillas.\n",
    "   \n",
    "\n",
    "¿Se puede cumplir la orden?\n",
    "Si sí, ¿qué es lo que tienen que fabricar en el resto del tiempo y con el resto del material para maximizar su ganancia?\n",
    "¿Cuántas horas trabaja cada quién?\n",
    "¿Cuánto material se usa?\n",
    "¿Cuál es el nuevo ingreso total?\n",
    " "
   ]
  },
  {
   "cell_type": "markdown",
   "id": "e57b835b-4858-4257-a20e-283c17e075cc",
   "metadata": {},
   "source": [
    "1. Identificar criterio \n",
    "Se deben de maximizar las ganancias\n",
    "$$\\geq$$\n",
    "En el menor tiempo posible\n",
    "$$ \\leq $$\n",
    "Con el menor material\n",
    "$$ \\leq $$\n",
    "2.Variables de control\n",
    "$$ M_E,M_A,S_E,S_A,L_E,L_A,B_E,B_A$$\n",
    "3. Función de costo\n",
    "$$ Costo= 9000M_E+9000M_A+3000S_E+3000S_A+10000L_E+10000L_A+9000B_E+9000B_A $$\n",
    "Paso 4: Info adicional\n",
    "\n",
    "Tiempo experimentado\n",
    "$$ 3M_E+1S_E+4L_E+3B_E\\leq40$$\n",
    "\n",
    "Tiempo aprendiz\n",
    "$$4.5M_A+1.5S_A+6L_A+4.5B_A\\leq40 $$\n",
    "\n",
    "\n",
    "Material\n",
    "\n",
    "$$ 6M_E+7.2M_A+2S_E+2.4S_A+5L_E+6L_A+5B_E+6B_A\\leq100 $$\n"
   ]
  },
  {
   "cell_type": "markdown",
   "id": "0f25ab50-9e3e-4b61-82aa-c40d3427bc14",
   "metadata": {},
   "source": [
    "Paso 5"
   ]
  },
  {
   "cell_type": "code",
   "execution_count": 50,
   "id": "e38048f0-f977-4f68-bf61-79bb2daaabbb",
   "metadata": {},
   "outputs": [],
   "source": [
    "import numpy as np\n",
    "import scipy.optimize as opt\n",
    "c7=np.array([-9000,-9000,-3000,-3000,-10000,-10000,-9000,-9000])\n",
    "Aub7=np.array([\n",
    "    [3,0,1,0,4,0,3,0],\n",
    "    [0,4.5,0,1.5,0,6,0,4.5],\n",
    "    [6,7.2,2,2.4,5,6,5,6]\n",
    "])\n",
    "bub7=np.array([\n",
    "    [40],\n",
    "    [40],\n",
    "    [100],\n",
    "])\n"
   ]
  },
  {
   "cell_type": "code",
   "execution_count": 59,
   "id": "a24d3093-db86-4b59-abe3-08fb1535b6c9",
   "metadata": {},
   "outputs": [
    {
     "data": {
      "text/plain": [
       "        message: Optimization terminated successfully. (HiGHS Status 7: Optimal)\n",
       "        success: True\n",
       "         status: 0\n",
       "            fun: -176000.0\n",
       "              x: [ 0.000e+00  0.000e+00  1.000e+00 -9.474e-15  9.000e+00\n",
       "                   2.000e+00  1.000e+00  6.000e+00]\n",
       "            nit: -1\n",
       "          lower:  residual: [ 0.000e+00  0.000e+00  1.000e+00 -9.474e-15\n",
       "                              9.000e+00  2.000e+00  1.000e+00  6.000e+00]\n",
       "                 marginals: [ 0.000e+00  0.000e+00  0.000e+00  0.000e+00\n",
       "                              0.000e+00  0.000e+00  0.000e+00  0.000e+00]\n",
       "          upper:  residual: [       inf        inf        inf        inf\n",
       "                                    inf        inf        inf        inf]\n",
       "                 marginals: [ 0.000e+00  0.000e+00  0.000e+00  0.000e+00\n",
       "                              0.000e+00  0.000e+00  0.000e+00  0.000e+00]\n",
       "          eqlin:  residual: []\n",
       "                 marginals: []\n",
       "        ineqlin:  residual: [ 0.000e+00  1.000e+00  0.000e+00]\n",
       "                 marginals: [ 0.000e+00  0.000e+00  0.000e+00]\n",
       " mip_node_count: 1\n",
       " mip_dual_bound: -176000.0\n",
       "        mip_gap: 0.0"
      ]
     },
     "execution_count": 59,
     "metadata": {},
     "output_type": "execute_result"
    }
   ],
   "source": [
    "sol7=opt.linprog(c,Aub,bub, integrality=1)\n",
    "sol7"
   ]
  },
  {
   "cell_type": "markdown",
   "id": "7d7a9d2a-49fd-4bcc-9c63-01bdd9040a96",
   "metadata": {},
   "source": [
    "¿Qué les conviene construir durante una semana para maximizar su ganancia?\n",
    "\n",
    "10 sillas, 11 libreros y 7 bases de cama"
   ]
  },
  {
   "cell_type": "code",
   "execution_count": 61,
   "id": "c5922ce3-a23a-4928-aed6-c8cbc9fca438",
   "metadata": {},
   "outputs": [
    {
     "data": {
      "text/plain": [
       "array([ 0.00000000e+00,  0.00000000e+00,  1.00000000e+00, -9.47390314e-15,\n",
       "        9.00000000e+00,  2.00000000e+00,  1.00000000e+00,  6.00000000e+00])"
      ]
     },
     "execution_count": 61,
     "metadata": {},
     "output_type": "execute_result"
    }
   ],
   "source": [
    "sol7.x"
   ]
  },
  {
   "cell_type": "code",
   "execution_count": 63,
   "id": "d3ee8a2c-3548-43f4-88ec-4239dd84f5f3",
   "metadata": {},
   "outputs": [
    {
     "data": {
      "text/plain": [
       "array([ 40.,  39., 100.])"
      ]
     },
     "execution_count": 63,
     "metadata": {},
     "output_type": "execute_result"
    }
   ],
   "source": [
    "Aub7@sol7.x"
   ]
  },
  {
   "cell_type": "markdown",
   "id": "cd2bdd61-750c-4fd9-917b-2431b45bc0c0",
   "metadata": {},
   "source": [
    "¿Cuántas horas trabaja cada quién?"
   ]
  },
  {
   "cell_type": "markdown",
   "id": "8917152a-d3b6-4428-92ff-3ff6a615f0c0",
   "metadata": {},
   "source": [
    "Se llevan 40 el experimentado y 39 horas el aprendiz"
   ]
  },
  {
   "cell_type": "markdown",
   "id": "133b3c7b-78ad-4b22-872e-630641b4c2a9",
   "metadata": {},
   "source": [
    "¿Cuánto material se utilizará?"
   ]
  },
  {
   "cell_type": "markdown",
   "id": "ed0c949b-68dc-4a8f-9450-2ad6fb216d14",
   "metadata": {},
   "source": [
    "Se llevan 100 unidades de material"
   ]
  },
  {
   "cell_type": "markdown",
   "id": "d1034c1f-5dda-476f-a0ba-321bd14e5ffb",
   "metadata": {},
   "source": [
    "¿Cuál es el ingreso total si se vende todo lo fabricado?"
   ]
  },
  {
   "cell_type": "code",
   "execution_count": 75,
   "id": "19e681ab-187d-4281-917e-072035bf1208",
   "metadata": {},
   "outputs": [
    {
     "data": {
      "text/plain": [
       "-176000.0"
      ]
     },
     "execution_count": 75,
     "metadata": {},
     "output_type": "execute_result"
    }
   ],
   "source": [
    "sol7.fun"
   ]
  },
  {
   "cell_type": "markdown",
   "id": "dd89b750-fe48-442c-aa56-4c4cd4657829",
   "metadata": {},
   "source": [
    "Se gana en total 176,000 pesos"
   ]
  },
  {
   "cell_type": "markdown",
   "id": "b639a4ab-be7c-4608-978c-39a502b990cd",
   "metadata": {},
   "source": [
    "2. La carpintería recibió una orden por combos de mesa + 6 sillas\n",
    "Paso 1\n",
    " Se deben de maximizar las ganancias\n",
    "$$\\geq$$\n",
    "En el menor tiempo posible\n",
    "$$ \\leq $$\n",
    "Con el menor material\n",
    "$$ \\leq $$\n",
    "\n",
    "Paso 2\n",
    "\n",
    "$$ M_E,M_A,S_E,S_A,L_E,L_A,B_E,B_A$$\n",
    "\n",
    "Paso 3\n",
    "$$ Costo= 9000M_E+9000M_A+3000S_E+3000S_A+10000L_E+10000L_A+9000B_E+9000B_A $$\n",
    "\n",
    "Paso 4: Info adicional\n",
    "\n",
    "Tiempo experimentado\n",
    "$$ 3M_E+1S_E+4L_E+3B_E\\leq40$$\n",
    "\n",
    "Tiempo aprendiz\n",
    "$$4.5M_A+1.5S_A+6L_A+4.5B_A\\leq40 $$\n",
    "\n",
    "\n",
    "Material\n",
    "\n",
    "$$ 6M_E+7.2M_A+2S_E+2.4S_A+5L_E+6L_A+5B_E+6B_A\\leq100 $$\n",
    "\n",
    "Mesa + 6 sillas\n",
    "$$ M_E+M_A=3 $$\n",
    "$$ S_E+S_E=18 $$"
   ]
  },
  {
   "cell_type": "markdown",
   "id": "83a0700f-685b-498d-8d9f-2810a23a5672",
   "metadata": {},
   "source": [
    "Paso 5"
   ]
  },
  {
   "cell_type": "code",
   "execution_count": 77,
   "id": "0359e900-a205-4960-9fad-dc0d686b1790",
   "metadata": {},
   "outputs": [],
   "source": [
    "c8=np.array([-9000,-9000,-3000,-3000,-10000,-10000,-9000,-9000])\n",
    "Aub8=np.array([\n",
    "    [3,0,1,0,4,0,3,0],\n",
    "    [0,4.5,0,1.5,0,6,0,4.5],\n",
    "    [6,7.2,2,2.4,5,6,5,6],\n",
    "    [-1,-1,0,0,0,0,0,0],\n",
    "    [0,0,-1,-1,0,0,0,0],\n",
    "    \n",
    "])\n",
    "bub8=np.array([\n",
    "    [40],\n",
    "    [40],\n",
    "    [100],\n",
    "    [-3],\n",
    "    [-18],\n",
    "])\n"
   ]
  },
  {
   "cell_type": "code",
   "execution_count": 79,
   "id": "b46c3e8a-5398-4339-b9fa-5354b9f8a020",
   "metadata": {},
   "outputs": [
    {
     "data": {
      "text/plain": [
       "        message: Optimization terminated successfully. (HiGHS Status 7: Optimal)\n",
       "        success: True\n",
       "         status: 0\n",
       "            fun: -161000.0\n",
       "              x: [ 3.000e+00  0.000e+00  1.800e+01  0.000e+00  3.000e+00\n",
       "                   5.000e+00  0.000e+00  0.000e+00]\n",
       "            nit: -1\n",
       "          lower:  residual: [ 3.000e+00  0.000e+00  1.800e+01  0.000e+00\n",
       "                              3.000e+00  5.000e+00  0.000e+00  0.000e+00]\n",
       "                 marginals: [ 0.000e+00  0.000e+00  0.000e+00  0.000e+00\n",
       "                              0.000e+00  0.000e+00  0.000e+00  0.000e+00]\n",
       "          upper:  residual: [       inf        inf        inf        inf\n",
       "                                    inf        inf        inf        inf]\n",
       "                 marginals: [ 0.000e+00  0.000e+00  0.000e+00  0.000e+00\n",
       "                              0.000e+00  0.000e+00  0.000e+00  0.000e+00]\n",
       "          eqlin:  residual: []\n",
       "                 marginals: []\n",
       "        ineqlin:  residual: [ 1.000e+00  1.000e+01  1.000e+00  0.000e+00\n",
       "                              0.000e+00]\n",
       "                 marginals: [ 0.000e+00  0.000e+00  0.000e+00  0.000e+00\n",
       "                              0.000e+00]\n",
       " mip_node_count: 1\n",
       " mip_dual_bound: -161000.0\n",
       "        mip_gap: 0.0"
      ]
     },
     "execution_count": 79,
     "metadata": {},
     "output_type": "execute_result"
    }
   ],
   "source": [
    "sol8=opt.linprog(c8,Aub8,bub8, integrality=1)\n",
    "sol8"
   ]
  },
  {
   "cell_type": "code",
   "execution_count": 81,
   "id": "27527c4f-e9d5-42f1-8a0b-c9a3a054f9af",
   "metadata": {},
   "outputs": [
    {
     "data": {
      "text/plain": [
       "array([ 3.,  0., 18.,  0.,  3.,  5.,  0.,  0.])"
      ]
     },
     "execution_count": 81,
     "metadata": {},
     "output_type": "execute_result"
    }
   ],
   "source": [
    "sol8.x"
   ]
  },
  {
   "cell_type": "markdown",
   "id": "363c365d-8d5f-4d5a-916a-d4131f42733a",
   "metadata": {},
   "source": [
    "¿Se puede cumplir la orden?\n",
    "Si sí, ¿qué es lo que tienen que fabricar en el resto del tiempo con el resto del material para maximizar su ganancia?\n",
    "\n",
    "El experimentado 3 libreros\n",
    "\n",
    "El aprendiz hizo 5 libreros \n"
   ]
  },
  {
   "cell_type": "code",
   "execution_count": 83,
   "id": "7f3f8d46-2bf7-4c7b-85d9-6b11669430a5",
   "metadata": {},
   "outputs": [
    {
     "data": {
      "text/plain": [
       "array([ 39.,  30.,  99.,  -3., -18.])"
      ]
     },
     "execution_count": 83,
     "metadata": {},
     "output_type": "execute_result"
    }
   ],
   "source": [
    "Aub8@sol8.x"
   ]
  },
  {
   "cell_type": "markdown",
   "id": "a5e0a551-7a50-46dc-bcaa-fed1a88997b9",
   "metadata": {},
   "source": [
    "¿Cuántas horas trabaja cada quién?\n",
    "\n",
    "Trabaja 39 el experimentado y 30 el aprendiz\n",
    "\n",
    "¿Cuánto material se usa?\n",
    "99"
   ]
  },
  {
   "cell_type": "markdown",
   "id": "353ef3f4-5013-41dd-91ba-3161fbcf0b2a",
   "metadata": {},
   "source": [
    "¿Cuál es el nuevo ingreso total?\n",
    "\n",
    "Se gana 161,000"
   ]
  },
  {
   "cell_type": "code",
   "execution_count": null,
   "id": "bd8589ec-47c1-4d17-9bd5-539493d638a4",
   "metadata": {},
   "outputs": [],
   "source": []
  }
 ],
 "metadata": {
  "kernelspec": {
   "display_name": "Python 3 (ipykernel)",
   "language": "python",
   "name": "python3"
  },
  "language_info": {
   "codemirror_mode": {
    "name": "ipython",
    "version": 3
   },
   "file_extension": ".py",
   "mimetype": "text/x-python",
   "name": "python",
   "nbconvert_exporter": "python",
   "pygments_lexer": "ipython3",
   "version": "3.12.4"
  }
 },
 "nbformat": 4,
 "nbformat_minor": 5
}
