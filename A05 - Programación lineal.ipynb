{
 "cells": [
  {
   "cell_type": "markdown",
   "id": "2177d6fc-dac9-4b50-b756-8b989acefc54",
   "metadata": {},
   "source": [
    "# A05 - Programación linea"
   ]
  },
  {
   "cell_type": "markdown",
   "id": "67502aeb-e72d-4b03-9e45-f863984f2e82",
   "metadata": {},
   "source": [
    "# Mariano Villanueva Aguilar"
   ]
  },
  {
   "cell_type": "markdown",
   "id": "0c696a57-057e-44a1-88f5-18c7fb7f05aa",
   "metadata": {},
   "source": [
    "# 05/09/2024"
   ]
  },
  {
   "cell_type": "markdown",
   "id": "fd3508e9-ec8b-428b-bbab-58c3fe1e472f",
   "metadata": {},
   "source": [
    "Ejercicio 1\r\n",
    "\r\n",
    "Se quiere producir comida para gatos de la manera más barata, no obstante se debe también asegurar que se cumplan los datos requeridos de analisis nutricional. Por lo que se quiere variar la cantidad de cada ingrediente para cumplir con los estandares nutricionales. Los requisitos que se tienen es que en 100 gramos, se deben tener por lo menos 9 gramos de proteína y  7 gramos de grasa. Así mismo, no se debe tener más de 2.5 gramos de fibra y 0.5 gramos de sal.0.0%\t00.0%"
   ]
  },
  {
   "cell_type": "markdown",
   "id": "abf05d12-fd83-452c-8989-221e34377c70",
   "metadata": {},
   "source": [
    "![](img1.png)"
   ]
  },
  {
   "cell_type": "markdown",
   "id": "ca076381-cc28-4b8f-9722-af573aee7c1d",
   "metadata": {},
   "source": [
    "1. Identificar criterio max/min \n",
    "$$ \\geq $$"
   ]
  },
  {
   "cell_type": "markdown",
   "id": "06078099-6661-40aa-ad44-28a25cc412ac",
   "metadata": {},
   "source": [
    "2. Variables de control"
   ]
  },
  {
   "cell_type": "markdown",
   "id": "8a9ac5ed-4c9e-4235-bc67-b82acce1f94a",
   "metadata": {},
   "source": [
    "$$ x_P,x_CA,x_CO,x_A,x_T,x_G $$"
   ]
  },
  {
   "cell_type": "markdown",
   "id": "e822c679-0fcc-4d05-9bbb-faf0e7dfabde",
   "metadata": {},
   "source": [
    "3. Función de Costo"
   ]
  },
  {
   "cell_type": "markdown",
   "id": "7b384fd4-d549-4be4-bc0c-7db0af0b5f3a",
   "metadata": {},
   "source": [
    "$$ Costo=0.00012x_P+0.0.00009x_CA+0.0001x_CO+0.00003x_A+0.00005x_T+0.00002x_G$$\n"
   ]
  },
  {
   "cell_type": "markdown",
   "id": "d6387267-1eb4-4392-9d64-a7ed0c4490b4",
   "metadata": {},
   "source": [
    "4. Info adicional\n",
    "\n",
    "Proteína\n",
    "$$ 0.1x_P+0.2x_CA+0.15x_CO+0x_A+0.04x_T+0x_G\\geq 9$$\n",
    "Grasa\n",
    "$$ 0.08x_P+0.1x_CA+0.11x_CO+0.01x_A+0.01x_T+0x_G\\geq 7$$\n",
    "Fibra\n",
    "$$ 0.001x_P+0.005x_CA+0.005x_CO+0.1x_A+0.15x_T+0x_G\\geq 2.5$$\n",
    "Sal\n",
    "$$ 0.002x_P+0.005x_CA+0.007x_CO+0.002x_A+0.008x_T+0x_G\\geq 0.5$$\n",
    "$$ x_P+x_CA+x_CO+x_A+x_T+x_G=100$$"
   ]
  },
  {
   "cell_type": "markdown",
   "id": "77851753-b22d-4cb5-a1c9-885e9faba610",
   "metadata": {},
   "source": [
    "Ejercicio 2\n",
    "\n",
    "La Comisión Federal de Electricidad (CFE) dispone de cuatro plantas de generación para satisfacer la demanda diaria eléctrica en cuatro ciudades, Guadalajara, León y Morelia. Las plantas 1, 2 y 3 pueden satisfacer 75, 50 y 60 millones de kW al día respectivamente. Las necesidades de las ciudades de Guadalajara, León y Morelia son de 60, 45 y 60 millones de Kw al día respectivamente.\n",
    "\n",
    "Los costos asociados al envío de suministro energético por cada millón de kW entre cada planta y cada ciudad son los registrados en la siguiente tabla."
   ]
  },
  {
   "cell_type": "markdown",
   "id": "aaaa0873-e26e-4a9f-b55c-d8927b1cea52",
   "metadata": {},
   "source": [
    "![](img2.png)"
   ]
  },
  {
   "cell_type": "markdown",
   "id": "894b9f67-d0c7-4fdb-aff1-5cae5146eaba",
   "metadata": {},
   "source": [
    "1. Identificar criterio max/min \n",
    "$$ \\leq en planta 1$$\n",
    "$$ \\leq en planta 1$$"
   ]
  },
  {
   "cell_type": "code",
   "execution_count": null,
   "id": "1a38a910-8df0-4fa8-8563-78984a0e6590",
   "metadata": {},
   "outputs": [],
   "source": []
  }
 ],
 "metadata": {
  "kernelspec": {
   "display_name": "Python 3 (ipykernel)",
   "language": "python",
   "name": "python3"
  },
  "language_info": {
   "codemirror_mode": {
    "name": "ipython",
    "version": 3
   },
   "file_extension": ".py",
   "mimetype": "text/x-python",
   "name": "python",
   "nbconvert_exporter": "python",
   "pygments_lexer": "ipython3",
   "version": "3.12.4"
  }
 },
 "nbformat": 4,
 "nbformat_minor": 5
}
