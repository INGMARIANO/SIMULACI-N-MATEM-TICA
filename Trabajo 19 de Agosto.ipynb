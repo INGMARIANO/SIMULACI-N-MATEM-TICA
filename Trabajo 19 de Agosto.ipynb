{
 "cells": [
  {
   "cell_type": "markdown",
   "id": "8f5b6b85-399c-42c3-8cc0-ba2ab1e028d1",
   "metadata": {},
   "source": [
    "# Actividad"
   ]
  },
  {
   "cell_type": "markdown",
   "id": "adf60ad7-c871-4a78-b862-341133e20f82",
   "metadata": {},
   "source": [
    "# Mariano Villanueva Aguilar   19 de Agosto de 2024"
   ]
  },
  {
   "cell_type": "markdown",
   "id": "9123295f-d4e6-4d87-a264-5751fbebd3b5",
   "metadata": {},
   "source": [
    "1. Pasar a función el código de encontrar un número primo que retorne True si es primo y False si no"
   ]
  },
  {
   "cell_type": "code",
   "execution_count": 201,
   "id": "83fcf08c-c972-42cc-88bc-e02896f27fc8",
   "metadata": {},
   "outputs": [
    {
     "name": "stdout",
     "output_type": "stream",
     "text": [
      "False\n"
     ]
    }
   ],
   "source": [
    "def esprimo(a):\n",
    "    b=2\n",
    "    if(a==1):\n",
    "        print(\"El número es unitario, es decir, que es uno\")\n",
    "    while(b<a):\n",
    "        if(a%b==0):\n",
    "            print(\"False\")\n",
    "            break\n",
    "        else:\n",
    "            b+=1\n",
    "    if(a/b==1):\n",
    "         print(\"True\")   \n",
    "esprimo(4)"
   ]
  },
  {
   "cell_type": "markdown",
   "id": "6a237317-91c5-49f1-8984-31894cf42da6",
   "metadata": {},
   "source": [
    "2. Decir el número primo más cercano a un número"
   ]
  },
  {
   "cell_type": "code",
   "execution_count": 2,
   "id": "27b3ff84-7cdd-42eb-a15f-faf70127b861",
   "metadata": {},
   "outputs": [
    {
     "name": "stdout",
     "output_type": "stream",
     "text": [
      "Está en medio de dos primos  23 y 19\n"
     ]
    }
   ],
   "source": [
    "a=21\n",
    "arriba=a\n",
    "abajo=a\n",
    "def primo(a):\n",
    "    b=2\n",
    "    if(a==1):\n",
    "        print(\"El número es unitario, es decir, que es uno\")\n",
    "    while(b<a):\n",
    "        if(a%b==0):\n",
    "            c=\"False\"\n",
    "            break\n",
    "        else:\n",
    "            b+=1\n",
    "    if(a/b==1):\n",
    "        c=\"True\"\n",
    "    return c\n",
    "c=primo(a)\n",
    "if(c==\"False\"):\n",
    "    b=2\n",
    "    while(c==\"False\"):\n",
    "        arriba+=1\n",
    "        c=primo(arriba)\n",
    "    b=2\n",
    "    c=\"False\"\n",
    "    while(c==\"False\"):\n",
    "        abajo-=1\n",
    "        c=primo(abajo)\n",
    "    Difup=arriba-a\n",
    "    Difdown=a-abajo\n",
    "    if(Difup<Difdown):\n",
    "        print(\"El primo más cercano es \", arriba)\n",
    "    elif(Difdown<Difup):\n",
    "        print(\"El primo más cercano es \", abajo)\n",
    "    else:\n",
    "        print(\"Está en medio de dos primos \", arriba, \"y\", abajo)\n",
    "else:\n",
    "    print(\"El número es primo\")"
   ]
  },
  {
   "cell_type": "markdown",
   "id": "bc0acc46-64b6-4122-87d7-73f40b14e41f",
   "metadata": {},
   "source": [
    "![](d0.jpeg)"
   ]
  },
  {
   "cell_type": "markdown",
   "id": "9a773c43-2723-4398-9f62-9a1272f02a96",
   "metadata": {},
   "source": [
    "3. Pasar a función el codigo de encontrar factorial y encontrar factorial de los siguientes números\n",
    "* 4\n",
    "* 7\n",
    "* 5\n",
    "* 8\n",
    "* 9\n",
    "* 3"
   ]
  },
  {
   "cell_type": "code",
   "execution_count": 11,
   "id": "6009f4e6-56e8-414e-b094-227df370e628",
   "metadata": {},
   "outputs": [
    {
     "name": "stdout",
     "output_type": "stream",
     "text": [
      "[24, 5040, 120, 40320, 362880, 6]\n"
     ]
    }
   ],
   "source": [
    "lista1=[4,7,5,8,9,3]\n",
    "lista2=[]\n",
    "contador=0\n",
    "for elemento in lista1:\n",
    "    a=lista1[contador]\n",
    "    b=-1*(1-a)\n",
    "    while(b>0):\n",
    "        a*=b\n",
    "        b-=1\n",
    "    lista2.append(a)\n",
    "    contador+=1\n",
    "    \n",
    "print(lista2)"
   ]
  },
  {
   "cell_type": "markdown",
   "id": "89631d59-59b6-4b90-a86c-f7ddcb9062f1",
   "metadata": {},
   "source": [
    "4. Crear una lista con los primeros 100 múltiplos de 3"
   ]
  },
  {
   "cell_type": "code",
   "execution_count": 16,
   "id": "727fd5c6-a410-4d27-8c9a-5de06ec24331",
   "metadata": {},
   "outputs": [
    {
     "name": "stdout",
     "output_type": "stream",
     "text": [
      "[3, 6, 9, 12, 15, 18, 21, 24, 27, 30, 33, 36, 39, 42, 45, 48, 51, 54, 57, 60, 63, 66, 69, 72, 75, 78, 81, 84, 87, 90, 93, 96, 99, 102, 105, 108, 111, 114, 117, 120, 123, 126, 129, 132, 135, 138, 141, 144, 147, 150, 153, 156, 159, 162, 165, 168, 171, 174, 177, 180, 183, 186, 189, 192, 195, 198, 201, 204, 207, 210, 213, 216, 219, 222, 225, 228, 231, 234, 237, 240, 243, 246, 249, 252, 255, 258, 261, 264, 267, 270, 273, 276, 279, 282, 285, 288, 291, 294, 297, 300]\n"
     ]
    }
   ],
   "source": [
    "lista=[]\n",
    "a=3\n",
    "contador=2\n",
    "x=3\n",
    "while(contador<=101):\n",
    "    lista.append(x)\n",
    "    x=a*contador\n",
    "    contador+=1\n",
    "print(lista)\n",
    "    "
   ]
  },
  {
   "cell_type": "code",
   "execution_count": null,
   "id": "24eb55c5-0bfb-46af-b7f2-cbc85377b90a",
   "metadata": {},
   "outputs": [],
   "source": [
    "if(c==\"False\"):\n",
    "    arriba=a\n",
    "    abajo=a\n",
    "\n",
    "    while(c==\"False\"):\n",
    "        abajo-=1\n",
    "        primo(abajo)\n",
    "    Difup=arriba-a\n",
    "    Difdown=a-abajo\n",
    "    if(Difup<Difdown):\n",
    "        print(\"El primo más cercano es \", arriba)\n",
    "    else:\n",
    "        print(\"El primo más cercano es \", abajo)\n",
    "else:\n",
    "    print(\"El número es primo\")\n",
    "def primo(a):\n",
    "    b=2\n",
    "    if(a==1):\n",
    "        print(\"El número es unitario, es decir, que es uno\")\n",
    "    while(b<a):\n",
    "        if(a%b==0):\n",
    "            c=\"False\"\n",
    "            break\n",
    "        else:\n",
    "            b+=1\n",
    "    if(a/b==1):\n",
    "        c=\"True\"\n",
    "    return c"
   ]
  }
 ],
 "metadata": {
  "kernelspec": {
   "display_name": "Python 3 (ipykernel)",
   "language": "python",
   "name": "python3"
  },
  "language_info": {
   "codemirror_mode": {
    "name": "ipython",
    "version": 3
   },
   "file_extension": ".py",
   "mimetype": "text/x-python",
   "name": "python",
   "nbconvert_exporter": "python",
   "pygments_lexer": "ipython3",
   "version": "3.12.4"
  }
 },
 "nbformat": 4,
 "nbformat_minor": 5
}
