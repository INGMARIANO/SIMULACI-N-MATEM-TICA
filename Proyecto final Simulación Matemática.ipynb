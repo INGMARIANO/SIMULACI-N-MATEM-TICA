{
 "cells": [
  {
   "cell_type": "markdown",
   "id": "0426df0c-1dae-4865-a359-52b89d9270a3",
   "metadata": {},
   "source": [
    "# Proyecto final Simulación Matemática"
   ]
  },
  {
   "cell_type": "markdown",
   "id": "a2e3e7fd-7d0f-44d7-afe5-45b082b68aba",
   "metadata": {},
   "source": [
    "Una persona que entrena con la finalidad de ganar masa múscular con una composición ectomorfa, para completar esta finalidad debe de adquirir habitos saludables como: dormir bien, entrenar a un volumen alto de intensidad y el más importante llevar una alimentación alta en proteína y carbohidratos. No obstante, es una gran problematica para un estudiante foráneo, ya que al ser grandes cantidades de comida puede llegar a tener un precio muy alto, por lo que para este proyecto se tratará de encontrar una solución con un bajo presupuesto."
   ]
  },
  {
   "cell_type": "markdown",
   "id": "6445bfac-6bba-485d-a87c-e6697a328a3d",
   "metadata": {},
   "source": [
    "Por lo que para el desarrollo del proyecto, se realizará una investigación del mercado para saber los precios de porciones empaquetadas en las siguientes tiendas supermercado:"
   ]
  },
  {
   "cell_type": "markdown",
   "id": "544d4f9e-de96-4b82-9a78-bc300e42fafa",
   "metadata": {},
   "source": [
    "* Walmart\n",
    "* Merza\n",
    "* Soriana Hiper\n"
   ]
  },
  {
   "cell_type": "markdown",
   "id": "e4f604a9-cc47-4cde-bbe2-0eacf60ebbb4",
   "metadata": {},
   "source": [
    "Cabe aclarar que los alimentos que se van a comparar, serán comparados por dos variables: gramos de macronutriente y precio, por lo que por ejemplo, un filete de res tendrá menos proteína en comparación a uno de pollo, no obstante, el filete de res es más barato."
   ]
  },
  {
   "cell_type": "markdown",
   "id": "3283fabb-4a7b-4195-b788-6f2e23f9711d",
   "metadata": {},
   "source": [
    "Otra variable a incluir es que no se puede repetir la misma más de 3 veces a la semana, ya que, además de tener alimentos nutritivos y con el menor gasto, se espera que sea una alimentación variada."
   ]
  },
  {
   "cell_type": "markdown",
   "id": "ef5163b2-48e4-4834-a88c-92e630a5b6bf",
   "metadata": {},
   "source": [
    "El resultado final de esta lista, es una lista de compra con alimentos varios, que satisfaga la necesidad de 3 comidas al día con los macronutrientes necesario, los cinco días de la semana, ya que el foráneo promedio se regresa a su ciudad natal los fines de semana."
   ]
  },
  {
   "cell_type": "markdown",
   "id": "e16fb7a6-53d2-49b1-b973-52fb8aeec182",
   "metadata": {},
   "source": [
    "Los precios son actuales en la ciudad de Zamora Michoacán, a fecha del 30 de Noviembre de 2024, por lo que si se quiere adaptar este sistema a otras fechas y/o ciudad, se tendría que adaptar el formato de excel anexado a este proyecto. "
   ]
  },
  {
   "cell_type": "markdown",
   "id": "2ce60249-cc9f-4d78-bfa7-cef3d7c281b8",
   "metadata": {},
   "source": [
    "La lista de productos a comparar y sus precios en las diferentes tiendas de conveniencia, son los siguientes:"
   ]
  },
  {
   "cell_type": "code",
   "execution_count": 55,
   "id": "cb02e7b3-b77f-4d29-9f7f-1b2b984f04a3",
   "metadata": {},
   "outputs": [
    {
     "data": {
      "text/html": [
       "<div>\n",
       "<style scoped>\n",
       "    .dataframe tbody tr th:only-of-type {\n",
       "        vertical-align: middle;\n",
       "    }\n",
       "\n",
       "    .dataframe tbody tr th {\n",
       "        vertical-align: top;\n",
       "    }\n",
       "\n",
       "    .dataframe thead th {\n",
       "        text-align: right;\n",
       "    }\n",
       "</style>\n",
       "<table border=\"1\" class=\"dataframe\">\n",
       "  <thead>\n",
       "    <tr style=\"text-align: right;\">\n",
       "      <th></th>\n",
       "      <th>Comida</th>\n",
       "      <th>Walmart</th>\n",
       "      <th>Merza</th>\n",
       "      <th>Soriana Hiper</th>\n",
       "    </tr>\n",
       "  </thead>\n",
       "  <tbody>\n",
       "    <tr>\n",
       "      <th>0</th>\n",
       "      <td>Lata de atun</td>\n",
       "      <td>40</td>\n",
       "      <td>39.50</td>\n",
       "      <td>41.9</td>\n",
       "    </tr>\n",
       "    <tr>\n",
       "      <th>1</th>\n",
       "      <td>Bisteck de res</td>\n",
       "      <td>205</td>\n",
       "      <td>158.00</td>\n",
       "      <td>149.0</td>\n",
       "    </tr>\n",
       "    <tr>\n",
       "      <th>2</th>\n",
       "      <td>Pechuga de pollo</td>\n",
       "      <td>139</td>\n",
       "      <td>133.01</td>\n",
       "      <td>123.5</td>\n",
       "    </tr>\n",
       "    <tr>\n",
       "      <th>3</th>\n",
       "      <td>Chuletas de cerdo</td>\n",
       "      <td>109</td>\n",
       "      <td>149.00</td>\n",
       "      <td>134.0</td>\n",
       "    </tr>\n",
       "    <tr>\n",
       "      <th>4</th>\n",
       "      <td>Arroz</td>\n",
       "      <td>39</td>\n",
       "      <td>34.00</td>\n",
       "      <td>39.0</td>\n",
       "    </tr>\n",
       "    <tr>\n",
       "      <th>5</th>\n",
       "      <td>Lentejas</td>\n",
       "      <td>28</td>\n",
       "      <td>29.00</td>\n",
       "      <td>35.0</td>\n",
       "    </tr>\n",
       "    <tr>\n",
       "      <th>6</th>\n",
       "      <td>Avena</td>\n",
       "      <td>32</td>\n",
       "      <td>34.00</td>\n",
       "      <td>30.0</td>\n",
       "    </tr>\n",
       "  </tbody>\n",
       "</table>\n",
       "</div>"
      ],
      "text/plain": [
       "              Comida  Walmart   Merza  Soriana Hiper\n",
       "0       Lata de atun       40   39.50           41.9\n",
       "1     Bisteck de res      205  158.00          149.0\n",
       "2   Pechuga de pollo      139  133.01          123.5\n",
       "3  Chuletas de cerdo      109  149.00          134.0\n",
       "4             Arroz        39   34.00           39.0\n",
       "5           Lentejas       28   29.00           35.0\n",
       "6             Avena        32   34.00           30.0"
      ]
     },
     "execution_count": 55,
     "metadata": {},
     "output_type": "execute_result"
    }
   ],
   "source": [
    "import pandas as pd\n",
    "Precios=pd.read_csv(\"Precios.csv\")\n",
    "Precios"
   ]
  },
  {
   "cell_type": "markdown",
   "id": "d029d1c5-82de-4c5e-ac41-f7ede8206ce3",
   "metadata": {},
   "source": [
    "Para una persona con las características previamente mencionadas, debe de consumir por lo menos 2g de proteína y 3g de carbohidratos por kilogramo de peso."
   ]
  },
  {
   "cell_type": "markdown",
   "id": "9e9fe52e-79d4-459b-a542-817aa1d244fd",
   "metadata": {},
   "source": [
    "Ingresa tu peso corporal:"
   ]
  },
  {
   "cell_type": "code",
   "execution_count": 58,
   "id": "29b91d91-95f9-4836-8a6a-309db951ebc5",
   "metadata": {},
   "outputs": [
    {
     "name": "stdout",
     "output_type": "stream",
     "text": [
      "Los gramos de proteína al día son: 140 g\n",
      "Los gramos de carbohidratos al día son: 210 g\n"
     ]
    }
   ],
   "source": [
    "peso_corporal=70\n",
    "g_proteína=2*peso_corporal\n",
    "g_carbohidratos=3*peso_corporal\n",
    "print(\"Los gramos de proteína al día son:\",g_proteína,\"g\")\n",
    "print(\"Los gramos de carbohidratos al día son:\",g_carbohidratos,\"g\")"
   ]
  },
  {
   "cell_type": "markdown",
   "id": "abc4b129-d9ea-4821-80f1-eeac58cbb9c1",
   "metadata": {},
   "source": [
    "La lista con los macronutrientes por comida, es la siguiente:"
   ]
  },
  {
   "cell_type": "code",
   "execution_count": 60,
   "id": "03c0d1f1-a44a-4e65-a7d2-88430edbb047",
   "metadata": {},
   "outputs": [
    {
     "data": {
      "text/html": [
       "<div>\n",
       "<style scoped>\n",
       "    .dataframe tbody tr th:only-of-type {\n",
       "        vertical-align: middle;\n",
       "    }\n",
       "\n",
       "    .dataframe tbody tr th {\n",
       "        vertical-align: top;\n",
       "    }\n",
       "\n",
       "    .dataframe thead th {\n",
       "        text-align: right;\n",
       "    }\n",
       "</style>\n",
       "<table border=\"1\" class=\"dataframe\">\n",
       "  <thead>\n",
       "    <tr style=\"text-align: right;\">\n",
       "      <th></th>\n",
       "      <th>Alimento</th>\n",
       "      <th>Gramos de proteina</th>\n",
       "      <th>Gramos de carbohidratos</th>\n",
       "    </tr>\n",
       "  </thead>\n",
       "  <tbody>\n",
       "    <tr>\n",
       "      <th>0</th>\n",
       "      <td>Lata de atun (295 g)</td>\n",
       "      <td>22</td>\n",
       "      <td>0</td>\n",
       "    </tr>\n",
       "    <tr>\n",
       "      <th>1</th>\n",
       "      <td>Bisteck de res (Kg)</td>\n",
       "      <td>200</td>\n",
       "      <td>0</td>\n",
       "    </tr>\n",
       "    <tr>\n",
       "      <th>2</th>\n",
       "      <td>Pechuga de pollo (kg)</td>\n",
       "      <td>220</td>\n",
       "      <td>0</td>\n",
       "    </tr>\n",
       "    <tr>\n",
       "      <th>3</th>\n",
       "      <td>Chuletas de cerdo (kg)</td>\n",
       "      <td>200</td>\n",
       "      <td>0</td>\n",
       "    </tr>\n",
       "    <tr>\n",
       "      <th>4</th>\n",
       "      <td>Arroz (1 Kg)</td>\n",
       "      <td>70</td>\n",
       "      <td>780</td>\n",
       "    </tr>\n",
       "    <tr>\n",
       "      <th>5</th>\n",
       "      <td>Lentejas (500 gr)</td>\n",
       "      <td>260</td>\n",
       "      <td>630</td>\n",
       "    </tr>\n",
       "    <tr>\n",
       "      <th>6</th>\n",
       "      <td>Avena 1(Kg)</td>\n",
       "      <td>120</td>\n",
       "      <td>680</td>\n",
       "    </tr>\n",
       "  </tbody>\n",
       "</table>\n",
       "</div>"
      ],
      "text/plain": [
       "                 Alimento  Gramos de proteina  Gramos de carbohidratos\n",
       "0   Lata de atun (295 g)                   22                        0\n",
       "1     Bisteck de res (Kg)                 200                        0\n",
       "2   Pechuga de pollo (kg)                 220                        0\n",
       "3  Chuletas de cerdo (kg)                 200                        0\n",
       "4            Arroz (1 Kg)                  70                      780\n",
       "5       Lentejas (500 gr)                 260                      630\n",
       "6             Avena 1(Kg)                 120                      680"
      ]
     },
     "execution_count": 60,
     "metadata": {},
     "output_type": "execute_result"
    }
   ],
   "source": [
    "Macronutrientes=pd.read_csv(\"Macronutrientes.csv\")\n",
    "Macronutrientes"
   ]
  },
  {
   "cell_type": "markdown",
   "id": "0c4e31fd-5ad4-41ba-a25a-86712dc23886",
   "metadata": {},
   "source": [
    "Definimos una función para "
   ]
  },
  {
   "cell_type": "code",
   "execution_count": null,
   "id": "89de71db-3fa7-471c-9fd1-ff22235e09d9",
   "metadata": {},
   "outputs": [],
   "source": []
  },
  {
   "cell_type": "code",
   "execution_count": null,
   "id": "99a793ba-c5bd-4462-9f53-9fedeab1820e",
   "metadata": {},
   "outputs": [],
   "source": []
  },
  {
   "cell_type": "code",
   "execution_count": 62,
   "id": "668feab3-d367-4cb2-a8c2-4a2ef9691c65",
   "metadata": {},
   "outputs": [],
   "source": [
    "Walmart={\"Atun\":40,\"Bisteck\":205,\"Pollo\":139,\"Cerdo\":109,\"Arroz\":39,\"Lentejas\":28,\"Avena\":32}\n",
    "Merza={\"Atun\":39.5,\"Bisteck\":158,\"Pollo\":133.01,\"Cerdo\":149,\"Arroz\":34,\"Lentejas\":29,\"Avena\":34}\n",
    "Soriana={\"Atun\":41.9,\"Bisteck\":149,\"Pollo\":123.5,\"Cerdo\":134,\"Arroz\":39,\"Lentejas\":35,\"Avena\":30}\n",
    "Proteina={\"Atun\":22,\"Bisteck\":200,\"Pollo\":220,\"Cerdo\":200,\"Arroz\":70,\"Lentejas\":260,\"Avena\":120}\n",
    "Carbohidratos={\"Atun\":0,\"Bisteck\":0,\"Pollo\":0,\"Cerdo\":0,\"Arroz\":780,\"Lentejas\":630,\"Avena\":680}"
   ]
  },
  {
   "cell_type": "markdown",
   "id": "47fb87e9-ea99-41d6-9818-252ba7afe108",
   "metadata": {},
   "source": [
    "Con los datos mencionados, se tienen que satisfacer las necesidades de 15 comidas, siento que en total se tienen que consumir:"
   ]
  },
  {
   "cell_type": "code",
   "execution_count": 81,
   "id": "383b10e4-2c9b-4928-8234-6c6b73c5cdf8",
   "metadata": {},
   "outputs": [
    {
     "name": "stdout",
     "output_type": "stream",
     "text": [
      "Los gramos de proteína a la semana son: 700 g\n",
      "Los gramos de carbohidratos a la semana son: 1050 g\n"
     ]
    }
   ],
   "source": [
    "prote_5=g_proteína*5\n",
    "carbo_5=g_carbohidratos*5\n",
    "print(\"Los gramos de proteína a la semana son:\",prote_5,\"g\")\n",
    "print(\"Los gramos de carbohidratos a la semana son:\",carbo_5,\"g\")"
   ]
  },
  {
   "cell_type": "markdown",
   "id": "47f867e9-a7c4-4782-8e47-e1aee31b0768",
   "metadata": {},
   "source": [
    "Con estos datos, se hace recurirá a una simulación de Simulated annealing:"
   ]
  },
  {
   "cell_type": "code",
   "execution_count": null,
   "id": "c3102ebc-acf9-40ce-b346-f90ffaf20b90",
   "metadata": {},
   "outputs": [],
   "source": [
    "i=0\n",
    "N=30\n",
    "T=1000\n",
    "M=100\n",
    "Lrutas=[]\n",
    "Ldist=[]\n",
    "for l in range (M):\n",
    "    R1=F(x)\n",
    "    while (T>=1):\n",
    "        while i<N:\n",
    "\n",
    "            R2=R1.copy()\n",
    "            ind = np.random.choice([0, 1, 2, 3, 4, 5, 6, 7], 2, replace=False)\n",
    "            a=ind[0]\n",
    "            b=ind[1]\n",
    "            R2[a]=R1[b]\n",
    "            R2[b]=R1[a]\n",
    "            \n",
    "            p=np.random.uniform(0,1)\n",
    "            D1=F3(R1)\n",
    "            D2=F3(R2)\n",
    "            q=np.exp((D1-D2)/T)\n",
    "            if p<q:\n",
    "                R1=R2.copy()\n",
    "            i+=1\n",
    "        T=T*0.9\n",
    "    Lrutas.append(R1.copy())\n",
    "    Ldist.append(F3((R1.copy())))\n",
    "import matplotlib.pyplot as plt\n",
    "plt.figure()\n",
    "plt.hist(Ldist);"
   ]
  },
  {
   "cell_type": "code",
   "execution_count": null,
   "id": "d4f5699d-6bea-4dc0-911d-a260d071733d",
   "metadata": {},
   "outputs": [],
   "source": []
  },
  {
   "cell_type": "code",
   "execution_count": null,
   "id": "62715ef9-d0ed-4bec-9ee0-198358e44659",
   "metadata": {},
   "outputs": [],
   "source": []
  },
  {
   "cell_type": "code",
   "execution_count": null,
   "id": "d30137bb-06b4-4eb1-8ddc-40bba4ab1d61",
   "metadata": {},
   "outputs": [],
   "source": []
  },
  {
   "cell_type": "code",
   "execution_count": null,
   "id": "956236f7-afcd-44d4-acc4-91a91f883fe3",
   "metadata": {},
   "outputs": [],
   "source": []
  },
  {
   "cell_type": "code",
   "execution_count": null,
   "id": "d9c65f71-d620-46ed-85f1-5bf7155f0d81",
   "metadata": {},
   "outputs": [],
   "source": []
  },
  {
   "cell_type": "code",
   "execution_count": null,
   "id": "80c6e17d-209a-427f-8a39-8ec08b727fb2",
   "metadata": {},
   "outputs": [],
   "source": []
  },
  {
   "cell_type": "code",
   "execution_count": null,
   "id": "07ac22b9-e7f0-4938-910f-cc3d3e88eeca",
   "metadata": {},
   "outputs": [],
   "source": []
  },
  {
   "cell_type": "markdown",
   "id": "ee573bfb-ef1d-4b8b-ab92-4c51eb048328",
   "metadata": {},
   "source": [
    "Recopilación de info:\n",
    "* https://mx.openfoodfacts.org/producto/7501045400860/atun-en-agua-dolores"
   ]
  },
  {
   "cell_type": "code",
   "execution_count": null,
   "id": "2f6e0bce-7963-4e5e-a0d2-4a8dc04ff80a",
   "metadata": {},
   "outputs": [],
   "source": []
  }
 ],
 "metadata": {
  "kernelspec": {
   "display_name": "Python 3 (ipykernel)",
   "language": "python",
   "name": "python3"
  },
  "language_info": {
   "codemirror_mode": {
    "name": "ipython",
    "version": 3
   },
   "file_extension": ".py",
   "mimetype": "text/x-python",
   "name": "python",
   "nbconvert_exporter": "python",
   "pygments_lexer": "ipython3",
   "version": "3.12.4"
  }
 },
 "nbformat": 4,
 "nbformat_minor": 5
}
