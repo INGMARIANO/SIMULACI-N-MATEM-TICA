{
 "cells": [
  {
   "cell_type": "markdown",
   "id": "942171cd-bed3-4626-8827-412fef84add4",
   "metadata": {},
   "source": [
    "# Mariano Villanueva Aguilar 04/11/2024"
   ]
  },
  {
   "cell_type": "markdown",
   "id": "9517a710-1d3a-4ab3-9ce1-84532e51fe8c",
   "metadata": {},
   "source": [
    "# Simulación matemática tercer periodo"
   ]
  },
  {
   "cell_type": "markdown",
   "id": "3b61374e-5e0b-4874-b487-988bda573e17",
   "metadata": {},
   "source": [
    "# Investiga el problema de la aguja de Buffon."
   ]
  },
  {
   "cell_type": "markdown",
   "id": "084ea204-0849-4e2c-a8f9-b480a3df5c6e",
   "metadata": {},
   "source": [
    "¿De qué trata?"
   ]
  },
  {
   "cell_type": "markdown",
   "id": "de4e60e0-f217-4698-b452-497fbb23a4ae",
   "metadata": {},
   "source": [
    "Este experimento consiste en dejar caer una aguja sobre una hoja rayada y anotar las veces que la aguja cruza alguna de las rayas. Después de lanzar la aguja muchísimas veces comprobó que su experimento estaba íntimamente relacionado con el número π."
   ]
  },
  {
   "cell_type": "markdown",
   "id": "99876670-63d5-4d4e-b63f-7142ed3e8d9d",
   "metadata": {},
   "source": [
    "Explica la solución con cálculo integral usando tus palabras."
   ]
  },
  {
   "attachments": {},
   "cell_type": "markdown",
   "id": "6c657da3-acf5-412c-a4d0-b4418ff8a421",
   "metadata": {},
   "source": [
    "Se tiene que para que la aguja que se tiró aleatoriamente toca alguna de las líneas, la distancia desde su centro debe ser menor o igual a la mitad del largo de la distancia entre líneas, además que el seno del ángulo que forma respecto a la horizontal debe estar entre  0 y π/2. Haciendo que se se grafique una función:\n",
    "$$ f(x)=\\frac {L} {2} sin (x) $$\n",
    "\n",
    "Para sacar la probabilidad de que los palitos toquen una línea, se divide el área bajo la curva de la función, entre el producto de  π/2 por la mitad del ancho de cada rectángulo formado por las líneas del papel."
   ]
  },
  {
   "cell_type": "code",
   "execution_count": 58,
   "id": "6625bd80-cfae-4bab-b5fe-6a7f870e6ba5",
   "metadata": {},
   "outputs": [
    {
     "data": {
      "text/plain": [
       "<matplotlib.collections.PolyCollection at 0x26622df7b60>"
      ]
     },
     "execution_count": 58,
     "metadata": {},
     "output_type": "execute_result"
    },
    {
     "data": {
      "image/png": "[encoded data removed]",
      "text/plain": [
       "<Figure size 640x480 with 1 Axes>"
      ]
     },
     "metadata": {},
     "output_type": "display_data"
    }
   ],
   "source": [
    "import numpy as np\n",
    "import matplotlib.pyplot as plt\n",
    "tt=np.linspace(0,np.pi/2,1000)\n",
    "distancia_max=(1/2)*np.sin(tt)\n",
    "plt.figure()\n",
    "plt.grid()\n",
    "plt.plot(tt,distancia_max, label=\" $f(x)=L/ 2 sin (x)$ \") \n",
    "plt.title(\"Curva entre los ejes dados\")\n",
    "plt.legend(loc=\"best\")\n",
    "plt.fill_between(tt,distancia_max)"
   ]
  },
  {
   "cell_type": "markdown",
   "id": "80ba5517-6009-4abd-ad6c-6e222ae41842",
   "metadata": {},
   "source": [
    "$$ \\frac {\\int_{\\frac{\\pi}{2}}^{0} \\frac{L}{2}\\sin{x}dx} {\\frac{\\pi}{2}\\frac{L}{2}} $$"
   ]
  },
  {
   "cell_type": "markdown",
   "id": "ad0b39d7-d846-492e-9081-039a884dcc92",
   "metadata": {},
   "source": [
    "Explica la solución sin cálculo integral usando tus palabras\n"
   ]
  },
  {
   "cell_type": "markdown",
   "id": "10e69eba-26be-46cf-ba70-0ffa4f7fe25d",
   "metadata": {},
   "source": [
    "Se simula un número grande de veces (mientras más cerca de infinito más certeza se tendrá) y para tener restricciones se toma que el largo de cada palilo debe ser menor a la distancia entre las líneas y el ángulo que forma el palillo con las líneas debe de estar entre 0 y π/2. Al momento de juntar estas restricciones nos damos cuenta que el palillo y las líneas forman un triángulo rectángulo, por lo que obtenemos el cateto opuesto mediante la fórmula:"
   ]
  },
  {
   "cell_type": "markdown",
   "id": "f7f89be7-3221-4bdd-80b4-54465242b81a",
   "metadata": {},
   "source": [
    "$$\\frac {L} {2} sin (\\theta)$$ "
   ]
  },
  {
   "cell_type": "markdown",
   "id": "f11d8b9b-040e-46c3-b717-1fd967d3dc9c",
   "metadata": {},
   "source": [
    "Si la distancia que hay entre el palito y una de las líneas es menor a la distancia obtenida con la fórmula dada, la cual es la distancia vertical del centro del palillo a sus extremos, significa que el palito esta tocando una línea."
   ]
  },
  {
   "cell_type": "markdown",
   "id": "5adba12b-63e6-4822-932a-e70ff518ed21",
   "metadata": {},
   "source": [
    "Para obtener la probabilidad de que toque o no, se usa la siguiente fórmula:\n",
    "$$ \\frac {2L(Total de casos)} {D*(Casos a favor)}$$"
   ]
  },
  {
   "cell_type": "markdown",
   "id": "bfea8eda-46a0-4a35-a7da-a12dc4708353",
   "metadata": {},
   "source": [
    "Crea una simulación con numpy donde se arrojen n agujas de longitud l dado que se tiene una distancia d entre cada línea paralela."
   ]
  },
  {
   "cell_type": "code",
   "execution_count": 74,
   "id": "d99122a8-e0f8-42fd-8bfb-4348c19cbf76",
   "metadata": {},
   "outputs": [
    {
     "data": {
      "text/plain": [
       "3.1437962172429206"
      ]
     },
     "execution_count": 74,
     "metadata": {},
     "output_type": "execute_result"
    }
   ],
   "source": [
    "n=10000000\n",
    "L=1\n",
    "D=1.5\n",
    "contador=0\n",
    "for i in range (n):\n",
    "    X=np.random.uniform(0,D/2)\n",
    "    theta=np.random.uniform(0,np.pi/2)\n",
    "    R=(L/2)*(np.sin(theta))\n",
    "    if X<=R:\n",
    "        contador+=1\n",
    "2*L*n/(D*contador)      "
   ]
  },
  {
   "cell_type": "markdown",
   "id": "4504502b-0fc9-43b8-a9af-d6b9762e20e9",
   "metadata": {},
   "source": [
    "¿Qué variables aleatorias hay en este caso?\n",
    "\n",
    "Aleatoriamente se esconje la distancia a la que esta el centro del palillo y el ángulo que forma este con la horizontal, para aplicar la fórmula dicha anteriormente y contar los casos donde toca."
   ]
  },
  {
   "cell_type": "markdown",
   "id": "b6e92fcc-fb33-43f9-b5bf-810a746cdc47",
   "metadata": {},
   "source": [
    "¿Qué distribución siguen?\n",
    "\n",
    "Se sigue una distribución uniforme, ya que se tiene la misma probabilidad de caer en cualquier lado de la cuadricula"
   ]
  },
  {
   "cell_type": "markdown",
   "id": "7d8ac2d9-bd84-435f-b791-c95de062a40e",
   "metadata": {},
   "source": [
    "¿Cómo evoluciona el resultado contra la cantidad de agujas que se usa?\n",
    "\n",
    "Mientras más casos se usan más se acerca a 3.1415 que son los primeros cuatro decimales de π por ejemplo:"
   ]
  },
  {
   "cell_type": "code",
   "execution_count": 82,
   "id": "cf49447f-c328-45e5-90d8-72329d5635f2",
   "metadata": {},
   "outputs": [
    {
     "data": {
      "text/plain": [
       "2.6666666666666665"
      ]
     },
     "execution_count": 82,
     "metadata": {},
     "output_type": "execute_result"
    }
   ],
   "source": [
    "n=10\n",
    "L=1\n",
    "D=1.5\n",
    "contador=0\n",
    "for i in range (n):\n",
    "    X=np.random.uniform(0,D/2)\n",
    "    theta=np.random.uniform(0,np.pi/2)\n",
    "    R=(L/2)*(np.sin(theta))\n",
    "    if X<=R:\n",
    "        contador+=1\n",
    "2*L*n/(D*contador)      "
   ]
  },
  {
   "cell_type": "code",
   "execution_count": 84,
   "id": "0efa4d39-44de-4786-a1f2-b12c19e65a9e",
   "metadata": {},
   "outputs": [
    {
     "data": {
      "text/plain": [
       "3.0303030303030303"
      ]
     },
     "execution_count": 84,
     "metadata": {},
     "output_type": "execute_result"
    }
   ],
   "source": [
    "n=100\n",
    "L=1\n",
    "D=1.5\n",
    "contador=0\n",
    "for i in range (n):\n",
    "    X=np.random.uniform(0,D/2)\n",
    "    theta=np.random.uniform(0,np.pi/2)\n",
    "    R=(L/2)*(np.sin(theta))\n",
    "    if X<=R:\n",
    "        contador+=1\n",
    "2*L*n/(D*contador)      "
   ]
  },
  {
   "cell_type": "code",
   "execution_count": 86,
   "id": "5042eadd-d491-472b-ad87-14b6d9ea9790",
   "metadata": {},
   "outputs": [
    {
     "data": {
      "text/plain": [
       "3.1821797931583133"
      ]
     },
     "execution_count": 86,
     "metadata": {},
     "output_type": "execute_result"
    }
   ],
   "source": [
    "n=1000\n",
    "L=1\n",
    "D=1.5\n",
    "contador=0\n",
    "for i in range (n):\n",
    "    X=np.random.uniform(0,D/2)\n",
    "    theta=np.random.uniform(0,np.pi/2)\n",
    "    R=(L/2)*(np.sin(theta))\n",
    "    if X<=R:\n",
    "        contador+=1\n",
    "2*L*n/(D*contador)      "
   ]
  },
  {
   "cell_type": "code",
   "execution_count": 90,
   "id": "ee561260-1e5d-4df1-93df-44b917cd497e",
   "metadata": {},
   "outputs": [
    {
     "data": {
      "text/plain": [
       "3.160306549735324"
      ]
     },
     "execution_count": 90,
     "metadata": {},
     "output_type": "execute_result"
    }
   ],
   "source": [
    "n=10000\n",
    "L=1\n",
    "D=1.5\n",
    "contador=0\n",
    "for i in range (n):\n",
    "    X=np.random.uniform(0,D/2)\n",
    "    theta=np.random.uniform(0,np.pi/2)\n",
    "    R=(L/2)*(np.sin(theta))\n",
    "    if X<=R:\n",
    "        contador+=1\n",
    "2*L*n/(D*contador)      "
   ]
  },
  {
   "cell_type": "markdown",
   "id": "5e628134-bc4b-4562-a289-fe7dfab745d5",
   "metadata": {},
   "source": [
    "Referencias:\n",
    "\n",
    "CoSIAM. (2020, 21 septiembre). CoSIAM - Curso Corto - Introducción a la Modelación: 6. La Aguja de Buffon [Vídeo]. YouTube. https://www.youtube.com/watch?v=ITp-ZeBxfaQ\n"
   ]
  },
  {
   "cell_type": "markdown",
   "id": "3dc1efc8-e042-4006-8497-1a895d776f09",
   "metadata": {},
   "source": [
    "Estadística para todos. (s. f.). https://www.estadisticaparatodos.es/taller/buffon/buffon.html"
   ]
  },
  {
   "cell_type": "code",
   "execution_count": null,
   "id": "98a638cc-dc17-4983-98f3-05197308ebdd",
   "metadata": {},
   "outputs": [],
   "source": []
  }
 ],
 "metadata": {
  "kernelspec": {
   "display_name": "Python 3 (ipykernel)",
   "language": "python",
   "name": "python3"
  },
  "language_info": {
   "codemirror_mode": {
    "name": "ipython",
    "version": 3
   },
   "file_extension": ".py",
   "mimetype": "text/x-python",
   "name": "python",
   "nbconvert_exporter": "python",
   "pygments_lexer": "ipython3",
   "version": "3.12.4"
  }
 },
 "nbformat": 4,
 "nbformat_minor": 5
}
