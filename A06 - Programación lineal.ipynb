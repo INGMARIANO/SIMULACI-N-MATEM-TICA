{
 "cells": [
  {
   "cell_type": "markdown",
   "id": "fb71a2f9-3e69-4594-9d69-c42627b94924",
   "metadata": {},
   "source": [
    "# Mariano Villanueva Aguilar\n",
    "# 9 de septiembre de 2024\n",
    "# A06 PL"
   ]
  },
  {
   "cell_type": "markdown",
   "id": "dd36a5ff-e863-4059-895d-26c86910cd86",
   "metadata": {},
   "source": [
    "Ejercicio 1.\r\n",
    "\r\n",
    "Una carpintería local fabrica sillas, mesas, libreros y bases de cama. Hay dos empleados en esta carpintería: un empleado experimentado y un aprendiz. El aprendiz tarda aproximadamente 50% más tiempo que el carpintero experimentado en construir cualquier cosa, además de que tiene un desperdicio de alrededor de 20% de material. Los materiales y tiempos necesarios para construir algo se desglozan en la siguiente tabla:"
   ]
  },
  {
   "cell_type": "markdown",
   "id": "770b5d15-b02c-4a14-91b3-ec1cf396cd6a",
   "metadata": {},
   "source": [
    "![](C1.png)"
   ]
  },
  {
   "cell_type": "markdown",
   "id": "d060ef76-4c63-4596-bfb2-d61cb0b1d004",
   "metadata": {},
   "source": [
    "Las mesas se venden en 9000 pesos, las sillas en 3000 pesos, los libreros en 10000 pesos, y las bases de cama en 9000 pesos. Suponiendo una jornada de 40 horas a la semana y que tienen 100 unidades de madera.\r",
    "l?\r\n",
    " "
   ]
  },
  {
   "cell_type": "markdown",
   "id": "025081e9-fd34-4240-bcd4-6fc5a4361960",
   "metadata": {},
   "source": [
    "2. La carpintería recibió una orden por 3 combos de mesa + 6 sillas.\n",
    "   \n",
    "\n",
    "¿Se puede cumplir la orden?\n",
    "Si sí, ¿qué es lo que tienen que fabricar en el resto del tiempo y con el resto del material para maximizar su ganancia?\n",
    "¿Cuántas horas trabaja cada quién?\n",
    "¿Cuánto material se usa?\n",
    "¿Cuál es el nuevo ingreso total?\n",
    " "
   ]
  },
  {
   "cell_type": "markdown",
   "id": "9c1899bd-dd09-435a-aeb2-1b8eff111af5",
   "metadata": {},
   "source": [
    "1. Identificar criterio "
   ]
  },
  {
   "cell_type": "markdown",
   "id": "bb413750-5e8a-4587-b035-e3bb962e257f",
   "metadata": {},
   "source": [
    "Se deben de maximizar las ganancias"
   ]
  },
  {
   "cell_type": "markdown",
   "id": "cc4cc09f-7bfc-4823-9601-083543d95341",
   "metadata": {},
   "source": [
    "$$\\geq$$"
   ]
  },
  {
   "cell_type": "markdown",
   "id": "3bd60184-0c77-442e-a3c7-cea458e93d9b",
   "metadata": {},
   "source": [
    "En el menor tiempo posible\n",
    "$$ \\leq $$"
   ]
  },
  {
   "cell_type": "markdown",
   "id": "5041805e-1899-463b-8902-601addaa5456",
   "metadata": {},
   "source": [
    "Con el menor material\n",
    "$$ \\leq $$"
   ]
  },
  {
   "cell_type": "code",
   "execution_count": null,
   "id": "b499a1bd-33be-45c7-bb16-4fcdc569e494",
   "metadata": {},
   "outputs": [],
   "source": []
  },
  {
   "cell_type": "markdown",
   "id": "874a47de-aff9-47da-917e-944371a269c4",
   "metadata": {},
   "source": [
    "2.Variables de control"
   ]
  },
  {
   "cell_type": "markdown",
   "id": "4d84943d-e649-4982-b89c-f5e1b39366d4",
   "metadata": {},
   "source": [
    "$$ M_E,M_A,S_E,S_A,L_E,L_A,B_E,B_A$$"
   ]
  },
  {
   "cell_type": "markdown",
   "id": "d368005c-fe6d-4c0d-886f-e1bdef5c7036",
   "metadata": {},
   "source": [
    "3. Función de costo"
   ]
  },
  {
   "cell_type": "markdown",
   "id": "0621b5ac-927f-4f34-9666-5b53f64a4930",
   "metadata": {},
   "source": [
    "$$ Costo= 9000M_E+9000M_A+3000S_E+3000S_A+10000L_E+10000L_A+9000B_E+9000B_A $$"
   ]
  },
  {
   "cell_type": "markdown",
   "id": "8309cbd8-48c3-498b-a955-4a00149be6a4",
   "metadata": {},
   "source": [
    "4. Info adicional"
   ]
  },
  {
   "cell_type": "markdown",
   "id": "056509ab-a0bc-4e49-84c4-f615911b9144",
   "metadata": {},
   "source": [
    "Tiempo experimentado\n",
    "$$ 3M_E+1S_E+4L_E+3B_E\\leq40$$\n",
    "Tiempo aprendiz\n",
    "$$4.5M_A+1.5S_A+6L_A+4.5B_A\\leq40 $$\n"
   ]
  },
  {
   "cell_type": "markdown",
   "id": "8180f31c-034b-42a4-bfa6-29f844b9c9ab",
   "metadata": {},
   "source": [
    "Material"
   ]
  },
  {
   "cell_type": "markdown",
   "id": "c34c5970-9a30-4380-90a7-a5fa75f52017",
   "metadata": {},
   "source": [
    "$$ 6M_E+7.2M_A+2S_E+2.4S_A+5L_E+6L_A+5B_E+6B_A\\leq100 $$"
   ]
  },
  {
   "cell_type": "markdown",
   "id": "f1ea8531-bdee-4c27-8c67-4d2b83479c4b",
   "metadata": {},
   "source": [
    "5. Vectorizar en forma"
   ]
  },
  {
   "cell_type": "code",
   "execution_count": 3,
   "id": "d17ccb6f-19c4-4388-a2c6-22b2a137a9ba",
   "metadata": {},
   "outputs": [],
   "source": [
    "import numpy as np\n",
    "import scipy.optimize as opt\n",
    "c=np.array([-9000,-9000,-3000,-3000,-10000,-10000,-9000,-9000])\n",
    "Aub=np.array([\n",
    "    [3,0,1,0,4,0,3,0],\n",
    "    [0,4.5,0,1.5,0,6,0,4.5],\n",
    "    [6,7.2,2,2.4,5,6,5,6]\n",
    "])\n",
    "bub=np.array([\n",
    "    [40],\n",
    "    [40],\n",
    "    [100],\n",
    "])\n",
    "\n"
   ]
  },
  {
   "cell_type": "markdown",
   "id": "050615ce-d585-491c-9d9f-652af7703210",
   "metadata": {},
   "source": [
    "¿Qué les conviene construir durante una semana para maximizar su ganancia?"
   ]
  },
  {
   "cell_type": "code",
   "execution_count": 9,
   "id": "9ad40d73-fe4e-44a7-96cb-7052fef8ac7d",
   "metadata": {},
   "outputs": [
    {
     "data": {
      "text/plain": [
       "        message: Optimization terminated successfully. (HiGHS Status 7: Optimal)\n",
       "        success: True\n",
       "         status: 0\n",
       "            fun: -176000.0\n",
       "              x: [ 0.000e+00  0.000e+00  1.000e+00 -9.474e-15  9.000e+00\n",
       "                   2.000e+00  1.000e+00  6.000e+00]\n",
       "            nit: -1\n",
       "          lower:  residual: [ 0.000e+00  0.000e+00  1.000e+00 -9.474e-15\n",
       "                              9.000e+00  2.000e+00  1.000e+00  6.000e+00]\n",
       "                 marginals: [ 0.000e+00  0.000e+00  0.000e+00  0.000e+00\n",
       "                              0.000e+00  0.000e+00  0.000e+00  0.000e+00]\n",
       "          upper:  residual: [       inf        inf        inf        inf\n",
       "                                    inf        inf        inf        inf]\n",
       "                 marginals: [ 0.000e+00  0.000e+00  0.000e+00  0.000e+00\n",
       "                              0.000e+00  0.000e+00  0.000e+00  0.000e+00]\n",
       "          eqlin:  residual: []\n",
       "                 marginals: []\n",
       "        ineqlin:  residual: [ 0.000e+00  1.000e+00  0.000e+00]\n",
       "                 marginals: [ 0.000e+00  0.000e+00  0.000e+00]\n",
       " mip_node_count: 1\n",
       " mip_dual_bound: -176000.0\n",
       "        mip_gap: 0.0"
      ]
     },
     "execution_count": 9,
     "metadata": {},
     "output_type": "execute_result"
    }
   ],
   "source": [
    "sol=opt.linprog(c,Aub,bub, integrality=1)\n",
    "sol"
   ]
  },
  {
   "cell_type": "markdown",
   "id": "b3ab2073-56c7-464e-8096-f591a1a48545",
   "metadata": {},
   "source": [
    "¿Cuántas horas trabaja cada quién?"
   ]
  },
  {
   "cell_type": "code",
   "execution_count": 15,
   "id": "a35c5414-9826-415a-92e0-5871a59d69de",
   "metadata": {},
   "outputs": [
    {
     "data": {
      "text/plain": [
       "array([ 0.00000000e+00,  0.00000000e+00,  1.00000000e+00, -9.47390314e-15,\n",
       "        9.00000000e+00,  2.00000000e+00,  1.00000000e+00,  6.00000000e+00])"
      ]
     },
     "execution_count": 15,
     "metadata": {},
     "output_type": "execute_result"
    }
   ],
   "source": [
    "sol.x"
   ]
  },
  {
   "cell_type": "code",
   "execution_count": 17,
   "id": "c5269b85-6f25-491b-bcdd-ebe88f84c765",
   "metadata": {},
   "outputs": [
    {
     "data": {
      "text/plain": [
       "array([ 40.,  39., 100.])"
      ]
     },
     "execution_count": 17,
     "metadata": {},
     "output_type": "execute_result"
    }
   ],
   "source": [
    "Aub@sol.x"
   ]
  },
  {
   "cell_type": "markdown",
   "id": "ae714d12-0e50-43b2-b529-7eb5a34e00e0",
   "metadata": {},
   "source": [
    "Se llevan 40 el experimentado y 39 horas el aprendiz "
   ]
  },
  {
   "cell_type": "markdown",
   "id": "021901fa-d5ce-4851-98af-3096893f6054",
   "metadata": {},
   "source": [
    "¿Cuánto material se usa?"
   ]
  },
  {
   "cell_type": "markdown",
   "id": "b065a402-cd8c-4cc6-a730-9ec8ad6a3efb",
   "metadata": {},
   "source": [
    "Se llevan 100 unidades de material"
   ]
  },
  {
   "cell_type": "markdown",
   "id": "1cc9682d-c3e4-45f8-b718-dc4565c1aeb1",
   "metadata": {},
   "source": [
    "¿Cuál es el ingreso total si se vende todo lo fabricado?"
   ]
  },
  {
   "cell_type": "code",
   "execution_count": 35,
   "id": "13969baa-e972-490b-af80-1b03baf7c7c3",
   "metadata": {},
   "outputs": [
    {
     "data": {
      "text/plain": [
       "-176000.0"
      ]
     },
     "execution_count": 35,
     "metadata": {},
     "output_type": "execute_result"
    }
   ],
   "source": [
    "sol.fun"
   ]
  },
  {
   "cell_type": "markdown",
   "id": "b20a0064-18e5-4bfe-80f6-901274657294",
   "metadata": {},
   "source": [
    "Se gana en total 176,000 pesos"
   ]
  },
  {
   "cell_type": "markdown",
   "id": "116a989b-e6bb-4d4c-b098-06b0628a4931",
   "metadata": {},
   "source": [
    "2. La carpintería recibió una orden por combos de mesa + 6 sillas "
   ]
  },
  {
   "cell_type": "markdown",
   "id": "f5a8c7bf-f409-43c5-8343-48aee35b8980",
   "metadata": {},
   "source": [
    "Paso 1: Encontrar criterio"
   ]
  },
  {
   "cell_type": "markdown",
   "id": "d099ec5c-01aa-4d2d-97ba-f56987ffd8c1",
   "metadata": {},
   "source": [
    "Se deben de maximizar las ganancias\n",
    "$$\\geq$$\n",
    "En el menor tiempo posible\n",
    "$$ \\leq $$\n",
    "Con el menor material\n",
    "$$ \\leq $$"
   ]
  },
  {
   "cell_type": "markdown",
   "id": "1367c2f5-2def-46c6-9165-247c7640fd15",
   "metadata": {},
   "source": [
    "Paso 2: Variables\n",
    "$$ M_E,M_A,S_E,S_A,L_E,L_A,B_E,B_A$$"
   ]
  },
  {
   "cell_type": "markdown",
   "id": "71169359-27d5-4e41-a06e-a3be9e708a64",
   "metadata": {},
   "source": [
    "Paso 3: Función de costo\n",
    "$$ Costo= 9000M_E+9000M_A+3000S_E+3000S_A+10000L_E+10000L_A+9000B_E+9000B_A $$"
   ]
  },
  {
   "cell_type": "markdown",
   "id": "a6789dd4-9b82-4209-9586-dab7f38989cc",
   "metadata": {},
   "source": [
    "Paso 4: Info adicional\n",
    "\n",
    "Tiempo experimentado\n",
    "$$ 3M_E+1S_E+4L_E+3B_E\\leq40$$\n",
    "\n",
    "Tiempo aprendiz\n",
    "$$4.5M_A+1.5S_A+6L_A+4.5B_A\\leq40 $$\n",
    "\n",
    "\n",
    "Material\n",
    "\n",
    "$$ 6M_E+7.2M_A+2S_E+2.4S_A+5L_E+6L_A+5B_E+6B_A\\leq100 $$\n",
    "\n",
    "Mesa + 6 sillas\n",
    "$$ M_E+M_A=1 $$\n",
    "$$ S_E+S_E=6 $$"
   ]
  },
  {
   "cell_type": "markdown",
   "id": "c511b9f4-99bb-4b67-a3a7-6c80b5e3253e",
   "metadata": {},
   "source": [
    "Paso 5"
   ]
  },
  {
   "cell_type": "code",
   "execution_count": 59,
   "id": "ca12d65a-01bf-46bb-a329-5b592a71f0a7",
   "metadata": {},
   "outputs": [],
   "source": [
    "c=np.array([-9000,-9000,-3000,-3000,-10000,-10000,-9000,-9000])\n",
    "Aub=np.array([\n",
    "    [3,0,1,0,4,0,3,0],\n",
    "    [0,4.5,0,1.5,0,6,0,4.5],\n",
    "    [6,7.2,2,2.4,5,6,5,6],\n",
    "])\n",
    "bub=np.array([\n",
    "    [40],\n",
    "    [40],\n",
    "    [100],\n",
    "])\n",
    "Aeq=np.array([\n",
    "    [1,1,0,0,0,0,0,0],\n",
    "    [0,0,1,1,0,0,0,0],\n",
    "])\n",
    "beq=([\n",
    "    [1],\n",
    "    [6],\n",
    "])"
   ]
  },
  {
   "cell_type": "code",
   "execution_count": 71,
   "id": "b156fb18-fa81-4e80-8cac-e4a93b92dfb9",
   "metadata": {},
   "outputs": [
    {
     "data": {
      "text/plain": [
       "        message: Optimization terminated successfully. (HiGHS Status 7: Optimal)\n",
       "        success: True\n",
       "         status: 0\n",
       "            fun: -173999.99999999997\n",
       "              x: [ 1.000e+00  0.000e+00  4.000e+00  2.000e+00  6.000e+00\n",
       "                   6.000e+00  3.000e+00 -5.329e-14]\n",
       "            nit: -1\n",
       "          lower:  residual: [ 1.000e+00  0.000e+00  4.000e+00  2.000e+00\n",
       "                              6.000e+00  6.000e+00  3.000e+00 -5.329e-14]\n",
       "                 marginals: [ 0.000e+00  0.000e+00  0.000e+00  0.000e+00\n",
       "                              0.000e+00  0.000e+00  0.000e+00  0.000e+00]\n",
       "          upper:  residual: [       inf        inf        inf        inf\n",
       "                                    inf        inf        inf        inf]\n",
       "                 marginals: [ 0.000e+00  0.000e+00  0.000e+00  0.000e+00\n",
       "                              0.000e+00  0.000e+00  0.000e+00  0.000e+00]\n",
       "          eqlin:  residual: [ 0.000e+00  0.000e+00]\n",
       "                 marginals: [ 0.000e+00  0.000e+00]\n",
       "        ineqlin:  residual: [ 0.000e+00  1.000e+00  2.000e-01]\n",
       "                 marginals: [ 0.000e+00  0.000e+00  0.000e+00]\n",
       " mip_node_count: 1\n",
       " mip_dual_bound: -173999.99999999997\n",
       "        mip_gap: 0.0"
      ]
     },
     "execution_count": 71,
     "metadata": {},
     "output_type": "execute_result"
    }
   ],
   "source": [
    "sol1=opt.linprog(c,Aub,bub,Aeq,beq, integrality=1)\n",
    "sol1"
   ]
  },
  {
   "cell_type": "code",
   "execution_count": 76,
   "id": "9e00fc5a-9312-40dd-8dbd-8ad65c610e82",
   "metadata": {},
   "outputs": [
    {
     "data": {
      "text/plain": [
       "array([ 1.00000000e+00,  0.00000000e+00,  4.00000000e+00,  2.00000000e+00,\n",
       "        6.00000000e+00,  6.00000000e+00,  3.00000000e+00, -5.32907052e-14])"
      ]
     },
     "execution_count": 76,
     "metadata": {},
     "output_type": "execute_result"
    }
   ],
   "source": [
    "sol1.x"
   ]
  },
  {
   "cell_type": "code",
   "execution_count": 78,
   "id": "5b169e33-e2d2-4182-ae04-8d3bd557c268",
   "metadata": {},
   "outputs": [
    {
     "data": {
      "text/plain": [
       "array([1., 6.])"
      ]
     },
     "execution_count": 78,
     "metadata": {},
     "output_type": "execute_result"
    }
   ],
   "source": [
    "Aeq@sol1.x"
   ]
  },
  {
   "cell_type": "markdown",
   "id": "e6ded622-d37f-4b55-a83e-2b5b5c4c262d",
   "metadata": {},
   "source": [
    "¿Se puede cumplir la orden?"
   ]
  },
  {
   "cell_type": "markdown",
   "id": "2df45f3d-1fe0-4115-903b-883e9e2781a2",
   "metadata": {},
   "source": [
    "Si"
   ]
  },
  {
   "cell_type": "markdown",
   "id": "f7668ab4-a625-4a42-b9d9-0c1e03e1b6c3",
   "metadata": {},
   "source": [
    "Si sí, ¿qué es lo que tienen que fabricar en el resto del tiempo con el resto del material para maximizar su ganancia?"
   ]
  },
  {
   "cell_type": "code",
   "execution_count": 85,
   "id": "0fc31095-4648-476d-a6b2-6ea21c9bcbd0",
   "metadata": {},
   "outputs": [
    {
     "data": {
      "text/plain": [
       "array([ 1.00000000e+00,  0.00000000e+00,  4.00000000e+00,  2.00000000e+00,\n",
       "        6.00000000e+00,  6.00000000e+00,  3.00000000e+00, -5.32907052e-14])"
      ]
     },
     "execution_count": 85,
     "metadata": {},
     "output_type": "execute_result"
    }
   ],
   "source": [
    "sol1.x"
   ]
  },
  {
   "cell_type": "markdown",
   "id": "df996aa9-d2cf-4d08-a876-5e81f4706823",
   "metadata": {},
   "source": [
    "El experimentado hizo 6 libreros y 3 bases de cama\n",
    "\n",
    "El aprendiz hizo 6 libreros "
   ]
  },
  {
   "cell_type": "markdown",
   "id": "55b5771c-76be-48cf-b8ed-b1e56c694d55",
   "metadata": {},
   "source": [
    "¿Cuántas horas trabaja cada quién?"
   ]
  },
  {
   "cell_type": "code",
   "execution_count": 89,
   "id": "7561493a-9ea2-4701-a4eb-439fe15b873c",
   "metadata": {},
   "outputs": [
    {
     "data": {
      "text/plain": [
       "array([40. , 39. , 99.8])"
      ]
     },
     "execution_count": 89,
     "metadata": {},
     "output_type": "execute_result"
    }
   ],
   "source": [
    "Aub@sol1.x"
   ]
  },
  {
   "cell_type": "markdown",
   "id": "1ec38150-e5d2-4f30-88de-188c95d23cc7",
   "metadata": {},
   "source": [
    "¿Cuál es el nuevo ingreso total?"
   ]
  },
  {
   "cell_type": "code",
   "execution_count": null,
   "id": "ba734d76-aed0-4de8-9f83-5a27f0cec862",
   "metadata": {},
   "outputs": [],
   "source": []
  }
 ],
 "metadata": {
  "kernelspec": {
   "display_name": "Python 3 (ipykernel)",
   "language": "python",
   "name": "python3"
  },
  "language_info": {
   "codemirror_mode": {
    "name": "ipython",
    "version": 3
   },
   "file_extension": ".py",
   "mimetype": "text/x-python",
   "name": "python",
   "nbconvert_exporter": "python",
   "pygments_lexer": "ipython3",
   "version": "3.12.4"
  }
 },
 "nbformat": 4,
 "nbformat_minor": 5
}
