{
 "cells": [
  {
   "cell_type": "code",
   "execution_count": 12,
   "id": "d845deb6-6221-4d15-a3f9-968ddb2112b7",
   "metadata": {},
   "outputs": [
    {
     "data": {
      "text/plain": [
       "2"
      ]
     },
     "execution_count": 12,
     "metadata": {},
     "output_type": "execute_result"
    }
   ],
   "source": [
    "1+1"
   ]
  },
  {
   "cell_type": "markdown",
   "id": "1a4e34ba-dbac-4c80-a3d9-d1e1f35bd4d4",
   "metadata": {},
   "source": [
    "# Mariano"
   ]
  },
  {
   "cell_type": "code",
   "execution_count": 17,
   "id": "9c525b03-d05d-4e42-8079-87755f11ed14",
   "metadata": {},
   "outputs": [],
   "source": [
    "import math\n",
    "pi=math.pi"
   ]
  },
  {
   "cell_type": "code",
   "execution_count": 19,
   "id": "58740b49-fd0b-4a7f-9be9-9915f8bf3cae",
   "metadata": {},
   "outputs": [
    {
     "name": "stdout",
     "output_type": "stream",
     "text": [
      "3.141592653589793\n"
     ]
    }
   ],
   "source": [
    "print(pi)"
   ]
  },
  {
   "cell_type": "markdown",
   "id": "fa124b01-9ae0-4522-9dc3-17a330f03607",
   "metadata": {},
   "source": [
    "# Juanito Alcachofa"
   ]
  },
  {
   "cell_type": "markdown",
   "id": "2294972c-f968-48b0-949f-ec929e9c0047",
   "metadata": {},
   "source": [
    "-chocolate\n",
    "-vainilla\n",
    "-fresa"
   ]
  },
  {
   "cell_type": "markdown",
   "id": "f88d2d03-8e7f-4840-98da-6ac4f426faf7",
   "metadata": {},
   "source": [
    "* chocolate \n",
    "- vainilla \n",
    "- fresa"
   ]
  },
  {
   "cell_type": "markdown",
   "id": "e1af3981-5002-4267-9c0e-bb6e1b5b36e7",
   "metadata": {},
   "source": [
    "-asdvgasfgbv"
   ]
  },
  {
   "cell_type": "markdown",
   "id": "175c1986-fe35-4eaf-9377-a2464b94568e",
   "metadata": {},
   "source": [
    "\\_sadfasdf\\_"
   ]
  },
  {
   "cell_type": "markdown",
   "id": "fe9ad2d8-e547-49ae-be86-0abd614cc10f",
   "metadata": {},
   "source": [
    "\\_das\\_"
   ]
  },
  {
   "cell_type": "code",
   "execution_count": 31,
   "id": "ebd61722-e048-4524-ac92-0745fc5dc5b3",
   "metadata": {},
   "outputs": [
    {
     "ename": "SyntaxError",
     "evalue": "invalid syntax (3864095889.py, line 1)",
     "output_type": "error",
     "traceback": [
      "\u001b[1;36m  Cell \u001b[1;32mIn[31], line 1\u001b[1;36m\u001b[0m\n\u001b[1;33m    $$ $$\u001b[0m\n\u001b[1;37m    ^\u001b[0m\n\u001b[1;31mSyntaxError\u001b[0m\u001b[1;31m:\u001b[0m invalid syntax\n"
     ]
    }
   ],
   "source": [
    "$$ $$\n",
    "\\frac{7x}{5y}\n"
   ]
  },
  {
   "cell_type": "markdown",
   "id": "8c7739fe-3920-4750-af41-5ca4136eef56",
   "metadata": {},
   "source": [
    "$$ $$\n",
    "\\frac{7x}{5y}"
   ]
  },
  {
   "cell_type": "code",
   "execution_count": 34,
   "id": "7c06e788-7f2e-4bb2-b010-2e73135274fb",
   "metadata": {},
   "outputs": [
    {
     "ename": "SyntaxError",
     "evalue": "invalid syntax (2018839457.py, line 1)",
     "output_type": "error",
     "traceback": [
      "\u001b[1;36m  Cell \u001b[1;32mIn[34], line 1\u001b[1;36m\u001b[0m\n\u001b[1;33m    $$ \\frac{5x}{7y} $$\u001b[0m\n\u001b[1;37m    ^\u001b[0m\n\u001b[1;31mSyntaxError\u001b[0m\u001b[1;31m:\u001b[0m invalid syntax\n"
     ]
    }
   ],
   "source": [
    "$$ \\frac{5x}{7y} $$"
   ]
  },
  {
   "cell_type": "markdown",
   "id": "7ce0fd60-3be9-4be3-810f-fe292d07b379",
   "metadata": {},
   "source": [
    "$$ \\frac{numerador}{denominador} $$\n"
   ]
  },
  {
   "cell_type": "markdown",
   "id": "d056edb0-0a0c-4592-9119-7c2f8dc4fd46",
   "metadata": {},
   "source": [
    "$$ \\sqrt{dentro}{fuera} $$"
   ]
  },
  {
   "cell_type": "markdown",
   "id": "4e85b6de-6cce-48d8-a985-94266805f478",
   "metadata": {},
   "source": [
    "$$ e^{expresoion} $$"
   ]
  },
  {
   "cell_type": "markdown",
   "id": "49bf5ef8-32da-4c50-9e0e-3d1fbbdb0039",
   "metadata": {},
   "source": [
    "$$ \\lamda $$"
   ]
  },
  {
   "cell_type": "markdown",
   "id": "a4ea58c3-8f97-4d00-b657-627c1ed48190",
   "metadata": {},
   "source": [
    "$$ \\int_0^{\\infty} x \\mathrm{d}x $$"
   ]
  },
  {
   "cell_type": "code",
   "execution_count": null,
   "id": "26b257ad-fce6-4875-b70b-a25c301867af",
   "metadata": {},
   "outputs": [],
   "source": []
  }
 ],
 "metadata": {
  "kernelspec": {
   "display_name": "Python 3 (ipykernel)",
   "language": "python",
   "name": "python3"
  },
  "language_info": {
   "codemirror_mode": {
    "name": "ipython",
    "version": 3
   },
   "file_extension": ".py",
   "mimetype": "text/x-python",
   "name": "python",
   "nbconvert_exporter": "python",
   "pygments_lexer": "ipython3",
   "version": "3.12.4"
  }
 },
 "nbformat": 4,
 "nbformat_minor": 5
}
