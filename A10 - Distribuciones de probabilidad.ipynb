{
 "cells": [
  {
   "cell_type": "markdown",
   "id": "bfe66b2f-ec28-41a7-8d87-1033e59f7b97",
   "metadata": {},
   "source": [
    "# Mariano Villanueva Aguilar"
   ]
  },
  {
   "cell_type": "markdown",
   "id": "7aa01e24-78b8-4e85-96ea-bb223c12c298",
   "metadata": {},
   "source": [
    "# A10 - Distribuciones de probabilidad\n",
    "# 17/10/2024"
   ]
  },
  {
   "cell_type": "markdown",
   "id": "4949696b-8ec9-47b0-938c-6c01063ba276",
   "metadata": {},
   "source": [
    "1.- Menciona tres ejemplos de variables aleatorias discretas:\n"
   ]
  },
  {
   "cell_type": "markdown",
   "id": "34386a80-bfad-4985-8ee1-318ea1c32611",
   "metadata": {},
   "source": [
    "Número de nacimientos en un año, número de alumnos que pasan un semestre"
   ]
  },
  {
   "cell_type": "markdown",
   "id": "b60e7e9e-38c3-46ed-900f-7a1cc75604b4",
   "metadata": {},
   "source": [
    "2.- Menciona tres ejemplos de variables aleatorias continuas:"
   ]
  },
  {
   "cell_type": "markdown",
   "id": "8dbde776-e7e3-45a4-9cd2-9aa23704b03b",
   "metadata": {},
   "source": [
    "Temperatura de un horno, resistencia eléctrica de una tostadora, el tiempo de traslados"
   ]
  },
  {
   "cell_type": "markdown",
   "id": "3b4fceb7-dd90-4eaf-9b0d-ed105b8aa8fe",
   "metadata": {},
   "source": [
    "3.- Dos equipos juegan una serie de juegos (4 de 7, el que gane 4 juegos gana). Cada equipo tiene un 50% de probabilidad de ganar cada juego (no empates). ¿Cuál es la probabilidad de que la serie se vaya a 7 juegos? (5/16)"
   ]
  },
  {
   "cell_type": "code",
   "execution_count": 165,
   "id": "d84547c7-b818-4a2f-a12c-097a9e11d9e9",
   "metadata": {},
   "outputs": [
    {
     "data": {
      "text/plain": [
       "0.3128"
      ]
     },
     "execution_count": 165,
     "metadata": {},
     "output_type": "execute_result"
    }
   ],
   "source": [
    "import random\n",
    "import numpy as np\n",
    "Xi=[\"equipo1\",\"equipo2\"]\n",
    "n=7\n",
    "Partidas=100000\n",
    "E1=0\n",
    "E2=0\n",
    "lista=[]\n",
    "LISTA=[]\n",
    "for i in range (Partidas):\n",
    "    E1 = 0\n",
    "    E2 = 0\n",
    "    while (E1<4 and E2<4):\n",
    "        ganador=random.choice(Xi)\n",
    "        if ganador==\"equipo1\":\n",
    "            E1+=1\n",
    "        else:\n",
    "            E2+=1\n",
    "    if E1 + E2 == 7 :\n",
    "        LISTA.append(1)\n",
    "    else :\n",
    "        LISTA.append(0)\n",
    "np.mean(LISTA)"
   ]
  },
  {
   "cell_type": "code",
   "execution_count": 163,
   "id": "2c7c9485-771e-450e-8a43-7aaa3df517d6",
   "metadata": {},
   "outputs": [
    {
     "data": {
      "text/plain": [
       "0.3125"
      ]
     },
     "execution_count": 163,
     "metadata": {},
     "output_type": "execute_result"
    }
   ],
   "source": [
    "5/16"
   ]
  },
  {
   "cell_type": "markdown",
   "id": "ab1d6b0f-86d9-46e9-8eac-ff6fd8659490",
   "metadata": {},
   "source": [
    "4.- Una en mil personas tienen una enfermedad H, y la prueba de la enfermedad sale correcta 98% de las veces cuando la persona está enferma. Por otro lado, si la persona está enferma la prueba tiene un error del 1%. Si alguien se hace una prueba y sale positiva, ¿cuál es la probabilidad de que tengan la enfermedad? (98/1097)"
   ]
  },
  {
   "cell_type": "markdown",
   "id": "acedc62e-5d4b-425c-bd0e-b94d0e411b91",
   "metadata": {},
   "source": [
    "$$ P(D=1)=0.1% $$\n",
    "$$ P(T=1|D=1)=98%  $$\n",
    "$$ P(T=1|D=0)=1% $$"
   ]
  },
  {
   "cell_type": "code",
   "execution_count": 173,
   "id": "a8915cf9-bcd8-44d0-84d5-e94964d446d0",
   "metadata": {},
   "outputs": [],
   "source": [
    "mil=1000\n",
    "personas=[1]\n",
    "for p in range(2,1001):\n",
    "    personas.append(p)\n",
    "enfermo=random.choice(personas)\n",
    "prueba=[]\n",
    "for n in range(mil):\n",
    "    if personas[n]!=enfermo:\n",
    "        prueba.append(\"sano\")\n",
    "    else:\n",
    "        prueba.append(\"enfermo\")\n",
    "\n",
    "        \n",
    "    "
   ]
  },
  {
   "cell_type": "code",
   "execution_count": 204,
   "id": "a06b87d7-8d5f-4aab-baea-e886534fd588",
   "metadata": {},
   "outputs": [
    {
     "data": {
      "text/plain": [
       "0.08966148215919488"
      ]
     },
     "execution_count": 204,
     "metadata": {},
     "output_type": "execute_result"
    }
   ],
   "source": [
    "n=100000\n",
    "\n",
    "personas=np.random.choice([0,1],n, p=[0.999,0.001])\n",
    "t1_d1=np.random.choice([0,1],(personas.sum()), p=[0.02,0.98])\n",
    "t1_d0=np.random.choice([0,1],(n-personas.sum()), p=[0.99,0.01])\n",
    "t1_d1.sum()/((t1_d1.sum())+t1_d0.sum())"
   ]
  },
  {
   "cell_type": "markdown",
   "id": "be62d20e-c05b-4d02-986b-1b9c409bc7d6",
   "metadata": {},
   "source": [
    "$$P(D=1|T=1)=?$$\n",
    "100,000\n",
    "\n",
    "100 se enferman\n",
    "\n",
    "    98 salen positivas\n",
    "    \n",
    "    2 salen negativas\n",
    "    \n",
    "99900 sanas\n",
    "\n",
    "    999 salen positivas\n",
    "    \n",
    "    98901 negativas"
   ]
  },
  {
   "cell_type": "code",
   "execution_count": 206,
   "id": "b04d3a9e-ebd2-49f0-9e12-b76d9229f633",
   "metadata": {},
   "outputs": [
    {
     "data": {
      "text/plain": [
       "0.08933454876937101"
      ]
     },
     "execution_count": 206,
     "metadata": {},
     "output_type": "execute_result"
    }
   ],
   "source": [
    "98/(98+999)"
   ]
  },
  {
   "cell_type": "markdown",
   "id": "cc9c3880-44b3-4c4e-b2aa-2eda0fc2c686",
   "metadata": {},
   "source": [
    "5.- Tres amigos diferentes te dijeron que está lloviendo, y cada persona tiene 1/3 de probabilidad de mentir. Si el pronóstico del clima dijo que la probabilidad de lluvia era 25%, ¿cuál es la probabilidad de que sí esté lloviendo? (8/11)"
   ]
  },
  {
   "cell_type": "code",
   "execution_count": 212,
   "id": "1ccd2212-c5d8-4ce6-bded-a84862bedd92",
   "metadata": {},
   "outputs": [],
   "source": [
    "lluvia=0.25\n",
    "Amigo1=1/3\n",
    "Amigo2=1/3\n",
    "Amigo3=1/3\n"
   ]
  },
  {
   "cell_type": "markdown",
   "id": "47d95a30-ca25-4ff4-b9d1-b8c58e6316fe",
   "metadata": {},
   "source": [
    "$$ P(L=1)=25\\% $$\n",
    "$$ P(A1=1|L=1)=1/3  $$\n",
    "$$ P(T=1|D=1)=1/3 $$\n",
    "$$ P(T=1|D=1)=1/3  $$"
   ]
  },
  {
   "cell_type": "code",
   "execution_count": null,
   "id": "f9d4a297-7ed1-43d0-a5fd-c43f81e20839",
   "metadata": {},
   "outputs": [],
   "source": []
  },
  {
   "cell_type": "code",
   "execution_count": null,
   "id": "99c57cef-bf10-4e50-a36d-9c19d7098071",
   "metadata": {},
   "outputs": [],
   "source": []
  },
  {
   "cell_type": "markdown",
   "id": "49910d8a-f2f5-4b7a-9844-11a0c2af35ae",
   "metadata": {},
   "source": [
    "\n",
    "6.- Resuelve y añade a esta actividad los ejercicios que están en el notebook \"Distribuciones de probabilidad.ipynb\""
   ]
  },
  {
   "cell_type": "code",
   "execution_count": null,
   "id": "294e2e97-109b-49b0-a7d2-695d81298f5e",
   "metadata": {},
   "outputs": [],
   "source": []
  }
 ],
 "metadata": {
  "kernelspec": {
   "display_name": "Python 3 (ipykernel)",
   "language": "python",
   "name": "python3"
  },
  "language_info": {
   "codemirror_mode": {
    "name": "ipython",
    "version": 3
   },
   "file_extension": ".py",
   "mimetype": "text/x-python",
   "name": "python",
   "nbconvert_exporter": "python",
   "pygments_lexer": "ipython3",
   "version": "3.12.4"
  }
 },
 "nbformat": 4,
 "nbformat_minor": 5
}
