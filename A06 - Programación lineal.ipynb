{
 "cells": [
  {
   "cell_type": "markdown",
   "id": "fb71a2f9-3e69-4594-9d69-c42627b94924",
   "metadata": {},
   "source": [
    "# Mariano Villanueva Aguilar\n",
    "# 9 de septiembre de 2024\n",
    "# A06 PL"
   ]
  },
  {
   "cell_type": "markdown",
   "id": "dd36a5ff-e863-4059-895d-26c86910cd86",
   "metadata": {},
   "source": [
    "Ejercicio 1.\r\n",
    "\r\n",
    "Una carpintería local fabrica sillas, mesas, libreros y bases de cama. Hay dos empleados en esta carpintería: un empleado experimentado y un aprendiz. El aprendiz tarda aproximadamente 50% más tiempo que el carpintero experimentado en construir cualquier cosa, además de que tiene un desperdicio de alrededor de 20% de material. Los materiales y tiempos necesarios para construir algo se desglozan en la siguiente tabla:"
   ]
  },
  {
   "cell_type": "markdown",
   "id": "770b5d15-b02c-4a14-91b3-ec1cf396cd6a",
   "metadata": {},
   "source": [
    "![](C1.png)"
   ]
  },
  {
   "cell_type": "markdown",
   "id": "d060ef76-4c63-4596-bfb2-d61cb0b1d004",
   "metadata": {},
   "source": [
    "Las mesas se venden en 9000 pesos, las sillas en 3000 pesos, los libreros en 10000 pesos, y las bases de cama en 9000 pesos. Suponiendo una jornada de 40 horas a la semana y que tienen 100 unidades de madera, ¿qué les conviene construir durante una semana para maximizar su ganancia?\r\n",
    "\r\n",
    "¿Cuántas horas trabaja cada quién?\r\n",
    "¿Cuánto material se usa?\r\n",
    "¿Cuál se el ingreso total si se vende todo lo fabric\n",
    "\n",
    "so total?\r\n",
    " "
   ]
  },
  {
   "cell_type": "markdown",
   "id": "025081e9-fd34-4240-bcd4-6fc5a4361960",
   "metadata": {},
   "source": [
    "2. La carpintería recibió una orden por 3 combos de mesa + 6 sillas.\n",
    "   \n",
    "\n",
    "¿Se puede cumplir la orden?\n",
    "Si sí, ¿qué es lo que tienen que fabricar en el resto del tiempo y con el resto del material para maximizar su ganancia?\n",
    "¿Cuántas horas trabaja cada quién?\n",
    "¿Cuánto material se usa?\n",
    "¿Cuál es el nuevo ingreso total?\n",
    " "
   ]
  },
  {
   "cell_type": "markdown",
   "id": "9c1899bd-dd09-435a-aeb2-1b8eff111af5",
   "metadata": {},
   "source": [
    "1. Identificar criterio "
   ]
  },
  {
   "cell_type": "markdown",
   "id": "bb413750-5e8a-4587-b035-e3bb962e257f",
   "metadata": {},
   "source": [
    "Se deben de maximizar las ganancias"
   ]
  },
  {
   "cell_type": "markdown",
   "id": "cc4cc09f-7bfc-4823-9601-083543d95341",
   "metadata": {},
   "source": [
    "$$\\geq$$"
   ]
  },
  {
   "cell_type": "markdown",
   "id": "3bd60184-0c77-442e-a3c7-cea458e93d9b",
   "metadata": {},
   "source": [
    "En el menor tiempo posible\n",
    "$$ \\leq $$"
   ]
  },
  {
   "cell_type": "markdown",
   "id": "5041805e-1899-463b-8902-601addaa5456",
   "metadata": {},
   "source": [
    "Con el menor material\n",
    "$$ \\leq $$"
   ]
  },
  {
   "cell_type": "code",
   "execution_count": null,
   "id": "b499a1bd-33be-45c7-bb16-4fcdc569e494",
   "metadata": {},
   "outputs": [],
   "source": []
  },
  {
   "cell_type": "markdown",
   "id": "874a47de-aff9-47da-917e-944371a269c4",
   "metadata": {},
   "source": [
    "2.Variables de control"
   ]
  },
  {
   "cell_type": "markdown",
   "id": "4d84943d-e649-4982-b89c-f5e1b39366d4",
   "metadata": {},
   "source": [
    "$$ M_E,M_A,S_E,S_A,L_E,L_A,B_E,B_A$$"
   ]
  },
  {
   "cell_type": "markdown",
   "id": "d368005c-fe6d-4c0d-886f-e1bdef5c7036",
   "metadata": {},
   "source": [
    "3. Función de costo"
   ]
  },
  {
   "cell_type": "markdown",
   "id": "0621b5ac-927f-4f34-9666-5b53f64a4930",
   "metadata": {},
   "source": [
    "$$ Costo= 9000M_E+9000M_A+3000S_E+3000S_A+10000L_E+10000L_A+9000B_E+9000B_A $$"
   ]
  },
  {
   "cell_type": "markdown",
   "id": "8309cbd8-48c3-498b-a955-4a00149be6a4",
   "metadata": {},
   "source": [
    "4. Info adicional"
   ]
  },
  {
   "cell_type": "markdown",
   "id": "056509ab-a0bc-4e49-84c4-f615911b9144",
   "metadata": {},
   "source": [
    "Tiempo experimentado\n",
    "$$ 3M_E+1S_E+4L_E+3B_E\\leq40$$\n",
    "Tiempo aprendiz\n",
    "$$4.5M_A+1.5S_A+6L_A+4.5B_A\\leq40 $$\n"
   ]
  },
  {
   "cell_type": "markdown",
   "id": "8180f31c-034b-42a4-bfa6-29f844b9c9ab",
   "metadata": {},
   "source": [
    "Material"
   ]
  },
  {
   "cell_type": "markdown",
   "id": "c34c5970-9a30-4380-90a7-a5fa75f52017",
   "metadata": {},
   "source": [
    "$$ 6M_E+7.2M_A+2S_E+2.4S_A+5L_E+6L_A+5B_E+6B_A\\leq100 $$"
   ]
  },
  {
   "cell_type": "markdown",
   "id": "f1ea8531-bdee-4c27-8c67-4d2b83479c4b",
   "metadata": {},
   "source": [
    "5. Vectorizar en forma"
   ]
  },
  {
   "cell_type": "code",
   "execution_count": 91,
   "id": "d8811729-b96a-476b-b57c-a76ae056e437",
   "metadata": {},
   "outputs": [
    {
     "data": {
      "text/plain": [
       "       message: Optimization terminated successfully. (HiGHS Status 7: Optimal)\n",
       "       success: True\n",
       "        status: 0\n",
       "           fun: 0.0\n",
       "             x: [ 0.000e+00  0.000e+00  0.000e+00  0.000e+00  0.000e+00\n",
       "                  0.000e+00  0.000e+00  0.000e+00]\n",
       "           nit: 0\n",
       "         lower:  residual: [ 0.000e+00  0.000e+00  0.000e+00  0.000e+00\n",
       "                             0.000e+00  0.000e+00  0.000e+00  0.000e+00]\n",
       "                marginals: [ 9.000e+03  9.000e+03  3.000e+03  3.000e+03\n",
       "                             1.000e+04  1.000e+04  9.000e+03  9.000e+03]\n",
       "         upper:  residual: [       inf        inf        inf        inf\n",
       "                                   inf        inf        inf        inf]\n",
       "                marginals: [ 0.000e+00  0.000e+00  0.000e+00  0.000e+00\n",
       "                             0.000e+00  0.000e+00  0.000e+00  0.000e+00]\n",
       "         eqlin:  residual: []\n",
       "                marginals: []\n",
       "       ineqlin:  residual: [ 4.000e+01  4.000e+01  1.000e+02]\n",
       "                marginals: [-0.000e+00 -0.000e+00 -0.000e+00]"
      ]
     },
     "execution_count": 91,
     "metadata": {},
     "output_type": "execute_result"
    }
   ],
   "source": [
    "import numpy as np\n",
    "import scipy.optimize as opt\n",
    "c=np.array([9000,9000,3000,3000,10000,10000,9000,9000])\n",
    "Aub=np.array([\n",
    "    [3,0,1,0,4,0,3,0],\n",
    "    [0,4.5,0,1.5,0,6,0,4.5],\n",
    "    [6,7.2,2,2.4,5,6,5,6]\n",
    "])\n",
    "bub=np.array([\n",
    "    [40],\n",
    "    [40],\n",
    "    [100],\n",
    "])\n",
    "opt.linprog(c,Aub,bub)\n",
    "    "
   ]
  },
  {
   "cell_type": "code",
   "execution_count": null,
   "id": "b05b1d14-e735-4747-bce7-e0f86d521841",
   "metadata": {},
   "outputs": [],
   "source": []
  }
 ],
 "metadata": {
  "kernelspec": {
   "display_name": "Python 3 (ipykernel)",
   "language": "python",
   "name": "python3"
  },
  "language_info": {
   "codemirror_mode": {
    "name": "ipython",
    "version": 3
   },
   "file_extension": ".py",
   "mimetype": "text/x-python",
   "name": "python",
   "nbconvert_exporter": "python",
   "pygments_lexer": "ipython3",
   "version": "3.12.4"
  }
 },
 "nbformat": 4,
 "nbformat_minor": 5
}
