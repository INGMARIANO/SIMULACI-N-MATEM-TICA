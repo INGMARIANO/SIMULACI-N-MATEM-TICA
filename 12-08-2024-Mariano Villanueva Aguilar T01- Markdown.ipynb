{
 "cells": [
  {
   "cell_type": "markdown",
   "id": "92b316b5-65f0-431c-b666-154a25a46107",
   "metadata": {},
   "source": [
    "**Mariano Villanueva Aguilar** *15 de Agosto de 2024* <u>T01 - Markdown</u>"
   ]
  },
  {
   "cell_type": "markdown",
   "id": "675df73f-0bd3-4a64-b234-50d78b9fb740",
   "metadata": {},
   "source": [
    "# Isaac Newton y sus leyes del movimiento"
   ]
  },
  {
   "cell_type": "markdown",
   "id": "bcd9eee0-016e-4416-9dcb-b829aa009925",
   "metadata": {},
   "source": [
    "Isaac Newton fue un <u>destacado físico</u>  nacido en Inglaterra el 4 de enero de 1643 y se murió el 31 de marzo de 1727. Entre sus grandes contribuciones a la física, se encuentran  **sus leyes del movimiento**,  **la descomposición del color a través de un prisma** y contribuir junto a *Leibniz a la invención del cálculo.*"
   ]
  },
  {
   "cell_type": "markdown",
   "id": "4de127bd-0ab4-4db7-9738-413a14ef0996",
   "metadata": {},
   "source": [
    "![](data:image/jpeg;base64,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)"
   ]
  },
  {
   "cell_type": "markdown",
   "id": "0e7dea9a-7d8e-493e-8f59-d0d35426b679",
   "metadata": {},
   "source": [
    "# Leyes del movimiento"
   ]
  },
  {
   "cell_type": "markdown",
   "id": "473c38ce-c038-4fe2-a763-0cae355187bb",
   "metadata": {},
   "source": [
    "1. *Primera Ley de Newton*"
   ]
  },
  {
   "cell_type": "markdown",
   "id": "ca0b6207-c4c0-431f-a5b5-510f63c903d6",
   "metadata": {},
   "source": [
    "Nos dice que un objeto no cambiará su movimiento a menos que actúe sobre él una fuerza."
   ]
  },
  {
   "cell_type": "markdown",
   "id": "6e15ccca-a338-403a-9ea2-5f28744ef38e",
   "metadata": {},
   "source": [
    "2. *Segunda Ley de Newton*"
   ]
  },
  {
   "cell_type": "markdown",
   "id": "a78dea47-83d7-4269-81bf-e36e365d4301",
   "metadata": {},
   "source": [
    "* La fuerza externa de un cuerpo y su aceleración son directamente proporcionales.\n",
    "* Hay una relación inversamente proporcional entre aceleración y masa.\n",
    "$$ F=ma $$"
   ]
  },
  {
   "cell_type": "markdown",
   "id": "b75906d6-0b99-40bb-beb8-cb749c637985",
   "metadata": {},
   "source": [
    "3. *Tercera Ley de Newton*"
   ]
  },
  {
   "cell_type": "markdown",
   "id": "a08acfa7-f4d7-4703-bbfd-4a5be6f18016",
   "metadata": {},
   "source": [
    "Toda acción genera una reacción de igual magnitud, sin embargo, de sentido opuesto."
   ]
  }
 ],
 "metadata": {
  "kernelspec": {
   "display_name": "Python 3 (ipykernel)",
   "language": "python",
   "name": "python3"
  },
  "language_info": {
   "codemirror_mode": {
    "name": "ipython",
    "version": 3
   },
   "file_extension": ".py",
   "mimetype": "text/x-python",
   "name": "python",
   "nbconvert_exporter": "python",
   "pygments_lexer": "ipython3",
   "version": "3.12.4"
  }
 },
 "nbformat": 4,
 "nbformat_minor": 5
}
