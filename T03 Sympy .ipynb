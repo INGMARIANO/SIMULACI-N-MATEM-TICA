{
 "cells": [
  {
   "cell_type": "markdown",
   "id": "1e74a38e-3385-40f7-bd42-6784353bcac7",
   "metadata": {},
   "source": [
    "# T03 Sympy\n",
    "# Mariano Villanueva Aguilar\n",
    "# 05/09/2024"
   ]
  },
  {
   "cell_type": "markdown",
   "id": "773bf7a9-4d6b-4b11-b137-f784af57cc08",
   "metadata": {},
   "source": [
    "1. El perímetro de un triángulo isósceles es de 20 cm. Imagina que este triángulo rota centrado en su eje de simetría para formar la ilusión de un cono.\n",
    "\n",
    "¿Cuánto deben medir sus lados para que el volumen generado por la rotación sea el mayor posible?"
   ]
  },
  {
   "cell_type": "code",
   "execution_count": 1,
   "id": "b1daa64c-481c-4846-ae64-14561f46817a",
   "metadata": {},
   "outputs": [],
   "source": [
    "import numpy as np\n",
    "import sympy as sp\n"
   ]
  },
  {
   "cell_type": "code",
   "execution_count": 101,
   "id": "012f12ed-45c0-49b5-8987-6f7f1eae61c2",
   "metadata": {},
   "outputs": [
    {
     "data": {
      "text/latex": [
       "$\\displaystyle 10 - \\frac{x}{2}$"
      ],
      "text/plain": [
       "10 - x/2"
      ]
     },
     "execution_count": 101,
     "metadata": {},
     "output_type": "execute_result"
    }
   ],
   "source": [
    "sp.var(\"x\")\n",
    "sp.var(\"y\")\n",
    "sp.var(\"h\")\n",
    "def Perimetro(x,y):\n",
    "    return x+2*y-20\n",
    "y_x=sp.solve(Perimetro(x,y),y)[0]\n",
    "y_x"
   ]
  },
  {
   "cell_type": "code",
   "execution_count": 105,
   "id": "3218b417-17fc-4693-8401-1e23bea9c24e",
   "metadata": {},
   "outputs": [
    {
     "data": {
      "text/latex": [
       "$\\displaystyle 0.0416666666666667 \\pi x^{2} \\sqrt{- x^{2} + 4 \\left(10 - \\frac{x}{2}\\right)^{2}}$"
      ],
      "text/plain": [
       "0.0416666666666667*pi*x**2*sqrt(-x**2 + 4*(10 - x/2)**2)"
      ]
     },
     "execution_count": 105,
     "metadata": {},
     "output_type": "execute_result"
    }
   ],
   "source": [
    "Altura=h**2+(x/2)**2-y**2\n",
    "H=sp.solve(Altura,h)[1]\n",
    "H=H.subs(y,y_x)\n",
    "def Volumen (x,y,H):\n",
    "    return sp.pi*H*(1/3)*(x/2)**2\n",
    "Volumen(x, y,H)"
   ]
  },
  {
   "cell_type": "code",
   "execution_count": 111,
   "id": "5c336c24-9541-47f6-8cdd-fd8a916dfdd6",
   "metadata": {},
   "outputs": [
    {
     "data": {
      "text/latex": [
       "$\\displaystyle - \\frac{0.833333333333333 \\pi x^{2}}{\\sqrt{- x^{2} + 4 \\left(10 - \\frac{x}{2}\\right)^{2}}} + 0.0833333333333333 \\pi x \\sqrt{- x^{2} + 4 \\left(10 - \\frac{x}{2}\\right)^{2}}$"
      ],
      "text/plain": [
       "-0.833333333333333*pi*x**2/sqrt(-x**2 + 4*(10 - x/2)**2) + 0.0833333333333333*pi*x*sqrt(-x**2 + 4*(10 - x/2)**2)"
      ]
     },
     "execution_count": 111,
     "metadata": {},
     "output_type": "execute_result"
    }
   ],
   "source": [
    "Dy=sp.diff(Volumen(x,y_x,H),x)\n",
    "Dy"
   ]
  },
  {
   "cell_type": "code",
   "execution_count": 121,
   "id": "24c61e54-5e91-44bc-b9e1-dc866f30935b",
   "metadata": {},
   "outputs": [
    {
     "data": {
      "text/latex": [
       "$\\displaystyle 8.0$"
      ],
      "text/plain": [
       "8.00000000000000"
      ]
     },
     "execution_count": 121,
     "metadata": {},
     "output_type": "execute_result"
    }
   ],
   "source": [
    "Cx=sp.solve(Dy)[1]\n",
    "Cx"
   ]
  },
  {
   "cell_type": "code",
   "execution_count": 117,
   "id": "a5b2aee7-ff05-435a-9103-09314b3dbb05",
   "metadata": {},
   "outputs": [
    {
     "data": {
      "text/latex": [
       "$\\displaystyle - \\frac{16.6666666666667 \\pi x^{2}}{\\left(- x^{2} + 4 \\left(10 - \\frac{x}{2}\\right)^{2}\\right)^{\\frac{3}{2}}} - \\frac{3.33333333333333 \\pi x}{\\sqrt{- x^{2} + 4 \\left(10 - \\frac{x}{2}\\right)^{2}}} + 0.0833333333333333 \\pi \\sqrt{- x^{2} + 4 \\left(10 - \\frac{x}{2}\\right)^{2}}$"
      ],
      "text/plain": [
       "-16.6666666666667*pi*x**2/(-x**2 + 4*(10 - x/2)**2)**(3/2) - 3.33333333333333*pi*x/sqrt(-x**2 + 4*(10 - x/2)**2) + 0.0833333333333333*pi*sqrt(-x**2 + 4*(10 - x/2)**2)"
      ]
     },
     "execution_count": 117,
     "metadata": {},
     "output_type": "execute_result"
    }
   ],
   "source": [
    "Dy2=sp.diff(Dy,x)\n",
    "Dy2"
   ]
  },
  {
   "cell_type": "code",
   "execution_count": 119,
   "id": "4c61b454-e61a-4fe4-bea6-eafa22b5470a",
   "metadata": {},
   "outputs": [
    {
     "data": {
      "text/latex": [
       "$\\displaystyle - 3.72677996249965 \\pi$"
      ],
      "text/plain": [
       "-3.72677996249965*pi"
      ]
     },
     "execution_count": 119,
     "metadata": {},
     "output_type": "execute_result"
    }
   ],
   "source": [
    "Cons=Dy2.subs(x,C)\n",
    "Cons"
   ]
  },
  {
   "cell_type": "code",
   "execution_count": 133,
   "id": "3bfa83ce-1a95-4f0b-81ac-7a3cf7f5b881",
   "metadata": {},
   "outputs": [
    {
     "data": {
      "text/latex": [
       "$\\displaystyle 6.0$"
      ],
      "text/plain": [
       "6.00000000000000"
      ]
     },
     "execution_count": 133,
     "metadata": {},
     "output_type": "execute_result"
    }
   ],
   "source": [
    "By=y_x.subs(x, Cx)\n",
    "By"
   ]
  },
  {
   "cell_type": "code",
   "execution_count": 135,
   "id": "4d2a8fcd-9bae-41cf-a191-59ebd14b3278",
   "metadata": {},
   "outputs": [
    {
     "name": "stdout",
     "output_type": "stream",
     "text": [
      "La base más grande que se puede hacer con ese perímetro es:  8.00000000000000 Y sus otros lados miden : 6.00000000000000\n"
     ]
    }
   ],
   "source": [
    "print(\"La base más grande que se puede hacer con ese perímetro es: \", Cx, \"Y sus otros lados miden :\",By)"
   ]
  },
  {
   "cell_type": "markdown",
   "id": "f507471b-769d-4fa8-9da8-fb11283ad505",
   "metadata": {},
   "source": [
    "2. Disponemos de una barra de aluminio de 6 metros para construir una portería de fútbol en un parque. Es una portería simple que tendrá sólo dos postes y el travesaño:\n",
    "\n",
    "Si queremos que el área de la portería sea máxima, ¿cuánto deben medir los postes y el travesaño?"
   ]
  },
  {
   "cell_type": "code",
   "execution_count": 99,
   "id": "6c9db6c6-7929-4da5-8b38-b8f3444a0a3d",
   "metadata": {},
   "outputs": [
    {
     "data": {
      "text/latex": [
       "$\\displaystyle 3 - x$"
      ],
      "text/plain": [
       "3 - x"
      ]
     },
     "execution_count": 99,
     "metadata": {},
     "output_type": "execute_result"
    }
   ],
   "source": [
    "import numpy as np\n",
    "import sympy as sp\n",
    "sp.var(\"x\")\n",
    "sp.var(\"y\")\n",
    "def P2(x,y):\n",
    "    return x+2*y-6\n",
    "y_x=sp.solve(P2(x,y),y)[0]\n",
    "y_x\n",
    "def A2(x,y):\n",
    "    return x*y\n",
    "Dy1=sp.diff(A2(x,y_x),x)\n",
    "Dy1"
   ]
  },
  {
   "cell_type": "code",
   "execution_count": 103,
   "id": "fb68fa3c-da00-4cf5-bdd6-a220e90299e3",
   "metadata": {},
   "outputs": [
    {
     "data": {
      "text/latex": [
       "$\\displaystyle 3$"
      ],
      "text/plain": [
       "3"
      ]
     },
     "execution_count": 103,
     "metadata": {},
     "output_type": "execute_result"
    }
   ],
   "source": [
    "Cx=sp.solve(D1,x)[0]\n",
    "Cx"
   ]
  },
  {
   "cell_type": "code",
   "execution_count": 105,
   "id": "81f9b2e6-ab93-42a7-95df-7e0ea0c31599",
   "metadata": {},
   "outputs": [
    {
     "data": {
      "text/latex": [
       "$\\displaystyle -1$"
      ],
      "text/plain": [
       "-1"
      ]
     },
     "execution_count": 105,
     "metadata": {},
     "output_type": "execute_result"
    }
   ],
   "source": [
    "Dy2=sp.diff(D1,x)\n",
    "Dy2"
   ]
  },
  {
   "cell_type": "code",
   "execution_count": 107,
   "id": "8ddb151d-c2d6-4ddc-a7d6-a3b460e546df",
   "metadata": {},
   "outputs": [
    {
     "data": {
      "text/latex": [
       "$\\displaystyle \\frac{3}{2}$"
      ],
      "text/plain": [
       "3/2"
      ]
     },
     "execution_count": 107,
     "metadata": {},
     "output_type": "execute_result"
    }
   ],
   "source": [
    "Cy=y_x.subs(x,Cx)\n",
    "Cy"
   ]
  },
  {
   "cell_type": "code",
   "execution_count": 111,
   "id": "53b3ff1c-a469-448c-a6b8-f3ebdfd130b7",
   "metadata": {},
   "outputs": [
    {
     "name": "stdout",
     "output_type": "stream",
     "text": [
      "La Portería más grande que se puede tiene como altura 3/2 Y su base mide 3\n"
     ]
    }
   ],
   "source": [
    "print(\"La Portería más grande que se puede tiene como altura\", Cy, \"Y su base mide\",Cx)"
   ]
  },
  {
   "cell_type": "markdown",
   "id": "7dcf2e3b-aa1f-487b-ab29-62538ebc03f6",
   "metadata": {},
   "source": [
    "3. Resistencia de una viga. Una viga de madera tiene una sección transversal rectangular de altura h y ancho w. La resistencia S de la viga es directamente proporcional al ancho y al cuadrado de su altura. ¿Cuáles son las dimensiones de la viga más fuerte que puede cortarse a partir de un leño de 24 pulgadas de diámetro?"
   ]
  },
  {
   "cell_type": "markdown",
   "id": "4de6b79d-1774-4605-8ee8-8046536dbc49",
   "metadata": {},
   "source": [
    "$$ S=kwh^2$$"
   ]
  },
  {
   "cell_type": "code",
   "execution_count": 67,
   "id": "ba7c7fcc-8acb-4143-b9cc-05e18a1b2967",
   "metadata": {},
   "outputs": [
    {
     "data": {
      "text/latex": [
       "$\\displaystyle 24 - 3 w^{2}$"
      ],
      "text/plain": [
       "24 - 3*w**2"
      ]
     },
     "execution_count": 67,
     "metadata": {},
     "output_type": "execute_result"
    }
   ],
   "source": [
    "import numpy as np\n",
    "import sympy as sp\n",
    "sp.var(\"w\")\n",
    "sp.var(\"h\")\n",
    "def S(w,h):\n",
    "    return w*h**2\n",
    "h2=h**2+w**2-24\n",
    "h2=sp.solve(h2,h)[1]\n",
    "\n",
    "Dy1=sp.diff(S(w,h2),w)\n",
    "Dy1"
   ]
  },
  {
   "cell_type": "code",
   "execution_count": 69,
   "id": "b0a11dbb-b59b-4b65-bb8d-4a566bda2516",
   "metadata": {},
   "outputs": [
    {
     "data": {
      "text/latex": [
       "$\\displaystyle 2 \\sqrt{2}$"
      ],
      "text/plain": [
       "2*sqrt(2)"
      ]
     },
     "execution_count": 69,
     "metadata": {},
     "output_type": "execute_result"
    }
   ],
   "source": [
    "Cw=sp.solve(Dy1,w)[1]\n",
    "Cw"
   ]
  },
  {
   "cell_type": "code",
   "execution_count": 71,
   "id": "410e87d6-00cd-4244-a738-6b8c04281be5",
   "metadata": {},
   "outputs": [
    {
     "data": {
      "text/latex": [
       "$\\displaystyle - 6 w$"
      ],
      "text/plain": [
       "-6*w"
      ]
     },
     "execution_count": 71,
     "metadata": {},
     "output_type": "execute_result"
    }
   ],
   "source": [
    "Dy2=sp.diff(Dy1,w)\n",
    "Dy2"
   ]
  },
  {
   "cell_type": "code",
   "execution_count": 73,
   "id": "96271e45-3ada-450a-9cbf-128cf73bdd5d",
   "metadata": {},
   "outputs": [
    {
     "data": {
      "text/latex": [
       "$\\displaystyle - 12 \\sqrt{2}$"
      ],
      "text/plain": [
       "-12*sqrt(2)"
      ]
     },
     "execution_count": 73,
     "metadata": {},
     "output_type": "execute_result"
    }
   ],
   "source": [
    "Dy_2=Dy2.subs(w,Cw)\n",
    "Dy_2"
   ]
  },
  {
   "cell_type": "code",
   "execution_count": 75,
   "id": "5402021b-11c7-4049-a21f-9b26a7ef1bc4",
   "metadata": {},
   "outputs": [
    {
     "data": {
      "text/latex": [
       "$\\displaystyle 4$"
      ],
      "text/plain": [
       "4"
      ]
     },
     "execution_count": 75,
     "metadata": {},
     "output_type": "execute_result"
    }
   ],
   "source": [
    "Ch=h2.subs(w,Cw)\n",
    "Ch"
   ]
  },
  {
   "cell_type": "code",
   "execution_count": 153,
   "id": "fc1f9abc-1d80-4c9e-a4c5-4c37164b4990",
   "metadata": {},
   "outputs": [
    {
     "name": "stdout",
     "output_type": "stream",
     "text": [
      "El ancho de la viga más fuerte es de de  2*sqrt(2) y su alto es de 4\n"
     ]
    }
   ],
   "source": [
    "print(\"El ancho de la viga más fuerte es de de \", Cw, \"y su alto es de\",Ch)"
   ]
  },
  {
   "cell_type": "markdown",
   "id": "96954a80-2ce0-43d4-a5d3-6e992e3abc38",
   "metadata": {},
   "source": [
    "4. Una fuente luminosa se localiza sobre el centro de una mesa circular de 4 pies de diámetro. Encontrar la altura h de la fuente luminosa de modo tal que la iluminación I en el perímetro de la mesa sea máxima si\n",
    "$$ I=k(sin (a))/s^2 $$\n",
    "donde s es la altura oblicua, a es el ángulo al cual la luz incide sobre la mesa y k es una constante (El valor de esta última constante es irrelevante para el problema, ya que no se pide el valor de la iluminación"
   ]
  },
  {
   "cell_type": "code",
   "execution_count": 47,
   "id": "9238215a-53e8-4672-8238-9d4f2ce2126c",
   "metadata": {},
   "outputs": [],
   "source": [
    "import numpy as np\n",
    "import sympy as sp\n",
    "sp.var(\"s\")\n",
    "sp.var(\"h\")\n",
    "P=sp.pi*4\n",
    "sena=h/s\n",
    "Pita=4+h**2-s**2\n",
    "Pita=sp.solve(Pita,s)[1]\n",
    "Pita\n",
    "sena=sena.subs(s,Pita)\n",
    "sena\n",
    "def I (sena,s2,P):\n",
    "    return (sena/s2**2-P)\n",
    "Ec1=I(sena,Pita,P)"
   ]
  },
  {
   "cell_type": "code",
   "execution_count": 49,
   "id": "f39bee6b-f19d-47c4-9097-698a9e00cf79",
   "metadata": {},
   "outputs": [
    {
     "data": {
      "text/latex": [
       "$\\displaystyle - \\frac{3 h^{2}}{\\left(h^{2} + 4\\right)^{\\frac{5}{2}}} + \\frac{1}{\\left(h^{2} + 4\\right)^{\\frac{3}{2}}}$"
      ],
      "text/plain": [
       "-3*h**2/(h**2 + 4)**(5/2) + (h**2 + 4)**(-3/2)"
      ]
     },
     "execution_count": 49,
     "metadata": {},
     "output_type": "execute_result"
    }
   ],
   "source": [
    "Dh1=sp.diff(Ec1,h)\n",
    "Dh1"
   ]
  },
  {
   "cell_type": "code",
   "execution_count": 77,
   "id": "8b995fe4-fc7d-4ebf-8b64-cb617fd8db7f",
   "metadata": {},
   "outputs": [
    {
     "data": {
      "text/latex": [
       "$\\displaystyle \\sqrt{2}$"
      ],
      "text/plain": [
       "sqrt(2)"
      ]
     },
     "execution_count": 77,
     "metadata": {},
     "output_type": "execute_result"
    }
   ],
   "source": [
    "Ch=sp.solve(Dh1,h)[1]\n",
    "Ch"
   ]
  },
  {
   "cell_type": "code",
   "execution_count": 55,
   "id": "aff286a5-acbc-4df1-8985-7c117996f9ec",
   "metadata": {},
   "outputs": [
    {
     "data": {
      "text/latex": [
       "$\\displaystyle \\frac{15 h^{3}}{\\left(h^{2} + 4\\right)^{\\frac{7}{2}}} - \\frac{9 h}{\\left(h^{2} + 4\\right)^{\\frac{5}{2}}}$"
      ],
      "text/plain": [
       "15*h**3/(h**2 + 4)**(7/2) - 9*h/(h**2 + 4)**(5/2)"
      ]
     },
     "execution_count": 55,
     "metadata": {},
     "output_type": "execute_result"
    }
   ],
   "source": [
    "Dh2=sp.diff(Dh1,h)\n",
    "Dh2"
   ]
  },
  {
   "cell_type": "code",
   "execution_count": 83,
   "id": "4c8b5b15-b08c-4f5c-a9c9-cd7e8662823e",
   "metadata": {},
   "outputs": [
    {
     "data": {
      "text/latex": [
       "$\\displaystyle - \\frac{\\sqrt{3}}{27}$"
      ],
      "text/plain": [
       "-sqrt(3)/27"
      ]
     },
     "execution_count": 83,
     "metadata": {},
     "output_type": "execute_result"
    }
   ],
   "source": [
    "Dh_2=Dh2.subs(h,Ch)\n",
    "Dh_2"
   ]
  },
  {
   "cell_type": "code",
   "execution_count": 89,
   "id": "44f1e050-2ed0-498f-822a-7f6f4f1b9702",
   "metadata": {},
   "outputs": [
    {
     "name": "stdout",
     "output_type": "stream",
     "text": [
      "La altura máxima que puede tener debe de ser de sqrt(2) ft\n"
     ]
    }
   ],
   "source": [
    "print(\"La altura máxima que puede tener debe de ser de\", Ch, \"ft\")"
   ]
  },
  {
   "cell_type": "markdown",
   "id": "8a5a2306-a76c-4d2c-b6b8-e4cc5dcb8e17",
   "metadata": {},
   "source": [
    "5. Fuerza mínima: Se diseña un componente para deslizar un bloque de acero con peso W=10N a través de una mesa y sobre una canaleta. Se opone al movimiento del bloque una fuerza de fricción proporcional a su peso aparente (sea k=0.1 la constante de proporcionalidad). Determinar la fuerza mínima f necesaria para deslizar el bloque y encontrar el valor correspondiente a él ángulo)"
   ]
  },
  {
   "cell_type": "code",
   "execution_count": 28,
   "id": "10464de4-5d0c-44fb-a6de-b38b2662924a",
   "metadata": {},
   "outputs": [
    {
     "data": {
      "text/latex": [
       "$\\displaystyle \\frac{1.0}{0.1 \\sin{\\left(x \\right)} + \\cos{\\left(x \\right)}}$"
      ],
      "text/plain": [
       "1.0/(0.1*sin(x) + cos(x))"
      ]
     },
     "execution_count": 28,
     "metadata": {},
     "output_type": "execute_result"
    }
   ],
   "source": [
    "\n",
    "import sympy as sp\n",
    "sp.var(\"x\")\n",
    "k=0.1\n",
    "W=10\n",
    "def F (k,w,cos,sen):\n",
    "    return (k*w)/(cos+k*sen)\n",
    "cos=sp.cos (x)\n",
    "sen=sp.sin (x)\n",
    "Ec5=F (k,W,cos,sen)\n",
    "Ec5"
   ]
  },
  {
   "cell_type": "code",
   "execution_count": 30,
   "id": "930cc372-c48a-41a6-844c-107f79f9b447",
   "metadata": {},
   "outputs": [
    {
     "data": {
      "text/latex": [
       "$\\displaystyle \\frac{1.0 \\left(\\sin{\\left(x \\right)} - 0.1 \\cos{\\left(x \\right)}\\right)}{\\left(0.1 \\sin{\\left(x \\right)} + \\cos{\\left(x \\right)}\\right)^{2}}$"
      ],
      "text/plain": [
       "1.0*(sin(x) - 0.1*cos(x))/(0.1*sin(x) + cos(x))**2"
      ]
     },
     "execution_count": 30,
     "metadata": {},
     "output_type": "execute_result"
    }
   ],
   "source": [
    "Dy5=sp.diff(Ec5,x)\n",
    "Dy5"
   ]
  },
  {
   "cell_type": "code",
   "execution_count": 32,
   "id": "d84cab48-2c9e-4418-bb52-f74a2dd67511",
   "metadata": {
    "scrolled": true
   },
   "outputs": [
    {
     "data": {
      "text/latex": [
       "$\\displaystyle 0.099668652491162$"
      ],
      "text/plain": [
       "0.0996686524911620"
      ]
     },
     "execution_count": 32,
     "metadata": {},
     "output_type": "execute_result"
    }
   ],
   "source": [
    "Cx=sp.solve(Dy5,x)[0]\n",
    "Cx"
   ]
  },
  {
   "cell_type": "code",
   "execution_count": 34,
   "id": "3b8e979d-2889-4ada-a93c-91d3c0121bb5",
   "metadata": {},
   "outputs": [
    {
     "data": {
      "text/latex": [
       "$\\displaystyle \\frac{1.0}{0.1 \\sin{\\left(x \\right)} + \\cos{\\left(x \\right)}} + \\frac{1.0 \\left(\\sin{\\left(x \\right)} - 0.1 \\cos{\\left(x \\right)}\\right) \\left(2 \\sin{\\left(x \\right)} - 0.2 \\cos{\\left(x \\right)}\\right)}{\\left(0.1 \\sin{\\left(x \\right)} + \\cos{\\left(x \\right)}\\right)^{3}}$"
      ],
      "text/plain": [
       "1.0/(0.1*sin(x) + cos(x)) + 1.0*(sin(x) - 0.1*cos(x))*(2*sin(x) - 0.2*cos(x))/(0.1*sin(x) + cos(x))**3"
      ]
     },
     "execution_count": 34,
     "metadata": {},
     "output_type": "execute_result"
    }
   ],
   "source": [
    "Dy2_5=sp.diff(Dy5,x)\n",
    "Dy2_5"
   ]
  },
  {
   "cell_type": "code",
   "execution_count": 36,
   "id": "a06e920b-3c17-497e-baf7-0efc036ee9fa",
   "metadata": {},
   "outputs": [
    {
     "data": {
      "text/latex": [
       "$\\displaystyle 0.995037190209989$"
      ],
      "text/plain": [
       "0.995037190209989"
      ]
     },
     "execution_count": 36,
     "metadata": {},
     "output_type": "execute_result"
    }
   ],
   "source": [
    "Min=Dy2_5.subs(x,Cx)\n",
    "Min"
   ]
  },
  {
   "cell_type": "code",
   "execution_count": 38,
   "id": "067e0bb0-74e0-4f77-b43c-13b032aad732",
   "metadata": {},
   "outputs": [
    {
     "data": {
      "text/latex": [
       "$\\displaystyle 0.995037190209989$"
      ],
      "text/plain": [
       "0.995037190209989"
      ]
     },
     "execution_count": 38,
     "metadata": {},
     "output_type": "execute_result"
    }
   ],
   "source": [
    "cos=sp.cos (Cx)\n",
    "sen=sp.sin (Cx)\n",
    "Cy=F (k,W,cos,sen)\n",
    "Cy\n"
   ]
  },
  {
   "cell_type": "code",
   "execution_count": 43,
   "id": "d0d51ab9-5f20-468e-a87a-8626f1142e9b",
   "metadata": {},
   "outputs": [
    {
     "name": "stdout",
     "output_type": "stream",
     "text": [
      "La fuerza mínima es de 0.995037190209989 El ángulo 0.0996686524911620\n"
     ]
    }
   ],
   "source": [
    "print(\"La fuerza mínima es de\", Cy, \"El ángulo\", Cx)"
   ]
  },
  {
   "cell_type": "code",
   "execution_count": null,
   "id": "548b30e6-da48-42de-a8e5-08c1bdab647a",
   "metadata": {},
   "outputs": [],
   "source": []
  }
 ],
 "metadata": {
  "kernelspec": {
   "display_name": "Python 3 (ipykernel)",
   "language": "python",
   "name": "python3"
  },
  "language_info": {
   "codemirror_mode": {
    "name": "ipython",
    "version": 3
   },
   "file_extension": ".py",
   "mimetype": "text/x-python",
   "name": "python",
   "nbconvert_exporter": "python",
   "pygments_lexer": "ipython3",
   "version": "3.12.4"
  }
 },
 "nbformat": 4,
 "nbformat_minor": 5
}
