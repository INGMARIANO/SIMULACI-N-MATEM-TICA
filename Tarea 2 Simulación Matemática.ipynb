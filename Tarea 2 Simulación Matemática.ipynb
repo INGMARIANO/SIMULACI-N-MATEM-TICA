{
 "cells": [
  {
   "cell_type": "markdown",
   "id": "b0e89166-66f2-43fb-ab08-504090296e20",
   "metadata": {},
   "source": [
    "# Mariano Villanueva Aguilar"
   ]
  },
  {
   "cell_type": "markdown",
   "id": "ae2441d7-ec56-4623-9056-0b40038ef07a",
   "metadata": {},
   "source": [
    "# A01 - Python\n",
    "# 19 de Agosto de 2024"
   ]
  },
  {
   "cell_type": "code",
   "execution_count": 9,
   "id": "6f30145c-dbf9-45e0-9613-06ffbd0611db",
   "metadata": {},
   "outputs": [
    {
     "name": "stdout",
     "output_type": "stream",
     "text": [
      "3628800\n"
     ]
    }
   ],
   "source": [
    "a=10\n",
    "b=-1*(1-a)\n",
    "while(b>0):\n",
    "    a*=b\n",
    "    b-=1\n",
    "print(a)"
   ]
  },
  {
   "cell_type": "code",
   "execution_count": 1,
   "id": "0fe4770a-dde1-4ce8-b200-b1e162c9b7bb",
   "metadata": {},
   "outputs": [
    {
     "name": "stdout",
     "output_type": "stream",
     "text": [
      "Es primo\n"
     ]
    }
   ],
   "source": [
    "a=7\n",
    "b=2\n",
    "if(a==1):\n",
    "    print(\"El número es unitario, es decir, que es uno\")\n",
    "while(b<a):\n",
    "    if(a%b==0):\n",
    "        print(\"No es primo\")\n",
    "        break\n",
    "    else:\n",
    "        b+=1\n",
    "if(a/b==1):\n",
    " print(\"Es primo\")   "
   ]
  },
  {
   "cell_type": "markdown",
   "id": "d503923d-f647-4048-a43e-e0223d57f468",
   "metadata": {},
   "source": [
    "![](DDF1.jpeg)"
   ]
  },
  {
   "cell_type": "code",
   "execution_count": null,
   "id": "881eff56-5c06-4e48-bdd6-dfb3b0dc39ce",
   "metadata": {},
   "outputs": [],
   "source": []
  }
 ],
 "metadata": {
  "kernelspec": {
   "display_name": "Python 3 (ipykernel)",
   "language": "python",
   "name": "python3"
  },
  "language_info": {
   "codemirror_mode": {
    "name": "ipython",
    "version": 3
   },
   "file_extension": ".py",
   "mimetype": "text/x-python",
   "name": "python",
   "nbconvert_exporter": "python",
   "pygments_lexer": "ipython3",
   "version": "3.12.4"
  }
 },
 "nbformat": 4,
 "nbformat_minor": 5
}
