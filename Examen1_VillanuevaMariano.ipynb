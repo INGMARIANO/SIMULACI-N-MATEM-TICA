{
 "cells": [
  {
   "cell_type": "markdown",
   "id": "318694d0-33e1-44f1-9650-3443bbcd7f43",
   "metadata": {},
   "source": [
    "# Examen A Módulo 1 - Optimización.\n",
    "\n",
    "**Lea cuidadosamente las siguientes indicaciones antes de comenzar el examen:**\n",
    "- Para resolver el examen edite este mismo archivo y renómbrelo de la siguiente manera: *Examen1_ApellidoNombre*, donde *ApellidoNombre* corresponde a su apellido paterno con la inicial en mayúscula, seguido de su primer nombre con la inicial en mayúscula **sin tildes**. Por ejemplo, en mi caso el nombre del archivo sería *Examen1_MoralesGabriel*.\n",
    "- Resuelva los puntos en el espacio provisto. Si requiere agregar más celdas para código o escritura, hágalo (`Esc`,`B`) o (`Esc`,`A`).\n",
    "- Recuerde que también se está evaluando su capacidad de interpretar los resultados. Escriba sus interpretaciones/conclusiones en celdas utilizando *Markdown*.\n",
    "- El formato de presentación de todo el examen en general debe ser adecuado. Use tamaños de letra, colores, etiquetas, etcétera.\n",
    "- No se resuelven dudas de ningún tipo por los profesores de la asignatura. Por favor, absténgase de preguntar.\n",
    "- Revise bien el tipo de examen. Sólo se le calificará si realiza el tipo de examen asignado."
   ]
  },
  {
   "cell_type": "markdown",
   "id": "6dfb3d27-c3e5-4756-b831-decd78f8072d",
   "metadata": {},
   "source": [
    "# Mariano Villanueva Aguilar"
   ]
  },
  {
   "cell_type": "markdown",
   "id": "416c5986-27e8-4eac-84f7-d5ca143cbbae",
   "metadata": {},
   "source": [
    "## 1. Optimización de funciones con `Sympy`\n",
    "\n",
    "Funciones permitidas: subs, solve, var, expresiones matemáticas"
   ]
  },
  {
   "cell_type": "markdown",
   "id": "07dadfa1-7f83-484a-909c-0150a65ce280",
   "metadata": {},
   "source": [
    "\n",
    "Un cine cobra 86 pesos la entrada estándar y 60 pesos la entrada a estudiantes. Una sala con capacidad para 120 personas se ocupó al 70\\%. Los ingresos para esa función fueron de 6,600 MXN. ¿Cuántos estudiantes entraron?"
   ]
  },
  {
   "cell_type": "markdown",
   "id": "443a170e-437b-4198-8a09-65c57c3ee5d4",
   "metadata": {},
   "source": [
    "86 pesos la entrada estandar (x) y 60 la de estudiantes (y)"
   ]
  },
  {
   "cell_type": "markdown",
   "id": "70077e76-7961-4d29-b13d-31c79c51589e",
   "metadata": {},
   "source": [
    "$$ 6600=86x+60y$$"
   ]
  },
  {
   "cell_type": "code",
   "execution_count": 9,
   "id": "789f4501-2b81-44b3-83dd-4e757a6d90cd",
   "metadata": {},
   "outputs": [
    {
     "data": {
      "text/plain": [
       "84.0"
      ]
     },
     "execution_count": 9,
     "metadata": {},
     "output_type": "execute_result"
    }
   ],
   "source": [
    "Personas=0.7*120\n",
    "Personas"
   ]
  },
  {
   "cell_type": "markdown",
   "id": "41236ee4-2681-450b-b9ee-9e99c7dd9b7e",
   "metadata": {},
   "source": [
    "$$ 84=x+y $$"
   ]
  },
  {
   "cell_type": "code",
   "execution_count": 11,
   "id": "f90c983e-e187-4c62-9808-eb8730a20efb",
   "metadata": {},
   "outputs": [
    {
     "data": {
      "text/plain": [
       "[24]"
      ]
     },
     "execution_count": 11,
     "metadata": {},
     "output_type": "execute_result"
    }
   ],
   "source": [
    "import sympy as sp\n",
    "sp.var(\"x\")\n",
    "sp.var(\"y\")\n",
    "Dinero=86*x+60*y-6600\n",
    "Publico=x+y-84\n",
    "x_y=sp.solve(Publico,x)[0]\n",
    "Ry=sp.solve(Dinero.subs(x,x_y),y)\n",
    "Ry"
   ]
  },
  {
   "cell_type": "code",
   "execution_count": null,
   "id": "b1631999-cf17-4c98-b4c3-5e485e63b727",
   "metadata": {},
   "outputs": [],
   "source": []
  },
  {
   "cell_type": "code",
   "execution_count": null,
   "id": "3d5677c1-9784-4952-9c2a-9164cf5a50c5",
   "metadata": {},
   "outputs": [],
   "source": []
  },
  {
   "cell_type": "markdown",
   "id": "cb9897ae-f689-4575-82ad-d265f7243f77",
   "metadata": {},
   "source": [
    "El cine ofrece combos y opciones individuales. El combo 'amigos' tiene un costo de 156 MXN y consiste de 2 refrescos y unas palomitas. Existe también el combo 'nachos' que tiene un costo de 112 MXN y consiste de un refresco y una orden de nachos. Por separado el refresco tiene un costo de 60 MXN, las palomitas 58 MXN y los nachos 72 MXN. Se obtuvo un total de 6450 de ingresos en dulcería:\n",
    "\n",
    "- 38 combos vendidos\n",
    "- 70 refrescos vendidos\n",
    "- 33 órdenes de palomitas grandes vendidas\n",
    "- 16 órdenes de nachos vendidas\n",
    "\n",
    "¿Cuántas personas compraron palomitas sueltas?"
   ]
  },
  {
   "cell_type": "code",
   "execution_count": 13,
   "id": "65a87ffc-81ae-4b61-8044-6d12255887f7",
   "metadata": {},
   "outputs": [
    {
     "data": {
      "text/latex": [
       "$\\displaystyle 5$"
      ],
      "text/plain": [
       "5"
      ]
     },
     "execution_count": 13,
     "metadata": {},
     "output_type": "execute_result"
    }
   ],
   "source": [
    "sp.var(\"ca\")\n",
    "sp.var(\"cn\")\n",
    "sp.var(\"r\")\n",
    "sp.var(\"p\")\n",
    "sp.var(\"n\")\n",
    "Total=156*ca+112*cn+60*r+58*p+72*n-6450\n",
    "Combos=ca+cn-38\n",
    "Refrescos=2*ca+r+cn-70\n",
    "Palomitas=p+ca-33\n",
    "Nachos=cn+n-16\n",
    "combos_ca=sp.solve(Combos,cn)[0]\n",
    "Refrescos_ca=sp.solve((Refrescos.subs(cn,combos_ca)),r)[0]\n",
    "Palomitas_ca=sp.solve(Palomitas,p)[0]\n",
    "Nachos_ca=sp.solve((Nachos.subs(cn,combos_ca)),n)[0]\n",
    "Total=Total.subs(cn,combos_ca)\n",
    "Total=Total.subs(r,Refrescos_ca)\n",
    "Total=Total.subs(p,Palomitas_ca)\n",
    "Total=Total.subs(n,Nachos_ca)\n",
    "Total=sp.solve(Total,ca)[0]\n",
    "TotalPalomitasSueltas=Palomitas_ca.subs(ca,Total)\n",
    "TotalPalomitasSueltas"
   ]
  },
  {
   "cell_type": "code",
   "execution_count": null,
   "id": "bc41bf74-c9a0-47db-9381-c39d2f675dd4",
   "metadata": {},
   "outputs": [],
   "source": []
  },
  {
   "cell_type": "code",
   "execution_count": null,
   "id": "52dce079-007e-40e2-bb15-af08a51dec11",
   "metadata": {},
   "outputs": [],
   "source": []
  },
  {
   "cell_type": "markdown",
   "id": "ab5836e7-1035-42cc-9c90-6f7178d2b733",
   "metadata": {},
   "source": [
    "## 2. Programación lineal"
   ]
  },
  {
   "cell_type": "markdown",
   "id": "86788769-18d8-49e5-9ec2-4ba4d8c0c1ce",
   "metadata": {},
   "source": [
    "Una empresa produce costales de 3 tipos de fertilizantes para diferentes aplicaciones utilizando cuantro componentes químicos: azufre, potasio, fósforo y nitrógeno. La información de cada tonelada de fertilizante es:\n"
   ]
  },
  {
   "cell_type": "markdown",
   "id": "2de8d90d-84ea-4537-887a-15127e2aaca7",
   "metadata": {},
   "source": [
    "<table>\n",
    "  <tr>\n",
    "      <th>Fertilizante</th>\n",
    "      <th>Fósforo</th>\n",
    "      <th>Azufre</th>\n",
    "      <th>Potasio</th>\n",
    "      <th>Nitrógeno</th>\n",
    "      <th>Precio de venta </th>\n",
    "  </tr>\n",
    "  <tr>\n",
    "      <td>A</td>\n",
    "      <td>3 kg</td>\n",
    "      <td>5 kg</td>\n",
    "      <td>4 kg</td>\n",
    "      <td>2 kg </td>\n",
    "      <td>\\$40000</td>\n",
    "  </tr>\n",
    "  <tr>\n",
    "      <td>B</td>\n",
    "      <td>4 kg</td>\n",
    "      <td>3 kg</td>\n",
    "      <td>2 kg</td>\n",
    "      <td>1 kg</td>\n",
    "      <td>\\$50000</td>\n",
    "  </tr>\n",
    "  <tr>\n",
    "      <td>C</td>\n",
    "      <td>5 kg</td>\n",
    "      <td>2 kg</td>\n",
    "      <td>3 kg</td>\n",
    "      <td>4 kg</td>\n",
    "      <td>\\$60000</td>\n",
    "  </tr>\n",
    "\n",
    "</table>"
   ]
  },
  {
   "cell_type": "markdown",
   "id": "c712fdf8-3adf-4294-aafc-50be5eb7743d",
   "metadata": {},
   "source": [
    "La máquina que se usa para mezclar el fertilizante C necesita mantenimiento y por lo tanto sólo puede mezclar 10 toneladas. Además, hay un pedido de 8 toneladas del fertilizante A."
   ]
  },
  {
   "cell_type": "markdown",
   "id": "52edf909-5367-4cd1-ba12-8a1341254de4",
   "metadata": {},
   "source": [
    "Dado que en almacén se tienen 90 kg de fósforo, 120 kg de nitrógeno, 80 kg de azufre y 95 kg de potasio, ¿cuánto recomiendas que se mezcle de cada fertilizante? (Nota: No se permiten fracciones de toneladas)"
   ]
  },
  {
   "cell_type": "markdown",
   "id": "24eee4e4-7b01-4c63-8103-d550726b1e69",
   "metadata": {},
   "source": [
    "Maximizar la ganancia\n",
    "\n",
    "$$ Ganancia=40000A+50000B+60000C$$"
   ]
  },
  {
   "cell_type": "markdown",
   "id": "a9ab35bb-a48c-4550-90bc-ae639b70d1a9",
   "metadata": {},
   "source": [
    "Fósforo\n",
    "$$3A+4B+5C \\leq 90 $$\n",
    "Azufre\n",
    "$$ 5A+3B+2C \\leq 80 $$\n",
    "Potasio\n",
    "$$ 4A+2B+3C \\leq 95 $$\n",
    "Nitrógeno\n",
    "$$ 2A+3B+2C \\leq 80 $$"
   ]
  },
  {
   "cell_type": "markdown",
   "id": "030d4c7c-e201-4b1f-906e-a53eaa781a8d",
   "metadata": {},
   "source": [
    "Fertilizante C\n",
    "$$ C\\leq 10 $$"
   ]
  },
  {
   "cell_type": "markdown",
   "id": "3a175e98-7de9-495a-bfa8-2a60a21ad0a9",
   "metadata": {},
   "source": [
    "Fertilizante A\n",
    "$$ A\\geq 8 $$"
   ]
  },
  {
   "cell_type": "code",
   "execution_count": 136,
   "id": "98828220-c85e-4cfe-93b2-e6d6377284a4",
   "metadata": {},
   "outputs": [
    {
     "data": {
      "text/plain": [
       "        message: Optimization terminated successfully. (HiGHS Status 7: Optimal)\n",
       "        success: True\n",
       "         status: 0\n",
       "            fun: -1130000.0\n",
       "              x: [ 8.000e+00  9.000e+00  6.000e+00]\n",
       "            nit: -1\n",
       "          lower:  residual: [ 8.000e+00  9.000e+00  6.000e+00]\n",
       "                 marginals: [ 0.000e+00  0.000e+00  0.000e+00]\n",
       "          upper:  residual: [       inf        inf        inf]\n",
       "                 marginals: [ 0.000e+00  0.000e+00  0.000e+00]\n",
       "          eqlin:  residual: []\n",
       "                 marginals: []\n",
       "        ineqlin:  residual: [ 0.000e+00  1.000e+00  2.700e+01  2.500e+01\n",
       "                              4.000e+00  0.000e+00]\n",
       "                 marginals: [ 0.000e+00  0.000e+00  0.000e+00  0.000e+00\n",
       "                              0.000e+00  0.000e+00]\n",
       " mip_node_count: 1\n",
       " mip_dual_bound: -1130000.0\n",
       "        mip_gap: 0.0"
      ]
     },
     "execution_count": 136,
     "metadata": {},
     "output_type": "execute_result"
    }
   ],
   "source": [
    "import numpy as np\n",
    "import scipy.optimize as opt\n",
    "c=np.array([-40000,-50000,-60000])\n",
    "Aub=np.array([\n",
    "    [3,4,5],\n",
    "    [5,3,2],\n",
    "    [4,2,3],\n",
    "    [2,3,2],\n",
    "    [0,0,1],\n",
    "    [-1,0,0],\n",
    "])\n",
    "bub=np.array([\n",
    "    [90],\n",
    "    [80],\n",
    "    [95],\n",
    "    [80],\n",
    "    [10],\n",
    "    [-8]\n",
    "])\n",
    "sol=opt.linprog(c,Aub,bub, integrality=1)\n",
    "sol"
   ]
  },
  {
   "cell_type": "markdown",
   "id": "37122386-1fe4-4c31-bd70-9da91932311c",
   "metadata": {},
   "source": [
    "¿Cuál es el ingreso total?"
   ]
  },
  {
   "cell_type": "code",
   "execution_count": 142,
   "id": "9f61898f-6812-495b-a83c-4e87c1e3546a",
   "metadata": {},
   "outputs": [
    {
     "data": {
      "text/plain": [
       "1130000.0"
      ]
     },
     "execution_count": 142,
     "metadata": {},
     "output_type": "execute_result"
    }
   ],
   "source": [
    "-1*sol.fun"
   ]
  },
  {
   "cell_type": "code",
   "execution_count": null,
   "id": "af18e068-430a-4d13-872f-6e6e68fdc4b7",
   "metadata": {},
   "outputs": [],
   "source": []
  },
  {
   "cell_type": "code",
   "execution_count": null,
   "id": "ee389e86-3b90-4d77-a520-51641e623b5f",
   "metadata": {},
   "outputs": [],
   "source": []
  },
  {
   "cell_type": "markdown",
   "id": "5944d4b6-a651-47ec-91d8-f6e3666d62a3",
   "metadata": {},
   "source": [
    "¿Cuánto fósforo quedó en almacén?"
   ]
  },
  {
   "cell_type": "code",
   "execution_count": 147,
   "id": "a5297246-a6ab-4adb-88b7-5002723775be",
   "metadata": {},
   "outputs": [
    {
     "data": {
      "text/plain": [
       "73.0"
      ]
     },
     "execution_count": 147,
     "metadata": {},
     "output_type": "execute_result"
    }
   ],
   "source": [
    "Fosfororestante=90-sol.x[0]-sol.x[1]\n",
    "Fosfororestante"
   ]
  },
  {
   "cell_type": "code",
   "execution_count": null,
   "id": "0f1201b7-55a2-4b79-95f1-7ff83c60dd35",
   "metadata": {},
   "outputs": [],
   "source": []
  },
  {
   "cell_type": "code",
   "execution_count": null,
   "id": "fc81e50f-0924-4684-9414-05f0a29e2379",
   "metadata": {},
   "outputs": [],
   "source": []
  },
  {
   "cell_type": "markdown",
   "id": "5837735d-4552-4fd3-919c-8c2250de718e",
   "metadata": {},
   "source": [
    "## 3. Regresión lineal"
   ]
  },
  {
   "cell_type": "markdown",
   "id": "4a308da2-7cba-4f2b-85f9-9b3655206ff2",
   "metadata": {},
   "source": [
    "Se quiere predecir la resistencia a la compresión de concreto en función de las proporciones de los componentes en la mezcla (cemento, arena, agua, agregado). La constructora que está realizando el análisis tiene datos históricos donde se registraron cantidades de materia y la resistencia medida:"
   ]
  },
  {
   "cell_type": "code",
   "execution_count": 31,
   "id": "7fd530bd-4cc0-4594-9fa4-e48a8d9eda0b",
   "metadata": {},
   "outputs": [
    {
     "data": {
      "text/html": [
       "<div>\n",
       "<style scoped>\n",
       "    .dataframe tbody tr th:only-of-type {\n",
       "        vertical-align: middle;\n",
       "    }\n",
       "\n",
       "    .dataframe tbody tr th {\n",
       "        vertical-align: top;\n",
       "    }\n",
       "\n",
       "    .dataframe thead th {\n",
       "        text-align: right;\n",
       "    }\n",
       "</style>\n",
       "<table border=\"1\" class=\"dataframe\">\n",
       "  <thead>\n",
       "    <tr style=\"text-align: right;\">\n",
       "      <th></th>\n",
       "      <th>Cemento (kg)</th>\n",
       "      <th>Arena (kg)</th>\n",
       "      <th>Agua (kg)</th>\n",
       "      <th>Agregado (kg)</th>\n",
       "      <th>Resistencia a la compresión (MPa)</th>\n",
       "    </tr>\n",
       "  </thead>\n",
       "  <tbody>\n",
       "    <tr>\n",
       "      <th>0</th>\n",
       "      <td>350</td>\n",
       "      <td>600</td>\n",
       "      <td>180</td>\n",
       "      <td>1000</td>\n",
       "      <td>35</td>\n",
       "    </tr>\n",
       "    <tr>\n",
       "      <th>1</th>\n",
       "      <td>400</td>\n",
       "      <td>550</td>\n",
       "      <td>160</td>\n",
       "      <td>1100</td>\n",
       "      <td>42</td>\n",
       "    </tr>\n",
       "    <tr>\n",
       "      <th>2</th>\n",
       "      <td>300</td>\n",
       "      <td>700</td>\n",
       "      <td>200</td>\n",
       "      <td>950</td>\n",
       "      <td>30</td>\n",
       "    </tr>\n",
       "    <tr>\n",
       "      <th>3</th>\n",
       "      <td>450</td>\n",
       "      <td>500</td>\n",
       "      <td>170</td>\n",
       "      <td>1200</td>\n",
       "      <td>50</td>\n",
       "    </tr>\n",
       "    <tr>\n",
       "      <th>4</th>\n",
       "      <td>380</td>\n",
       "      <td>580</td>\n",
       "      <td>175</td>\n",
       "      <td>1050</td>\n",
       "      <td>38</td>\n",
       "    </tr>\n",
       "    <tr>\n",
       "      <th>5</th>\n",
       "      <td>410</td>\n",
       "      <td>540</td>\n",
       "      <td>165</td>\n",
       "      <td>1150</td>\n",
       "      <td>44</td>\n",
       "    </tr>\n",
       "    <tr>\n",
       "      <th>6</th>\n",
       "      <td>320</td>\n",
       "      <td>650</td>\n",
       "      <td>185</td>\n",
       "      <td>980</td>\n",
       "      <td>32</td>\n",
       "    </tr>\n",
       "    <tr>\n",
       "      <th>7</th>\n",
       "      <td>370</td>\n",
       "      <td>590</td>\n",
       "      <td>172</td>\n",
       "      <td>1020</td>\n",
       "      <td>36</td>\n",
       "    </tr>\n",
       "    <tr>\n",
       "      <th>8</th>\n",
       "      <td>390</td>\n",
       "      <td>570</td>\n",
       "      <td>170</td>\n",
       "      <td>1080</td>\n",
       "      <td>40</td>\n",
       "    </tr>\n",
       "    <tr>\n",
       "      <th>9</th>\n",
       "      <td>360</td>\n",
       "      <td>610</td>\n",
       "      <td>190</td>\n",
       "      <td>970</td>\n",
       "      <td>34</td>\n",
       "    </tr>\n",
       "    <tr>\n",
       "      <th>10</th>\n",
       "      <td>340</td>\n",
       "      <td>630</td>\n",
       "      <td>182</td>\n",
       "      <td>990</td>\n",
       "      <td>33</td>\n",
       "    </tr>\n",
       "    <tr>\n",
       "      <th>11</th>\n",
       "      <td>430</td>\n",
       "      <td>520</td>\n",
       "      <td>165</td>\n",
       "      <td>1120</td>\n",
       "      <td>48</td>\n",
       "    </tr>\n",
       "    <tr>\n",
       "      <th>12</th>\n",
       "      <td>315</td>\n",
       "      <td>660</td>\n",
       "      <td>195</td>\n",
       "      <td>950</td>\n",
       "      <td>31</td>\n",
       "    </tr>\n",
       "    <tr>\n",
       "      <th>13</th>\n",
       "      <td>405</td>\n",
       "      <td>545</td>\n",
       "      <td>175</td>\n",
       "      <td>1060</td>\n",
       "      <td>43</td>\n",
       "    </tr>\n",
       "    <tr>\n",
       "      <th>14</th>\n",
       "      <td>425</td>\n",
       "      <td>530</td>\n",
       "      <td>168</td>\n",
       "      <td>1140</td>\n",
       "      <td>47</td>\n",
       "    </tr>\n",
       "    <tr>\n",
       "      <th>15</th>\n",
       "      <td>345</td>\n",
       "      <td>620</td>\n",
       "      <td>180</td>\n",
       "      <td>990</td>\n",
       "      <td>37</td>\n",
       "    </tr>\n",
       "    <tr>\n",
       "      <th>16</th>\n",
       "      <td>395</td>\n",
       "      <td>560</td>\n",
       "      <td>175</td>\n",
       "      <td>1040</td>\n",
       "      <td>41</td>\n",
       "    </tr>\n",
       "    <tr>\n",
       "      <th>17</th>\n",
       "      <td>355</td>\n",
       "      <td>605</td>\n",
       "      <td>185</td>\n",
       "      <td>1010</td>\n",
       "      <td>35</td>\n",
       "    </tr>\n",
       "    <tr>\n",
       "      <th>18</th>\n",
       "      <td>440</td>\n",
       "      <td>515</td>\n",
       "      <td>162</td>\n",
       "      <td>1160</td>\n",
       "      <td>49</td>\n",
       "    </tr>\n",
       "    <tr>\n",
       "      <th>19</th>\n",
       "      <td>310</td>\n",
       "      <td>670</td>\n",
       "      <td>198</td>\n",
       "      <td>940</td>\n",
       "      <td>29</td>\n",
       "    </tr>\n",
       "    <tr>\n",
       "      <th>20</th>\n",
       "      <td>385</td>\n",
       "      <td>575</td>\n",
       "      <td>178</td>\n",
       "      <td>1070</td>\n",
       "      <td>39</td>\n",
       "    </tr>\n",
       "    <tr>\n",
       "      <th>21</th>\n",
       "      <td>370</td>\n",
       "      <td>590</td>\n",
       "      <td>172</td>\n",
       "      <td>1030</td>\n",
       "      <td>36</td>\n",
       "    </tr>\n",
       "    <tr>\n",
       "      <th>22</th>\n",
       "      <td>425</td>\n",
       "      <td>535</td>\n",
       "      <td>170</td>\n",
       "      <td>1110</td>\n",
       "      <td>45</td>\n",
       "    </tr>\n",
       "    <tr>\n",
       "      <th>23</th>\n",
       "      <td>335</td>\n",
       "      <td>625</td>\n",
       "      <td>180</td>\n",
       "      <td>1025</td>\n",
       "      <td>33</td>\n",
       "    </tr>\n",
       "  </tbody>\n",
       "</table>\n",
       "</div>"
      ],
      "text/plain": [
       "    Cemento (kg)  Arena (kg)  Agua (kg)  Agregado (kg)  \\\n",
       "0            350         600        180           1000   \n",
       "1            400         550        160           1100   \n",
       "2            300         700        200            950   \n",
       "3            450         500        170           1200   \n",
       "4            380         580        175           1050   \n",
       "5            410         540        165           1150   \n",
       "6            320         650        185            980   \n",
       "7            370         590        172           1020   \n",
       "8            390         570        170           1080   \n",
       "9            360         610        190            970   \n",
       "10           340         630        182            990   \n",
       "11           430         520        165           1120   \n",
       "12           315         660        195            950   \n",
       "13           405         545        175           1060   \n",
       "14           425         530        168           1140   \n",
       "15           345         620        180            990   \n",
       "16           395         560        175           1040   \n",
       "17           355         605        185           1010   \n",
       "18           440         515        162           1160   \n",
       "19           310         670        198            940   \n",
       "20           385         575        178           1070   \n",
       "21           370         590        172           1030   \n",
       "22           425         535        170           1110   \n",
       "23           335         625        180           1025   \n",
       "\n",
       "    Resistencia a la compresión (MPa)  \n",
       "0                                  35  \n",
       "1                                  42  \n",
       "2                                  30  \n",
       "3                                  50  \n",
       "4                                  38  \n",
       "5                                  44  \n",
       "6                                  32  \n",
       "7                                  36  \n",
       "8                                  40  \n",
       "9                                  34  \n",
       "10                                 33  \n",
       "11                                 48  \n",
       "12                                 31  \n",
       "13                                 43  \n",
       "14                                 47  \n",
       "15                                 37  \n",
       "16                                 41  \n",
       "17                                 35  \n",
       "18                                 49  \n",
       "19                                 29  \n",
       "20                                 39  \n",
       "21                                 36  \n",
       "22                                 45  \n",
       "23                                 33  "
      ]
     },
     "execution_count": 31,
     "metadata": {},
     "output_type": "execute_result"
    }
   ],
   "source": [
    "import pandas as pd\n",
    "data = {\n",
    "    'Cemento (kg)': [350, 400, 300, 450, 380, 410, 320, 370, 390, 360, \n",
    "                     340, 430, 315, 405, 425, 345, 395, 355, 440, 310, \n",
    "                     385, 370, 425, 335],\n",
    "    'Arena (kg)': [600, 550, 700, 500, 580, 540, 650, 590, 570, 610, \n",
    "                   630, 520, 660, 545, 530, 620, 560, 605, 515, 670, \n",
    "                   575, 590, 535, 625],\n",
    "    'Agua (kg)': [180, 160, 200, 170, 175, 165, 185, 172, 170, 190, \n",
    "                  182, 165, 195, 175, 168, 180, 175, 185, 162, 198, \n",
    "                  178, 172, 170, 180],\n",
    "    'Agregado (kg)': [1000, 1100, 950, 1200, 1050, 1150, 980, 1020, 1080, 970, \n",
    "                      990, 1120, 950, 1060, 1140, 990, 1040, 1010, 1160, 940, \n",
    "                      1070, 1030, 1110, 1025],\n",
    "    'Resistencia a la compresión (MPa)': [35, 42, 30, 50, 38, 44, 32, 36, 40, 34, \n",
    "                                          33, 48, 31, 43, 47, 37, 41, 35, 49, 29, \n",
    "                                          39, 36, 45, 33]\n",
    "}\n",
    "data = pd.DataFrame(data)\n",
    "data"
   ]
  },
  {
   "cell_type": "markdown",
   "id": "f1cc1217-2c41-4082-961b-8369dd6f628a",
   "metadata": {},
   "source": [
    "Ajusta un modelo utilizando mínimos cuadrados para encontrar una función que pueda predecir la resistencia del concreto."
   ]
  },
  {
   "cell_type": "code",
   "execution_count": 33,
   "id": "ad291701-9ab6-494e-ab9f-0bbd017ced75",
   "metadata": {},
   "outputs": [
    {
     "data": {
      "text/plain": [
       "  message: Desired error not necessarily achieved due to precision loss.\n",
       "  success: False\n",
       "   status: 2\n",
       "      fun: 29.849890303582235\n",
       "        x: [-5.577e+01  1.374e-01  2.437e-02  1.946e-02  2.397e-02]\n",
       "      nit: 20\n",
       "      jac: [ 1.979e-03  7.520e-01  1.163e+00  3.335e-01  2.078e+00]\n",
       " hess_inv: [[ 4.499e+02 -5.332e-01 ...  1.577e-01 -2.731e-03]\n",
       "            [-5.332e-01  8.616e-04 ... -4.419e-04 -9.367e-05]\n",
       "            ...\n",
       "            [ 1.577e-01 -4.419e-04 ...  1.153e-03  7.713e-05]\n",
       "            [-2.731e-03 -9.367e-05 ...  7.713e-05  4.279e-05]]\n",
       "     nfev: 348\n",
       "     njev: 56"
      ]
     },
     "execution_count": 33,
     "metadata": {},
     "output_type": "execute_result"
    }
   ],
   "source": [
    "import numpy as np\n",
    "import scipy.optimize as opt\n",
    "x1=data[\"Cemento (kg)\"]\n",
    "x2=data[\"Arena (kg)\"]\n",
    "x3=data[\"Agua (kg)\"]\n",
    "x4=data[\"Agregado (kg)\"]\n",
    "y=data[\"Resistencia a la compresión (MPa)\"]\n",
    "n=len(y)\n",
    "ones=np.ones([n,1])\n",
    "factor_x1=np.reshape(x1,[n,1])\n",
    "factor_x2=np.reshape(x2,[n,1])\n",
    "factor_x3=np.reshape(x3,[n,1])\n",
    "factor_x4=np.reshape(x4,[n,1])\n",
    "X=np.hstack((ones,factor_x1,factor_x2,factor_x3,factor_x4))\n",
    "y_vector=np.reshape(y,[n,1])\n",
    "n,p=X.shape\n",
    "beta=np.random.rand(p)\n",
    "def F(beta,X,y):\n",
    "    beta=np.reshape(beta,[p,1])\n",
    "    y_pred=X@beta\n",
    "    error=y_pred-y\n",
    "    rss=error.T@error\n",
    "    return rss[0,0]\n",
    "B=opt.minimize(F,beta,args=(X,y_vector))\n",
    "B"
   ]
  },
  {
   "cell_type": "code",
   "execution_count": null,
   "id": "dc43a29f-8c10-4daf-bf78-772807c42946",
   "metadata": {},
   "outputs": [],
   "source": []
  },
  {
   "cell_type": "code",
   "execution_count": null,
   "id": "e0d9fb4e-2d6b-4477-933d-105ec1f43edd",
   "metadata": {},
   "outputs": [],
   "source": []
  },
  {
   "cell_type": "markdown",
   "id": "1415a350-3a0f-4697-b1d3-130b7e5950e8",
   "metadata": {},
   "source": [
    "¿Qué efecto tiene cada factor en la resistencia de la mezcla?"
   ]
  },
  {
   "cell_type": "code",
   "execution_count": 35,
   "id": "b32d1b87-e9e4-40b6-9cfb-ad50dca0ba51",
   "metadata": {},
   "outputs": [
    {
     "data": {
      "text/plain": [
       "array([-5.57675735e+01,  1.37393414e-01,  2.43727156e-02,  1.94596214e-02,\n",
       "        2.39716987e-02])"
      ]
     },
     "execution_count": 35,
     "metadata": {},
     "output_type": "execute_result"
    }
   ],
   "source": [
    "B.x"
   ]
  },
  {
   "cell_type": "markdown",
   "id": "0c00ea96-42da-436f-9aa7-8e1124ae2033",
   "metadata": {},
   "source": [
    "Por cada kilogramo de cemento, afecta 1.37379167e-01 veces, por cada de Arena  2.43593758e-02, por cada de agua  1.94843394e-02 y por cada de agregado 2.39738515e-02"
   ]
  },
  {
   "cell_type": "code",
   "execution_count": null,
   "id": "f404a6bf-816e-439f-9e8a-f9bb588af731",
   "metadata": {},
   "outputs": [],
   "source": []
  },
  {
   "cell_type": "markdown",
   "id": "89a911f1-641a-45c4-b4b8-b2f86ce5b5e6",
   "metadata": {},
   "source": [
    "¿Cuál será la resistencia si mezclo 390 kg de cemento, 570 kg de arena, 170 kg de agua y 1080 kg de agregado?"
   ]
  },
  {
   "cell_type": "code",
   "execution_count": 38,
   "id": "3e57568b-fc14-4798-a2cd-7c8d64e9b0da",
   "metadata": {},
   "outputs": [
    {
     "data": {
      "text/plain": [
       "40.905733854000005"
      ]
     },
     "execution_count": 38,
     "metadata": {},
     "output_type": "execute_result"
    }
   ],
   "source": [
    "Resistencia=-5.57610828e+01 + 1.37379167e-01*390+2.43593758e-02*570+1.94843394e-02*170+2.39738515e-02*1080\n",
    "Resistencia"
   ]
  },
  {
   "cell_type": "code",
   "execution_count": null,
   "id": "5df90f5c-8da7-421d-8996-b36ecdbefa69",
   "metadata": {},
   "outputs": [],
   "source": []
  },
  {
   "cell_type": "code",
   "execution_count": null,
   "id": "b8566955-e2d1-4673-90b3-83c7e5b4ec79",
   "metadata": {},
   "outputs": [],
   "source": []
  },
  {
   "cell_type": "markdown",
   "id": "077149c9-ed47-438a-bf64-f715a817727d",
   "metadata": {},
   "source": [
    "## 4. Regresión logística"
   ]
  },
  {
   "cell_type": "markdown",
   "id": "0e9a4289-4c6e-4851-a1f4-3cc8cc3ab833",
   "metadata": {},
   "source": [
    "Un equipo de ingenieros quiere saber si una muestra de concreto hidráulico fallará o no bajo determinadas condiciones, basándose en experiencias pasadas.\n",
    "\n",
    "<table>\r\n",
    "  <thead>\r\n",
    "    <tr>\r\n",
    "      <th>Resistencia a la compresión (MPa)</th>\r\n",
    "      <th>Edad del concreto (días)</th>\r\n",
    "      <th>Relación agua-cemento</th>\r\n",
    "      <th>Falla (Sí/No)</th>\r\n",
    "    </tr>\r\n",
    "  </thead>\r\n",
    "  <tbody>\r\n",
    "    <tr>\r\n",
    "      <td>25</td>\r\n",
    "      <td>28</td>\r\n",
    "      <td>0.45</td>\r\n",
    "      <td>Sí</td>\r\n",
    "    </tr>\r\n",
    "    <tr>\r\n",
    "      <td>40</td>\r\n",
    "      <td>56</td>\r\n",
    "      <td>0.35</td>\r\n",
    "      <td>No</td>\r\n",
    "    </tr>\r\n",
    "    <tr>\r\n",
    "      <td>30</td>\r\n",
    "      <td>28</td>\r\n",
    "      <td>0.50</td>\r\n",
    "      <td>Sí</td>\r\n",
    "    </tr>\r\n",
    "    <tr>\r\n",
    "      <td>50</td>\r\n",
    "      <td>90</td>\r\n",
    "      <td>0.30</td>\r\n",
    "      <td>No</td>\r\n",
    "    </tr>\r\n",
    "    <tr>\r\n",
    "      <td>35</td>\r\n",
    "      <td>28</td>\r\n",
    "      <td>0.40</td>\r\n",
    "      <td>Sí</td>\r\n",
    "    </tr>\r\n",
    "    <tr>\r\n",
    "      <td>55</td>\r\n",
    "      <td>120</td>\r\n",
    "      <td>0.32</td>\r\n",
    "      <td>No</td>\r\n",
    "    </tr>\r\n",
    "    <tr>\r\n",
    "      <td>45</td>\r\n",
    "      <td>60</td>\r\n",
    "      <td>0.36</td>\r\n",
    "      <td>No</td>\r\n",
    "    </tr>\r\n",
    "    <tr>\r\n",
    "      <td>20</td>\r\n",
    "      <td>7</td>\r\n",
    "      <td>0.55</td>\r\n",
    "      <td>Sí</td>\r\n",
    "    </tr>\r\n",
    "  </tbody>\r\n",
    "</table>\n"
   ]
  },
  {
   "cell_type": "markdown",
   "id": "5911243f-05cf-4009-896d-1ff1354fc1bf",
   "metadata": {},
   "source": [
    "1. ¿Qué factor afecta más? (Utiliza un vector de ceros como tu beta inicial)"
   ]
  },
  {
   "cell_type": "code",
   "execution_count": 42,
   "id": "fdbfa562-bad0-4897-b432-b51e954d2350",
   "metadata": {},
   "outputs": [],
   "source": [
    "MPa=np.array([[25],[40],[30],[50],[35],[55],[45],[20]])\n",
    "Edad=np.array([[28],[56],[28],[90],[28],[120],[60],[7]])\n",
    "Relacion=np.array([[0.45],[0.35],[0.50],[0.30],[0.40],[0.32],[0.36],[0.55]])\n",
    "Falla=np.array([[1],[0],[1],[0],[1],[0],[0],[1]])"
   ]
  },
  {
   "cell_type": "code",
   "execution_count": 43,
   "id": "6b949c91-a3ea-4baa-ad91-9e95997b49ab",
   "metadata": {},
   "outputs": [],
   "source": [
    "Y=Falla"
   ]
  },
  {
   "cell_type": "code",
   "execution_count": 44,
   "id": "49eba297-c977-4ee2-97e3-e609328653cb",
   "metadata": {},
   "outputs": [
    {
     "data": {
      "text/plain": [
       "array([[  1.  ,  25.  ,  28.  ,   0.45],\n",
       "       [  1.  ,  40.  ,  56.  ,   0.35],\n",
       "       [  1.  ,  30.  ,  28.  ,   0.5 ],\n",
       "       [  1.  ,  50.  ,  90.  ,   0.3 ],\n",
       "       [  1.  ,  35.  ,  28.  ,   0.4 ],\n",
       "       [  1.  ,  55.  , 120.  ,   0.32],\n",
       "       [  1.  ,  45.  ,  60.  ,   0.36],\n",
       "       [  1.  ,  20.  ,   7.  ,   0.55]])"
      ]
     },
     "execution_count": 44,
     "metadata": {},
     "output_type": "execute_result"
    }
   ],
   "source": [
    "N=len(Y)\n",
    "Ones=np.ones([N,1])\n",
    "XX=np.hstack((Ones,MPa,Edad,Relacion))\n",
    "Y_vector=np.reshape(Y,[N,1])\n",
    "XX"
   ]
  },
  {
   "cell_type": "code",
   "execution_count": 87,
   "id": "07ff36bc-6c1b-4950-b3c7-7f2884216e28",
   "metadata": {},
   "outputs": [
    {
     "data": {
      "text/plain": [
       "  message: Optimization terminated successfully.\n",
       "  success: True\n",
       "   status: 0\n",
       "      fun: 2.1236079788292108e-07\n",
       "        x: [ 2.223e+01  2.043e+00 -2.254e+00  1.432e+01]\n",
       "      nit: 28\n",
       "      jac: [ 9.686e-08  5.215e-06  7.354e-06  4.470e-08]\n",
       " hess_inv: [[ 3.268e+06  2.756e+05 -3.119e+05  2.104e+06]\n",
       "            [ 2.756e+05  2.324e+04 -2.630e+04  1.775e+05]\n",
       "            [-3.119e+05 -2.630e+04  2.977e+04 -2.009e+05]\n",
       "            [ 2.104e+06  1.775e+05 -2.009e+05  1.355e+06]]\n",
       "     nfev: 155\n",
       "     njev: 31"
      ]
     },
     "execution_count": 87,
     "metadata": {},
     "output_type": "execute_result"
    }
   ],
   "source": [
    "def P(Beta,XX):\n",
    "    return(1/(1+np.exp(-XX@Beta)))\n",
    "\n",
    "def J(Beta,XX,Y):\n",
    "    epsilon=1e-45\n",
    "    n,p=XX.shape\n",
    "    Beta=np.reshape(Beta,[p,1])\n",
    "    Y_pred=P(Beta,XX)\n",
    "    e=Y*np.log(Y_pred+epsilon)+(1-Y)*np.log(1-Y_pred+epsilon)\n",
    "    return -np.sum(e)\n",
    "\n",
    "BETA=np.array([0, 0, 0, 0])\n",
    "RL=opt.minimize(J,BETA,args=(XX,Y_vector))\n",
    "RL"
   ]
  },
  {
   "cell_type": "markdown",
   "id": "507337c2-1ef4-4abf-99d4-319dadfaf2d3",
   "metadata": {},
   "source": [
    "2. Calcula la probabilidad de falla para una muestra con las siguientes características:\n",
    "- Resistencia a la compresión: 38 MPa\n",
    "- Edad del concreto: 30 días\n",
    "- Relación agua-cemento: 0.40"
   ]
  },
  {
   "cell_type": "code",
   "execution_count": 125,
   "id": "e57b36c0-7e0f-4e30-951e-fe4851a668e4",
   "metadata": {},
   "outputs": [],
   "source": [
    "prueba=np.array([1,38,30,0.40])"
   ]
  },
  {
   "cell_type": "code",
   "execution_count": 127,
   "id": "019f45a7-ed5f-4677-bc4a-0c15c4b46c59",
   "metadata": {},
   "outputs": [
    {
     "data": {
      "text/plain": [
       "1.0"
      ]
     },
     "execution_count": 127,
     "metadata": {},
     "output_type": "execute_result"
    }
   ],
   "source": [
    "P(prueba,RL.x)"
   ]
  },
  {
   "cell_type": "markdown",
   "id": "2b52f29d-dc91-4a83-845d-a29e336942f0",
   "metadata": {},
   "source": [
    "100% de probabilidad"
   ]
  },
  {
   "cell_type": "code",
   "execution_count": null,
   "id": "a563dbbb-30a1-472c-9872-90ef81c5837a",
   "metadata": {},
   "outputs": [],
   "source": []
  }
 ],
 "metadata": {
  "kernelspec": {
   "display_name": "Python 3 (ipykernel)",
   "language": "python",
   "name": "python3"
  },
  "language_info": {
   "codemirror_mode": {
    "name": "ipython",
    "version": 3
   },
   "file_extension": ".py",
   "mimetype": "text/x-python",
   "name": "python",
   "nbconvert_exporter": "python",
   "pygments_lexer": "ipython3",
   "version": "3.12.4"
  }
 },
 "nbformat": 4,
 "nbformat_minor": 5
}
