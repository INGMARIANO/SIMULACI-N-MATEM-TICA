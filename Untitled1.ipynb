{
  "metadata": {
    "kernelspec": {
      "name": "python",
      "display_name": "Python (Pyodide)",
      "language": "python"
    },
    "language_info": {
      "codemirror_mode": {
        "name": "python",
        "version": 3
      },
      "file_extension": ".py",
      "mimetype": "text/x-python",
      "name": "python",
      "nbconvert_exporter": "python",
      "pygments_lexer": "ipython3",
      "version": "3.8"
    }
  },
  "nbformat_minor": 4,
  "nbformat": 4,
  "cells": [
    {
      "cell_type": "code",
      "source": "",
      "metadata": {
        "trusted": true
      },
      "outputs": [],
      "execution_count": null
    },
    {
      "cell_type": "markdown",
      "source": "# A04-simpy",
      "metadata": {}
    },
    {
      "cell_type": "markdown",
      "source": "# Mariano Villanueva Aguilar 29/08/2024",
      "metadata": {}
    },
    {
      "cell_type": "markdown",
      "source": "1. Utiliza sympy y encuentra los valores de las incógnitas que hagan que los siguientes sistemas sean verdaderos",
      "metadata": {}
    },
    {
      "cell_type": "markdown",
      "source": "$$ x+y=10 $$\n$$ x-y=2 $$",
      "metadata": {}
    },
    {
      "cell_type": "code",
      "source": "import sympy as sp\nsp.var(\"x\")\nsp.var(\"y\")\neq1=x+y-10\neq2=x-y-2\nx_eq1=sp.solve(eq1,x)[0]\ny_eq2=eq2.subs(x,x_eq1)\ny_sol=sp.solve(y_eq2,y)[0]\nx_sol=x_eq1.subs(y,y_sol)\nx_sol,y_sol",
      "metadata": {
        "trusted": true
      },
      "outputs": [
        {
          "execution_count": 5,
          "output_type": "execute_result",
          "data": {
            "text/plain": "(6, 4)"
          },
          "metadata": {}
        }
      ],
      "execution_count": 5
    },
    {
      "cell_type": "markdown",
      "source": "$$ \\frac{3x-2y}{3} +4y=\\frac{13}{3} $$\n$$ \\frac{2(-2y+x)}{3} -\\frac{3x}{2}=-\\frac{13}{6} $$",
      "metadata": {}
    },
    {
      "cell_type": "code",
      "source": "sp.var(\"x\")\nsp.var(\"y\")\neq1=((3*x-2*y)/3)+4*y-13/3\neq2=((2*(-2*y+x))/3)-((3*x)/2)+13/6\nx_eq1=sp.solve(eq1,x)[0]\ny_eq2=eq2.subs(x,x_eq1)\ny_sol=sp.solve(y_eq2,y)[0]\nx_sol=x_eq1.subs(y,y_sol)\nx_sol,y_sol",
      "metadata": {
        "trusted": true
      },
      "outputs": [
        {
          "execution_count": 6,
          "output_type": "execute_result",
          "data": {
            "text/plain": "(1.00000000000000, 1.00000000000000)"
          },
          "metadata": {}
        }
      ],
      "execution_count": 6
    },
    {
      "cell_type": "markdown",
      "source": "$$ x^2-2y=16 $$\n$$ x-y=3 $$",
      "metadata": {}
    },
    {
      "cell_type": "code",
      "source": "sp.var(\"x\")\nsp.var(\"y\")\neq1=x-y-3\neq2=x**2-2*y-16\nx_eq1=sp.solve(eq1,x)[0]\ny_eq2=eq2.subs(x,x_eq1)\ny_sol=sp.solve(y_eq2,y)[0]\nx_sol=x_eq1.subs(y,y_sol)\nprint(\"El primer par de soluciones es\")\nx_sol,y_sol",
      "metadata": {
        "trusted": true
      },
      "outputs": [
        {
          "name": "stdout",
          "text": "El primer par de soluciones es\n",
          "output_type": "stream"
        },
        {
          "execution_count": 19,
          "output_type": "execute_result",
          "data": {
            "text/plain": "(1 + sqrt(11), -2 + sqrt(11))"
          },
          "metadata": {}
        }
      ],
      "execution_count": 19
    },
    {
      "cell_type": "markdown",
      "source": "sp.var(\"x\")\nsp.var(\"y\")\neq1=x-y-3\neq2=x**2-2*y-16\nx_eq1=sp.solve(eq1,x)[0]\ny_eq2=eq2.subs(x,x_eq1)\ny_sol=sp.solve(y_eq2,y)[1]\nx_sol=x_eq1.subs(y,y_sol)\nprint(\"El segundo  par de soluciones es\")\nx_sol,y_sol",
      "metadata": {}
    },
    {
      "cell_type": "markdown",
      "source": "$$ x+y-z=10 $$\n$$x-y=2 $$\n$$y+z=-2 $$",
      "metadata": {}
    },
    {
      "cell_type": "code",
      "source": "sp.var(\"x\")\nsp.var(\"y\")\nsp.var(\"z\")\neq1=x-y-2\neq2=y+z+2\neq3=x+y+z-10\nx_eq1=sp.solve(eq1,x)[0]\nz_eq2=sp.solve(eq2,z)[0]\nsusy=eq3.subs(x,x_eq1)\nsusy=susy.subs(z,z_eq2)\nsoly=sp.solve(susy,y)[0]\nsolx=x_eq1.subs(y,soly)\nsolz=z_eq2.subs(y,soly)\nsolx,soly,solz",
      "metadata": {
        "trusted": true
      },
      "outputs": [
        {
          "execution_count": 101,
          "output_type": "execute_result",
          "data": {
            "text/plain": "(12, 10, -12)"
          },
          "metadata": {}
        }
      ],
      "execution_count": 101
    },
    {
      "cell_type": "markdown",
      "source": "2. Encuentra los puntos críticos usando cálculo diferencial, decide si son máximos o mínimos usando el criterio de la segunda derivada y grafica para decidir si son optimos locales o globales",
      "metadata": {}
    },
    {
      "cell_type": "markdown",
      "source": "$$ f(x)=1235+113x-6x^2 $$",
      "metadata": {}
    },
    {
      "cell_type": "code",
      "source": "import matplotlib.pyplot as plt\nimport numpy as np\nsp.var(\"x\")\nsp.var(\"y\")\nf=1235+113*x-6*x**2\ndf=sp.diff(f,x)\ncrit=sp.solve(df,x)\nprint(crit)\ndf2=sp.diff(df,x)\nprint(df2.subs(x, crit[0]))\ndef f(x):\n    return 1235+113*x-6*x**2\nxn=np.linspace(-5,15,100)\n\nplt.plot(xn, f(xn))\nif(df2.subs(x, crit[0])>0):\n    print(\"Es un mínimo\")\nelif(df2.subs(x, crit[0])<10):\n    print(\"Es un máximo\")\nelse:\n    print(\"No es considerable\")",
      "metadata": {
        "trusted": true
      },
      "outputs": [
        {
          "name": "stdout",
          "text": "[113/12]\n-12\nEs un máximo\n",
          "output_type": "stream"
        },
        {
          "output_type": "display_data",
          "data": {
            "text/plain": "<Figure size 640x480 with 1 Axes>",
            "image/png": "[encoded data removed]"
          },
          "metadata": {}
        }
      ],
      "execution_count": 128
    },
    {
      "cell_type": "markdown",
      "source": "$$ f(x)=-3+x+\\frac{\\pi}{x} $$",
      "metadata": {}
    },
    {
      "cell_type": "markdown",
      "source": "$$ f(x)=2-3x+\\sqrt(8-2x^2) $$",
      "metadata": {}
    },
    {
      "cell_type": "code",
      "source": "",
      "metadata": {
        "trusted": true
      },
      "outputs": [],
      "execution_count": null
    }
  ]
}