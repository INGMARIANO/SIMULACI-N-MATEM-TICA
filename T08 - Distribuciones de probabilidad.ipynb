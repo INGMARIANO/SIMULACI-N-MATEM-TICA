{
 "cells": [
  {
   "cell_type": "markdown",
   "id": "6f1db48a-d9dd-40f9-80e1-6ededc59b509",
   "metadata": {},
   "source": [
    "# T08 - Distribuciones de probabilidad"
   ]
  },
  {
   "cell_type": "markdown",
   "id": "e5316270-066b-4f75-93af-fa33463d318c",
   "metadata": {},
   "source": [
    "# Mariano Villanueva Aguilar\n",
    "# 23/10/2024"
   ]
  },
  {
   "cell_type": "markdown",
   "id": "6f82f24b-6ddf-49a7-a7bb-56fdce64a4f0",
   "metadata": {},
   "source": [
    "1.- Un proyecto de construcción está por comenzar. Se hace la compra de los materiales y el proveedor dice que en promedio tardan una semana con una desviación de 3 días en llegar. Una vez llegados los materiales se tarda entre 3 y 5 semanas en construir (uniforme). Después de la construcción se deben esperar 3 días antes de empezar a pintar, y toma 6 días en promedio con 2 días de desviación estándar hacerlo.\r\n",
    "\r\n",
    "a) Describe en una celda qué distribución usarías para cada paso del proceso\r\n",
    "\r\n",
    "b) Simula cada paso en el proceso un millón de veces\r\n",
    "\r\n",
    "c) Agrupa las simulaciones de cada paso para tener la simulación del proceso completo\r\n",
    "\r\n",
    "d) ¿Cuál es el tiempo promedio para de inicio-fin del proyecto?\r\n",
    "\r\n",
    "e) De acuerdo a tus simulaciones, ¿cuál es el peor caso? ¿cuál es el mejor caso?\r\n",
    "\r\n",
    "f) Si el proyecto se tiene que entregar a más tardar en 50 días o se tiene que pagar una compensación al cliente, ¿cuál es la probabilidad de que el proyecto se entregue a tiempo?\r\n",
    "\r\n",
    "g) ¿Cuál es la probabilidad de que el proyecto tome entre 20 y 40 días?"
   ]
  },
  {
   "cell_type": "code",
   "execution_count": null,
   "id": "1d0f7b53-9e98-4cfd-a3a0-6417d5b59527",
   "metadata": {},
   "outputs": [],
   "source": []
  },
  {
   "cell_type": "markdown",
   "id": "54214d34-120e-4577-91b7-f0be2ab73ea1",
   "metadata": {},
   "source": [
    "a) Usaría una distribución normal para la entrega de materiales, para la construcción una uniforme y para la pintura una normal"
   ]
  },
  {
   "cell_type": "code",
   "execution_count": 5,
   "id": "c98cdef6-7fab-4c1e-9b99-be9a3b4c1219",
   "metadata": {},
   "outputs": [],
   "source": [
    "#Inciso b\n",
    "import numpy as np\n",
    "\n",
    "n=1000000\n",
    "Materiales=np.random.normal(7,3,n)\n",
    "Construccion=np.random.uniform(21,35,n)\n",
    "Pintura=np.random.normal(6,2,n)\n",
    "Materiales,Construccion,Pintura\n",
    "Esperapintura=3"
   ]
  },
  {
   "cell_type": "code",
   "execution_count": 6,
   "id": "46772f28-620a-40a2-a108-f21aaab4ae50",
   "metadata": {},
   "outputs": [
    {
     "data": {
      "text/plain": [
       "array([48.19310271, 44.90046029, 50.43225929, ..., 45.33075745,\n",
       "       33.66137502, 40.42806405])"
      ]
     },
     "execution_count": 6,
     "metadata": {},
     "output_type": "execute_result"
    }
   ],
   "source": [
    "#Inciso c\n",
    "Todo=Construccion+Pintura+Materiales+Esperapintura\n",
    "Todo"
   ]
  },
  {
   "cell_type": "code",
   "execution_count": 7,
   "id": "1ace0f39-bac1-445e-aab0-8123c50f1ca0",
   "metadata": {},
   "outputs": [
    {
     "data": {
      "text/plain": [
       "43.98728809320981"
      ]
     },
     "execution_count": 7,
     "metadata": {},
     "output_type": "execute_result"
    }
   ],
   "source": [
    "#Inciso d\n",
    "Todo.mean()"
   ]
  },
  {
   "cell_type": "code",
   "execution_count": 8,
   "id": "ab1811ae-41a7-47fa-b862-3ead0bc664d0",
   "metadata": {},
   "outputs": [
    {
     "data": {
      "text/plain": [
       "11.312366995930372"
      ]
     },
     "execution_count": 8,
     "metadata": {},
     "output_type": "execute_result"
    }
   ],
   "source": [
    "#Inciso \n",
    "#Mejor caso:\n",
    "Construccion.min()+Pintura.min()+Materiales.min()+Esperapintura"
   ]
  },
  {
   "cell_type": "code",
   "execution_count": 9,
   "id": "3ca6ea43-10c8-4c70-b183-8070bf301882",
   "metadata": {},
   "outputs": [
    {
     "data": {
      "text/plain": [
       "73.93091137023656"
      ]
     },
     "execution_count": 9,
     "metadata": {},
     "output_type": "execute_result"
    }
   ],
   "source": [
    "#Peor caso\n",
    "Construccion.max()+Pintura.max()+Materiales.max()+Esperapintura"
   ]
  },
  {
   "cell_type": "code",
   "execution_count": 10,
   "id": "e75a0228-13af-4957-aa82-4ecb7313292a",
   "metadata": {},
   "outputs": [
    {
     "data": {
      "text/plain": [
       "0.858426"
      ]
     },
     "execution_count": 10,
     "metadata": {},
     "output_type": "execute_result"
    }
   ],
   "source": [
    "#Inciso f\n",
    "Probaincisof=np.mean(Todo<=50)\n",
    "Probaincisof"
   ]
  },
  {
   "cell_type": "code",
   "execution_count": 11,
   "id": "ad1b9f75-3c7a-42a8-92fc-45ae490d2386",
   "metadata": {},
   "outputs": [
    {
     "data": {
      "text/plain": [
       "0.244908"
      ]
     },
     "execution_count": 11,
     "metadata": {},
     "output_type": "execute_result"
    }
   ],
   "source": [
    "#Inciso g\n",
    "Probaincisog=np.mean((Todo>=20)&(Todo<=40))\n",
    "Probaincisog"
   ]
  },
  {
   "cell_type": "code",
   "execution_count": null,
   "id": "390827a3-4373-490e-ad4c-c4805ff040e3",
   "metadata": {},
   "outputs": [],
   "source": []
  },
  {
   "cell_type": "markdown",
   "id": "458a40b4-7550-450d-af35-133ba16d59df",
   "metadata": {},
   "source": [
    "2.- Hay un elevador pequeño en una plaza donde se espera que entren máximo 4 personas a la vez, y su capacidad de peso para poder operar es de 300 kg. En el último censo se encontró que habían 378350 personas en la zona:\n",
    "\n",
    "185392 mujeres\n",
    "162690 hombres\n",
    "30268 personas que o prefirieron no dar la información o se identificaron como no binarias\n",
    "El peso promedio medido en mujeres es de 70 kg con una desviación estándar de 11 kg. En los hombres se midió un peso promedio de 80 kg y una desviación estándar de 16 kg. En el tercer grupo se midió un peso promedio de 73 kg con una desviación estándar de 12 kg.\n",
    "\n",
    "a) Si el elevador se llenara 10,000 veces, ¿cuántas de esas veces se excedería el peso permitido?\n",
    "\n",
    "b) ¿Qué peso total tendría que soportar el elevador si se quiere que el 95% de las veces que se llene no se exceda el peso permitido?"
   ]
  },
  {
   "cell_type": "code",
   "execution_count": 13,
   "id": "b3e15415-242d-4983-94c9-22e449e33b30",
   "metadata": {},
   "outputs": [
    {
     "data": {
      "text/plain": [
       "4678"
      ]
     },
     "execution_count": 13,
     "metadata": {},
     "output_type": "execute_result"
    }
   ],
   "source": [
    "import random\n",
    "n=10000\n",
    "mujeres=185392\n",
    "hombres=162690\n",
    "binario=30268\n",
    "totalpersonas=378350\n",
    "\n",
    "probmujeres=mujeres/totalpersonas\n",
    "probhombres=hombres/totalpersonas\n",
    "probbinario=binario/totalpersonas\n",
    "\n",
    "\n",
    "\n",
    "excesopeso=0\n",
    "pesoscompletos=[]\n",
    "for i in range (n):\n",
    "    totalpeso=0\n",
    "    for g in range(4):\n",
    "        genero=np.random.choice([\"mujer\",\"hombre\",\"binario\"], p=[probmujeres,probhombres,probbinario])\n",
    "        if genero==\"mujer\":\n",
    "            peso=np.random.normal(70,11)\n",
    "            totalpeso+=peso\n",
    "        elif genero==\"hombre\":\n",
    "            peso=np.random.normal(80,16)\n",
    "            totalpeso+=peso\n",
    "        else:\n",
    "            peso=np.random.normal(73,12)\n",
    "            totalpeso+=peso\n",
    "    pesoscompletos.append(totalpeso)\n",
    "    if totalpeso>=300:\n",
    "        excesopeso+=1\n",
    "#Inciso a\n",
    "excesopeso"
   ]
  },
  {
   "cell_type": "code",
   "execution_count": 14,
   "id": "4126880d-7d14-46c7-8b28-9153c8e935de",
   "metadata": {},
   "outputs": [
    {
     "data": {
      "text/plain": [
       "346.93066090820827"
      ]
     },
     "execution_count": 14,
     "metadata": {},
     "output_type": "execute_result"
    }
   ],
   "source": [
    "#Inciso b\n",
    "np.percentile(pesoscompletos,95)"
   ]
  },
  {
   "cell_type": "code",
   "execution_count": null,
   "id": "1b223217-ac8c-4b60-a91b-fcbd2915554f",
   "metadata": {},
   "outputs": [],
   "source": []
  },
  {
   "cell_type": "markdown",
   "id": "8005e5a4-bdf9-4362-8462-1f9a48bcadfa",
   "metadata": {},
   "source": [
    "3.- Tienes diez dados justos. Si arrojas todos al mismo tiempo, ¿cuál es la probabilidad de que la suma de los dados sea múltiplo de 6?"
   ]
  },
  {
   "cell_type": "code",
   "execution_count": 16,
   "id": "4dbc0903-53ed-430a-9d63-58d29eb3603d",
   "metadata": {},
   "outputs": [
    {
     "data": {
      "text/plain": [
       "15.97"
      ]
     },
     "execution_count": 16,
     "metadata": {},
     "output_type": "execute_result"
    }
   ],
   "source": [
    "NN=10\n",
    "Repetir=10000\n",
    "casos=[]\n",
    "necesitamos=0\n",
    "for i in range (Repetir):\n",
    "    dados=np.random.randint(1,7,NN).sum()\n",
    "    casos.append(dados)\n",
    "for z in range(Repetir):\n",
    "    multiplo=(casos[z])%6\n",
    "    if multiplo==0:\n",
    "        necesitamos+=1\n",
    "(necesitamos/Repetir)*100"
   ]
  },
  {
   "cell_type": "markdown",
   "id": "e108380c-323e-4ba3-9576-7fb94e2eb011",
   "metadata": {},
   "source": [
    "4.- A y B juegan al siguiente juego: un número k del 1 al 6 es elegido, y A y B avientan el dado por turnos hasta que alguien consiga que el dado caiga en k. El ganador recibe $100.\n",
    "\n",
    "a) ¿Cuál es la probabilidad de que el primer jugador gane?\n",
    "\n",
    "b) ¿Cuál es la probabilidad de que el segundo jugador gane?\n",
    "\n",
    "c) ¿Cuánto vale la pena pagar para ir primero?"
   ]
  },
  {
   "cell_type": "code",
   "execution_count": 85,
   "id": "a1f4450a-c2fa-4c39-bf2c-339dee4471d6",
   "metadata": {},
   "outputs": [
    {
     "data": {
      "text/plain": [
       "(54855, 45145)"
      ]
     },
     "execution_count": 85,
     "metadata": {},
     "output_type": "execute_result"
    }
   ],
   "source": [
    "NNN=100000\n",
    "GanaA=0\n",
    "GanaB=0\n",
    "\n",
    "for f in range(NNN):\n",
    "    DadoA=np.random.randint(1,7)\n",
    "    DadoB=np.random.randint(1,7)\n",
    "    k=np.random.randint(1,7)\n",
    "    if k==DadoA:\n",
    "        GanaA+=1\n",
    "    elif k==DadoB:\n",
    "        GanaB+=1\n",
    "    else:\n",
    "        while k!=DadoA or k!=DadoB:\n",
    "            DadoA=np.random.randint(1,7)\n",
    "            DadoB=np.random.randint(1,7)\n",
    "            if k==DadoA:\n",
    "                GanaA+=1\n",
    "                break\n",
    "            elif k==DadoB:\n",
    "                GanaB+=1\n",
    "                break\n",
    "        \n",
    "GanaA, GanaB"
   ]
  },
  {
   "cell_type": "code",
   "execution_count": 95,
   "id": "cf4497c6-8807-45ac-a556-0c1d595f45e9",
   "metadata": {},
   "outputs": [
    {
     "data": {
      "text/plain": [
       "0.54855"
      ]
     },
     "execution_count": 95,
     "metadata": {},
     "output_type": "execute_result"
    }
   ],
   "source": [
    "#Inciso a\n",
    "ProbganaA=(GanaA/NNN)\n",
    "ProbganaA"
   ]
  },
  {
   "cell_type": "code",
   "execution_count": 97,
   "id": "0cc81fed-bb12-4d25-a812-e3bf7fd77e1f",
   "metadata": {},
   "outputs": [
    {
     "data": {
      "text/plain": [
       "0.45145"
      ]
     },
     "execution_count": 97,
     "metadata": {},
     "output_type": "execute_result"
    }
   ],
   "source": [
    "#Inciso b\n",
    "ProbganaB=(GanaB/NNN)\n",
    "ProbganaB"
   ]
  },
  {
   "cell_type": "code",
   "execution_count": 101,
   "id": "18931d24-87fa-472a-aaa1-acb7fb728f0e",
   "metadata": {},
   "outputs": [
    {
     "data": {
      "text/plain": [
       "9.709999999999997"
      ]
     },
     "execution_count": 101,
     "metadata": {},
     "output_type": "execute_result"
    }
   ],
   "source": [
    "#Inciso c\n",
    "(ProbganaA-ProbganaB)*100"
   ]
  },
  {
   "cell_type": "markdown",
   "id": "fc22de50-6a61-403a-b165-7498ff9b7cd5",
   "metadata": {},
   "source": [
    "Eso sería el maximo que se le puede dar para ir en primer lugar, que es la diferencia de probabilidad entre el grupo a y b, no obstante si se le puede regatear mejor"
   ]
  },
  {
   "cell_type": "code",
   "execution_count": 111,
   "id": "b1b60bb1-846d-454e-add4-ad5d5f795e11",
   "metadata": {},
   "outputs": [
    {
     "data": {
      "text/plain": [
       "9.090909090909092"
      ]
     },
     "execution_count": 111,
     "metadata": {},
     "output_type": "execute_result"
    }
   ],
   "source": [
    "(1/11)*100"
   ]
  },
  {
   "cell_type": "code",
   "execution_count": null,
   "id": "33f24a8a-0851-49d1-82ee-f842a7a1f894",
   "metadata": {},
   "outputs": [],
   "source": []
  }
 ],
 "metadata": {
  "kernelspec": {
   "display_name": "Python 3 (ipykernel)",
   "language": "python",
   "name": "python3"
  },
  "language_info": {
   "codemirror_mode": {
    "name": "ipython",
    "version": 3
   },
   "file_extension": ".py",
   "mimetype": "text/x-python",
   "name": "python",
   "nbconvert_exporter": "python",
   "pygments_lexer": "ipython3",
   "version": "3.12.4"
  }
 },
 "nbformat": 4,
 "nbformat_minor": 5
}
